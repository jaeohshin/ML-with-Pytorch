{
  "cells": [
    {
      "cell_type": "markdown",
      "metadata": {
        "id": "view-in-github",
        "colab_type": "text"
      },
      "source": [
        "<a href=\"https://colab.research.google.com/github/jaeohshin/pytorch/blob/main/3_1_stochastic_gradient_descent_v3.ipynb\" target=\"_parent\"><img src=\"https://colab.research.google.com/assets/colab-badge.svg\" alt=\"Open In Colab\"/></a>"
      ]
    },
    {
      "cell_type": "markdown",
      "metadata": {
        "id": "58d9505b-0f50-497d-8bc6-27ac69629f8b"
      },
      "source": [
        "<p style=\"text-align:center\">\n",
        "    <a href=\"https://skills.network/?utm_medium=Exinfluencer&utm_source=Exinfluencer&utm_content=000026UJ&utm_term=10006555&utm_id=NA-SkillsNetwork-Channel-SkillsNetworkCoursesIBMDeveloperSkillsNetworkDL0110ENSkillsNetwork952-2022-01-01\" target=\"_blank\">\n",
        "    <img src=\"https://cf-courses-data.s3.us.cloud-object-storage.appdomain.cloud/assets/logos/SN_web_lightmode.png\" width=\"200\" alt=\"Skills Network Logo\"  />\n",
        "    </a>\n",
        "</p>\n"
      ]
    },
    {
      "cell_type": "markdown",
      "metadata": {
        "id": "ee4a331e-91d9-430c-8702-aa4fe8d4f51f"
      },
      "source": [
        "<h1>Linear regression 1D: Training Two Parameter Stochastic Gradient Descent (SGD)</h1>\n"
      ]
    },
    {
      "cell_type": "markdown",
      "metadata": {
        "id": "1e61fcdd-c700-4902-9797-2e7dcb9e9014"
      },
      "source": [
        "<h2>Objective</h2><ul><li> How to use SGD(Stochastic Gradient Descent) to train the model.</li></ul> \n"
      ]
    },
    {
      "cell_type": "markdown",
      "metadata": {
        "id": "ef2cdc72-3933-4501-8b34-bb6a800c871d"
      },
      "source": [
        "<h2>Table of Contents</h2>\n",
        "<p>In this Lab, you will practice training a model by using Stochastic Gradient descent.</p>\n",
        "\n",
        "<ul>\n",
        "    <li><a href=\"#Makeup_Data\">Make Some Data</a></li>\n",
        "    <li><a href=\"#Model_Cost\">Create the Model and Cost Function (Total Loss)</a></li>\n",
        "    <li><a href=\"#BGD\">Train the Model:Batch Gradient Descent</a></li>\n",
        "    <li><a href=\"#SGD\">Train the Model:Stochastic gradient descent</a></li>\n",
        "    <li><a href=\"#SGD_Loader\">Train the Model:Stochastic gradient descent with Data Loader</a></li>\n",
        "</ul>\n",
        "<p>Estimated Time Needed: <strong>30 min</strong></p>\n",
        "\n",
        "<hr>\n"
      ]
    },
    {
      "cell_type": "markdown",
      "metadata": {
        "id": "d6d649b7-9fb2-4716-89f9-5d6ddb0a55f6"
      },
      "source": [
        "<h2>Preparation</h2>\n"
      ]
    },
    {
      "cell_type": "markdown",
      "metadata": {
        "id": "d7b0227d-3b61-45c8-9ab9-746f6c484db5"
      },
      "source": [
        "We'll need the following libraries:  \n"
      ]
    },
    {
      "cell_type": "code",
      "metadata": {
        "id": "19c43f93-3d25-4e78-93dc-0a44806a4748"
      },
      "outputs": [],
      "source": [
        "# These are the libraries we are going to use in the lab.\n",
        "\n",
        "import torch\n",
        "import matplotlib.pyplot as plt\n",
        "import numpy as np\n",
        "\n",
        "from mpl_toolkits import mplot3d"
      ],
      "execution_count": null
    },
    {
      "cell_type": "markdown",
      "metadata": {
        "id": "b9b2efb1-7a47-4118-b5a1-fdfdd53dd132"
      },
      "source": [
        "The class <code>plot_error_surfaces</code> is just to help you visualize the data space and the parameter space during training and has nothing to do with PyTorch.\n"
      ]
    },
    {
      "cell_type": "code",
      "metadata": {
        "id": "b44ced2c-d0f7-492b-8dc7-163a9dbe9ed8"
      },
      "outputs": [],
      "source": [
        "# The class for plot the diagram\n",
        "\n",
        "class plot_error_surfaces(object):\n",
        "    \n",
        "    # Constructor\n",
        "    def __init__(self, w_range, b_range, X, Y, n_samples = 30, go = True):\n",
        "        W = np.linspace(-w_range, w_range, n_samples)\n",
        "        B = np.linspace(-b_range, b_range, n_samples)\n",
        "        w, b = np.meshgrid(W, B)    \n",
        "        Z = np.zeros((30, 30))\n",
        "        count1 = 0\n",
        "        self.y = Y.numpy()\n",
        "        self.x = X.numpy()\n",
        "        for w1, b1 in zip(w, b):\n",
        "            count2 = 0\n",
        "            for w2, b2 in zip(w1, b1):\n",
        "                Z[count1, count2] = np.mean((self.y - w2 * self.x + b2) ** 2)\n",
        "                count2 += 1\n",
        "            count1 += 1\n",
        "        self.Z = Z\n",
        "        self.w = w\n",
        "        self.b = b\n",
        "        self.W = []\n",
        "        self.B = []\n",
        "        self.LOSS = []\n",
        "        self.n = 0\n",
        "        if go == True:\n",
        "            plt.figure()\n",
        "            plt.figure(figsize = (7.5, 5))\n",
        "            plt.axes(projection = '3d').plot_surface(self.w, self.b, self.Z, rstride = 1, cstride = 1,cmap = 'viridis', edgecolor = 'none')\n",
        "            plt.title('Loss Surface')\n",
        "            plt.xlabel('w')\n",
        "            plt.ylabel('b')\n",
        "            plt.show()\n",
        "            plt.figure()\n",
        "            plt.title('Loss Surface Contour')\n",
        "            plt.xlabel('w')\n",
        "            plt.ylabel('b')\n",
        "            plt.contour(self.w, self.b, self.Z)\n",
        "            plt.show()\n",
        "    \n",
        "    # Setter\n",
        "    def set_para_loss(self, W, B, loss):\n",
        "        self.n = self.n + 1\n",
        "        self.W.append(W)\n",
        "        self.B.append(B)\n",
        "        self.LOSS.append(loss)\n",
        "    \n",
        "    # Plot diagram\n",
        "    def final_plot(self): \n",
        "        ax = plt.axes(projection = '3d')\n",
        "        ax.plot_wireframe(self.w, self.b, self.Z)\n",
        "        ax.scatter(self.W, self.B, self.LOSS, c = 'r', marker = 'x', s = 200, alpha = 1)\n",
        "        plt.figure()\n",
        "        plt.contour(self.w, self.b, self.Z)\n",
        "        plt.scatter(self.W, self.B, c = 'r', marker = 'x')\n",
        "        plt.xlabel('w')\n",
        "        plt.ylabel('b')\n",
        "        plt.show()\n",
        "    \n",
        "    # Plot diagram\n",
        "    def plot_ps(self):\n",
        "        plt.subplot(121)\n",
        "        plt.ylim\n",
        "        plt.plot(self.x, self.y, 'ro', label = \"training points\")\n",
        "        plt.plot(self.x, self.W[-1] * self.x + self.B[-1], label = \"estimated line\")\n",
        "        plt.xlabel('x')\n",
        "        plt.ylabel('y')\n",
        "        plt.ylim((-10, 15))\n",
        "        plt.title('Data Space Iteration: ' + str(self.n))\n",
        "        plt.subplot(122)\n",
        "        plt.contour(self.w, self.b, self.Z)\n",
        "        plt.scatter(self.W, self.B, c = 'r', marker = 'x')\n",
        "        plt.title('Loss Surface Contour Iteration' + str(self.n))\n",
        "        plt.xlabel('w')\n",
        "        plt.ylabel('b')\n",
        "        plt.show()"
      ],
      "execution_count": null
    },
    {
      "cell_type": "markdown",
      "metadata": {
        "id": "10ae6012-fdfb-4471-970a-0f2b61d804d4"
      },
      "source": [
        "<!--Empty Space for separating topics-->\n"
      ]
    },
    {
      "cell_type": "markdown",
      "metadata": {
        "id": "0c53ee17-533e-4576-9b86-b2f5cd7bf42e"
      },
      "source": [
        "<h2 id=\"Makeup_Data\">Make Some Data</h2>\n"
      ]
    },
    {
      "cell_type": "markdown",
      "metadata": {
        "id": "172ab645-6db1-4195-8133-0d9e527aebef"
      },
      "source": [
        "Set random seed: \n"
      ]
    },
    {
      "cell_type": "code",
      "metadata": {
        "id": "d306e59a-e39c-43af-b226-9372bc101326"
      },
      "outputs": [],
      "source": [
        "# Set random seed\n",
        "\n",
        "torch.manual_seed(1)"
      ],
      "execution_count": null
    },
    {
      "cell_type": "markdown",
      "metadata": {
        "id": "a01dfd68-1863-4661-9d4b-ecba7dab8043"
      },
      "source": [
        "Generate values from <i>-3</i> to <i>3</i> that create a line with a slope of <i>1</i> and a bias of <i>-1</i>. This is the line that you need to estimate. Add some noise to the data:\n"
      ]
    },
    {
      "cell_type": "code",
      "metadata": {
        "id": "44533f65-bc71-4398-bd35-4038138d7a20"
      },
      "outputs": [],
      "source": [
        "# Setup the actual data and simulated data\n",
        "\n",
        "X = torch.arange(-3, 3, 0.1).view(-1, 1)\n",
        "f = 1 * X - 1\n",
        "Y = f + 0.1 * torch.randn(X.size())"
      ],
      "execution_count": null
    },
    {
      "cell_type": "markdown",
      "metadata": {
        "id": "b09a1d40-6eea-4a73-82fd-2b8feb153d3c"
      },
      "source": [
        "Plot the results:\n"
      ]
    },
    {
      "cell_type": "code",
      "metadata": {
        "id": "38b86c34-3f31-489f-88c5-c347fa700ed3"
      },
      "outputs": [],
      "source": [
        "# Plot out the data dots and line\n",
        "\n",
        "plt.plot(X.numpy(), Y.numpy(), 'rx', label = 'y')\n",
        "plt.plot(X.numpy(), f.numpy(), label = 'f')\n",
        "plt.xlabel('x')\n",
        "plt.ylabel('y')\n",
        "plt.legend()\n",
        "plt.show()"
      ],
      "execution_count": null
    },
    {
      "cell_type": "markdown",
      "metadata": {
        "id": "be57dbf0-7acf-4cc8-8e72-3dc0e3a5f0cc"
      },
      "source": [
        "<!--Empty Space for separating topics-->\n"
      ]
    },
    {
      "cell_type": "markdown",
      "metadata": {
        "id": "0a988975-1de2-4670-b912-0f7e5efd55a9"
      },
      "source": [
        "<h2 id=\"Model_Cost\">Create the Model and Cost Function (Total Loss)</h2>\n"
      ]
    },
    {
      "cell_type": "markdown",
      "metadata": {
        "id": "6d213e1d-f18c-4414-ab98-350dcb235a93"
      },
      "source": [
        "Define the <code>forward</code> function:\n"
      ]
    },
    {
      "cell_type": "code",
      "metadata": {
        "id": "3a987911-8fdc-43ce-ab30-300acd52a666"
      },
      "outputs": [],
      "source": [
        "# Define the forward function\n",
        "\n",
        "def forward(x):\n",
        "    return w * x + b"
      ],
      "execution_count": null
    },
    {
      "cell_type": "markdown",
      "metadata": {
        "id": "d1ab365d-16b5-42dd-90e4-1b34b33d5a96"
      },
      "source": [
        "Define the cost or criterion function (MSE): \n"
      ]
    },
    {
      "cell_type": "code",
      "metadata": {
        "id": "0967b7c6-4cbd-4b8d-8ed3-d0ee8ee71cab"
      },
      "outputs": [],
      "source": [
        "# Define the MSE Loss function\n",
        "\n",
        "def criterion(yhat, y):\n",
        "    return torch.mean((yhat - y) ** 2)"
      ],
      "execution_count": null
    },
    {
      "cell_type": "markdown",
      "metadata": {
        "id": "c549eb7d-4f69-44ab-b5a8-97f0645ac7ef"
      },
      "source": [
        "Create a <code> plot_error_surfaces</code> object to visualize the data space and the parameter space during training:\n"
      ]
    },
    {
      "cell_type": "code",
      "metadata": {
        "id": "7309af4a-0422-4598-b6c7-7eb02fc68293"
      },
      "outputs": [],
      "source": [
        "# Create plot_error_surfaces for viewing the data\n",
        "\n",
        "get_surface = plot_error_surfaces(15, 13, X, Y, 30)"
      ],
      "execution_count": null
    },
    {
      "cell_type": "markdown",
      "metadata": {
        "id": "638816c6-f760-4c61-9359-00134f7feca5"
      },
      "source": [
        "<!--Empty Space for separating topics-->\n"
      ]
    },
    {
      "cell_type": "markdown",
      "metadata": {
        "id": "2a77cf01-6457-4085-bec3-39068a74aaf2"
      },
      "source": [
        "<h2 id=\"BGD\">Train the Model: Batch Gradient Descent</h2>\n"
      ]
    },
    {
      "cell_type": "markdown",
      "metadata": {
        "id": "9744322a-b197-4e05-9c20-15f4261cae53"
      },
      "source": [
        "Create model parameters <code>w</code>, <code>b</code> by setting the argument <code>requires_grad</code> to True because the system must learn it.\n"
      ]
    },
    {
      "cell_type": "code",
      "metadata": {
        "id": "5ccb7313-7b7b-4a4e-aa8d-bcfc2aa4ca29"
      },
      "outputs": [],
      "source": [
        "# Define the parameters w, b for y = wx + b\n",
        "\n",
        "w = torch.tensor(-15.0, requires_grad = True)\n",
        "b = torch.tensor(-10.0, requires_grad = True)"
      ],
      "execution_count": null
    },
    {
      "cell_type": "markdown",
      "metadata": {
        "id": "a9a51b5d-9e9d-4bd7-bb5f-8ea4c21ad12b"
      },
      "source": [
        "Set the learning rate to  0.1 and create an empty list <code>LOSS</code> for storing the loss for each iteration.\n"
      ]
    },
    {
      "cell_type": "code",
      "metadata": {
        "id": "72d597db-4ee2-4788-8df2-e3d2748c8c6f"
      },
      "outputs": [],
      "source": [
        "# Define learning rate and create an empty list for containing the loss for each iteration.\n",
        "\n",
        "lr = 0.1\n",
        "LOSS_BGD = []"
      ],
      "execution_count": null
    },
    {
      "cell_type": "markdown",
      "metadata": {
        "id": "09c39984-2ef4-4da6-a592-f5b4b7158b3a"
      },
      "source": [
        "Define <code>train_model</code> function for train the model.\n"
      ]
    },
    {
      "cell_type": "code",
      "metadata": {
        "id": "27c745de-5ac4-42cb-891c-67ff3a614520"
      },
      "outputs": [],
      "source": [
        "# The function for training the model\n",
        "\n",
        "def train_model(iter):\n",
        "    \n",
        "    # Loop\n",
        "    for epoch in range(iter):\n",
        "        \n",
        "        # make a prediction\n",
        "        Yhat = forward(X)\n",
        "        \n",
        "        # calculate the loss \n",
        "        loss = criterion(Yhat, Y)\n",
        "\n",
        "        # Section for plotting\n",
        "        get_surface.set_para_loss(w.data.tolist(), b.data.tolist(), loss.tolist())\n",
        "        get_surface.plot_ps()\n",
        "            \n",
        "        # store the loss in the list LOSS_BGD\n",
        "        LOSS_BGD.append(loss)\n",
        "        \n",
        "        # backward pass: compute gradient of the loss with respect to all the learnable parameters\n",
        "        loss.backward()\n",
        "        \n",
        "        # update parameters slope and bias\n",
        "        w.data = w.data - lr * w.grad.data\n",
        "        b.data = b.data - lr * b.grad.data\n",
        "        \n",
        "        # zero the gradients before running the backward pass\n",
        "        w.grad.data.zero_()\n",
        "        b.grad.data.zero_()"
      ],
      "execution_count": null
    },
    {
      "cell_type": "markdown",
      "metadata": {
        "id": "412a17b9-17a3-453a-82e7-5e0c9e7d480c"
      },
      "source": [
        "Run 10 epochs of batch gradient descent: <b>bug</b> data space is 1 iteration ahead of parameter space. \n"
      ]
    },
    {
      "cell_type": "code",
      "metadata": {
        "id": "074d3733-d1f9-4278-a0b4-380df24e3c5b"
      },
      "outputs": [],
      "source": [
        "# Train the model with 10 iterations\n",
        "\n",
        "train_model(10)"
      ],
      "execution_count": null
    },
    {
      "cell_type": "markdown",
      "metadata": {
        "id": "f186b044-a96a-4cc4-88f7-b9dfbe6469ca"
      },
      "source": [
        "<!--Empty Space for separating topics-->\n"
      ]
    },
    {
      "cell_type": "markdown",
      "metadata": {
        "id": "723fadd0-70df-4528-9fd6-8ae45913886f"
      },
      "source": [
        "<h2 id=\"SGD\">Train the Model: Stochastic Gradient Descent</h2>\n"
      ]
    },
    {
      "cell_type": "markdown",
      "metadata": {
        "id": "034db9a6-ce01-437f-aa6d-2c157866066c"
      },
      "source": [
        "Create a <code>plot_error_surfaces</code> object to visualize the data space and the parameter space during training:\n"
      ]
    },
    {
      "cell_type": "code",
      "metadata": {
        "id": "48222895-0394-4aa3-a4fc-01a4fcec8fd0"
      },
      "outputs": [],
      "source": [
        "# Create plot_error_surfaces for viewing the data\n",
        "\n",
        "get_surface = plot_error_surfaces(15, 13, X, Y, 30, go = False)"
      ],
      "execution_count": null
    },
    {
      "cell_type": "markdown",
      "metadata": {
        "id": "7d9bfeb6-0c78-40a6-833d-83f73b711c4a"
      },
      "source": [
        "Define <code>train_model_SGD</code> function for training the model.\n"
      ]
    },
    {
      "cell_type": "code",
      "metadata": {
        "id": "d6332d90-1dc8-47a4-bae0-0a0113fd7de4"
      },
      "outputs": [],
      "source": [
        "# The function for training the model\n",
        "\n",
        "LOSS_SGD = []\n",
        "w = torch.tensor(-15.0, requires_grad = True)\n",
        "b = torch.tensor(-10.0, requires_grad = True)\n",
        "\n",
        "def train_model_SGD(iter):\n",
        "    \n",
        "    # Loop\n",
        "    for epoch in range(iter):\n",
        "        \n",
        "        # SGD is an approximation of out true total loss/cost, in this line of code we calculate our true loss/cost and store it\n",
        "        Yhat = forward(X)\n",
        "\n",
        "        # store the loss \n",
        "        LOSS_SGD.append(criterion(Yhat, Y).tolist())\n",
        "        \n",
        "        for x, y in zip(X, Y):\n",
        "            \n",
        "            # make a pridiction\n",
        "            yhat = forward(x)\n",
        "        \n",
        "            # calculate the loss \n",
        "            loss = criterion(yhat, y)\n",
        "\n",
        "            # Section for plotting\n",
        "            get_surface.set_para_loss(w.data.tolist(), b.data.tolist(), loss.tolist())\n",
        "        \n",
        "            # backward pass: compute gradient of the loss with respect to all the learnable parameters\n",
        "            loss.backward()\n",
        "        \n",
        "            # update parameters slope and bias\n",
        "            w.data = w.data - lr * w.grad.data\n",
        "            b.data = b.data - lr * b.grad.data\n",
        "\n",
        "            # zero the gradients before running the backward pass\n",
        "            w.grad.data.zero_()\n",
        "            b.grad.data.zero_()\n",
        "            \n",
        "        #plot surface and data space after each epoch    \n",
        "        get_surface.plot_ps()"
      ],
      "execution_count": null
    },
    {
      "cell_type": "markdown",
      "metadata": {
        "id": "1d98d021-c1c5-4eaa-8375-ea4d3e105efd"
      },
      "source": [
        "Run 10 epochs of stochastic gradient descent: <b>bug</b> data space is 1 iteration ahead of parameter space. \n"
      ]
    },
    {
      "cell_type": "code",
      "metadata": {
        "id": "4b82c60e-4bac-41cc-865b-571e2255cc51"
      },
      "outputs": [],
      "source": [
        "# Train the model with 10 iterations\n",
        "\n",
        "train_model_SGD(10)"
      ],
      "execution_count": null
    },
    {
      "cell_type": "markdown",
      "metadata": {
        "id": "125b95c9-8124-41a3-8e23-507dfbf50a34"
      },
      "source": [
        "Compare the loss of both batch gradient descent as SGD.\n"
      ]
    },
    {
      "cell_type": "code",
      "metadata": {
        "id": "59444b00-2fe7-4986-ad42-57d0138f3986"
      },
      "outputs": [],
      "source": [
        "# Plot out the LOSS_BGD and LOSS_SGD\n",
        "\n",
        "plt.plot(LOSS_BGD,label = \"Batch Gradient Descent\")\n",
        "plt.plot(LOSS_SGD,label = \"Stochastic Gradient Descent\")\n",
        "plt.xlabel('epoch')\n",
        "plt.ylabel('Cost/ total loss')\n",
        "plt.legend()\n",
        "plt.show()"
      ],
      "execution_count": null
    },
    {
      "cell_type": "markdown",
      "metadata": {
        "id": "afb50b79-96ad-4252-b02c-fdc8678cb861"
      },
      "source": [
        "<!--Empty Space for separating topics-->\n"
      ]
    },
    {
      "cell_type": "markdown",
      "metadata": {
        "id": "e9f74351-bcdc-4b33-94aa-701d3f4d1e82"
      },
      "source": [
        "<h2 id=\"SGD_Loader\">SGD with Dataset DataLoader</h2>\n"
      ]
    },
    {
      "cell_type": "markdown",
      "metadata": {
        "id": "8782257e-2d26-49f3-82fb-1bb8091d75d6"
      },
      "source": [
        "Import the module for building a dataset class: \n"
      ]
    },
    {
      "cell_type": "code",
      "metadata": {
        "id": "ca4399e1-7dbf-4260-b859-6905a2ec6d2b"
      },
      "outputs": [],
      "source": [
        "# Import the library for DataLoader\n",
        "\n",
        "from torch.utils.data import Dataset, DataLoader"
      ],
      "execution_count": null
    },
    {
      "cell_type": "markdown",
      "metadata": {
        "id": "772f8cb1-bc24-4073-82bb-00405325d53d"
      },
      "source": [
        "Create a dataset class:\n"
      ]
    },
    {
      "cell_type": "code",
      "metadata": {
        "id": "70f85ff0-a3ce-4b12-be30-203831c6117b"
      },
      "outputs": [],
      "source": [
        "# Dataset Class\n",
        "\n",
        "class Data(Dataset):\n",
        "    \n",
        "    # Constructor\n",
        "    def __init__(self):\n",
        "        self.x = torch.arange(-3, 3, 0.1).view(-1, 1)\n",
        "        self.y = 1 * self.x - 1\n",
        "        self.len = self.x.shape[0]\n",
        "        \n",
        "    # Getter\n",
        "    def __getitem__(self,index):    \n",
        "        return self.x[index], self.y[index]\n",
        "    \n",
        "    # Return the length\n",
        "    def __len__(self):\n",
        "        return self.len"
      ],
      "execution_count": null
    },
    {
      "cell_type": "markdown",
      "metadata": {
        "id": "06ac9b06-1b75-455f-bbe9-17d407649544"
      },
      "source": [
        "Create a dataset object and check the length of the dataset.\n"
      ]
    },
    {
      "cell_type": "code",
      "metadata": {
        "id": "e9215227-31fa-4cd8-b6d6-2adf5c185dab"
      },
      "outputs": [],
      "source": [
        "# Create the dataset and check the length\n",
        "\n",
        "dataset = Data()\n",
        "print(\"The length of dataset: \", len(dataset))"
      ],
      "execution_count": null
    },
    {
      "cell_type": "markdown",
      "metadata": {
        "id": "4efb7faf-8652-4741-8791-681ef6b51f56"
      },
      "source": [
        "Obtain the first training point:  \n"
      ]
    },
    {
      "cell_type": "code",
      "metadata": {
        "id": "85cace88-684a-4dcd-a676-6c90038c1144"
      },
      "outputs": [],
      "source": [
        "# Print the first point\n",
        "\n",
        "x, y = dataset[0]\n",
        "print(\"(\", x, \", \", y, \")\")"
      ],
      "execution_count": null
    },
    {
      "cell_type": "markdown",
      "metadata": {
        "id": "caddfb10-1951-487d-9a72-6c5927b64eeb"
      },
      "source": [
        "Similarly, obtain the first three training points:  \n"
      ]
    },
    {
      "cell_type": "code",
      "metadata": {
        "id": "73a164ca-867d-43cb-8f95-3d7cfff915da"
      },
      "outputs": [],
      "source": [
        "# Print the first 3 point\n",
        "\n",
        "x, y = dataset[0:3]\n",
        "print(\"The first 3 x: \", x)\n",
        "print(\"The first 3 y: \", y)"
      ],
      "execution_count": null
    },
    {
      "cell_type": "markdown",
      "metadata": {
        "id": "206dc98e-9316-474a-8aa2-4eeeea15bae3"
      },
      "source": [
        "Create a <code>plot_error_surfaces</code> object to visualize the data space and the parameter space during training:\n"
      ]
    },
    {
      "cell_type": "code",
      "metadata": {
        "id": "4985cbf2-d3f2-4cf6-b006-d4a97cbde866"
      },
      "outputs": [],
      "source": [
        "# Create plot_error_surfaces for viewing the data\n",
        "\n",
        "get_surface = plot_error_surfaces(15, 13, X, Y, 30, go = False)"
      ],
      "execution_count": null
    },
    {
      "cell_type": "markdown",
      "metadata": {
        "id": "f9528b2a-7458-4586-ab12-c6797e507e81"
      },
      "source": [
        "Create a <code>DataLoader</code> object by using the constructor: \n"
      ]
    },
    {
      "cell_type": "code",
      "metadata": {
        "id": "f10ab708-cd4d-4b1f-83d3-caf0ead38ff0"
      },
      "outputs": [],
      "source": [
        "# Create DataLoader\n",
        "\n",
        "trainloader = DataLoader(dataset = dataset, batch_size = 1)"
      ],
      "execution_count": null
    },
    {
      "cell_type": "markdown",
      "metadata": {
        "id": "bdec30f7-d8a0-422f-ab2c-8ee53a1f67fd"
      },
      "source": [
        "Define <code>train_model_DataLoader</code> function for training the model.\n"
      ]
    },
    {
      "cell_type": "code",
      "metadata": {
        "id": "71a7c203-6b5d-445a-a6c7-8c89e7376cab"
      },
      "outputs": [],
      "source": [
        "# The function for training the model\n",
        "\n",
        "w = torch.tensor(-15.0,requires_grad=True)\n",
        "b = torch.tensor(-10.0,requires_grad=True)\n",
        "LOSS_Loader = []\n",
        "\n",
        "def train_model_DataLoader(epochs):\n",
        "    \n",
        "    # Loop\n",
        "    for epoch in range(epochs):\n",
        "        \n",
        "        # SGD is an approximation of out true total loss/cost, in this line of code we calculate our true loss/cost and store it\n",
        "        Yhat = forward(X)\n",
        "        \n",
        "        # store the loss \n",
        "        LOSS_Loader.append(criterion(Yhat, Y).tolist())\n",
        "        \n",
        "        for x, y in trainloader:\n",
        "            \n",
        "            # make a prediction\n",
        "            yhat = forward(x)\n",
        "            \n",
        "            # calculate the loss\n",
        "            loss = criterion(yhat, y)\n",
        "            \n",
        "            # Section for plotting\n",
        "            get_surface.set_para_loss(w.data.tolist(), b.data.tolist(), loss.tolist())\n",
        "            \n",
        "            # Backward pass: compute gradient of the loss with respect to all the learnable parameters\n",
        "            loss.backward()\n",
        "            \n",
        "            # Updata parameters slope\n",
        "            w.data = w.data - lr * w.grad.data\n",
        "            b.data = b.data - lr* b.grad.data\n",
        "            \n",
        "            # Clear gradients \n",
        "            w.grad.data.zero_()\n",
        "            b.grad.data.zero_()\n",
        "            \n",
        "        #plot surface and data space after each epoch    \n",
        "        get_surface.plot_ps()"
      ],
      "execution_count": null
    },
    {
      "cell_type": "markdown",
      "metadata": {
        "id": "8b2b21b3-b98c-4995-b154-0df680dad427"
      },
      "source": [
        "Run 10 epochs of stochastic gradient descent: <b>bug</b> data space is 1 iteration ahead of parameter space. \n"
      ]
    },
    {
      "cell_type": "code",
      "metadata": {
        "id": "26ff9815-24d1-432d-9bd1-4d49504b5d64"
      },
      "outputs": [],
      "source": [
        "# Run 10 iterations\n",
        "\n",
        "train_model_DataLoader(10)"
      ],
      "execution_count": null
    },
    {
      "cell_type": "markdown",
      "metadata": {
        "id": "b015977e-72ef-48c7-a7c6-673714aff158"
      },
      "source": [
        "Compare the loss of both batch gradient decent as SGD. Note that SGD converges to a minimum faster, that is, it decreases faster. \n"
      ]
    },
    {
      "cell_type": "code",
      "metadata": {
        "id": "66fc655e-f1d8-4b82-b028-7a3bc8d8f46b"
      },
      "outputs": [],
      "source": [
        "# Plot the LOSS_BGD and LOSS_Loader\n",
        "\n",
        "plt.plot(LOSS_BGD,label=\"Batch Gradient Descent\")\n",
        "plt.plot(LOSS_Loader,label=\"Stochastic Gradient Descent with DataLoader\")\n",
        "plt.xlabel('epoch')\n",
        "plt.ylabel('Cost/ total loss')\n",
        "plt.legend()\n",
        "plt.show()"
      ],
      "execution_count": null
    },
    {
      "cell_type": "markdown",
      "metadata": {
        "id": "797b3326-0e93-4dd1-8912-477dc3c28797"
      },
      "source": [
        "<h3>Practice</h3>\n"
      ]
    },
    {
      "cell_type": "markdown",
      "metadata": {
        "id": "3eb0435e-53c9-4c22-a826-884cbac168da"
      },
      "source": [
        "For practice, try to use SGD with DataLoader to train model with 10 iterations. Store the total loss in <code>LOSS</code>. We are going to use it in the next question.\n"
      ]
    },
    {
      "cell_type": "code",
      "metadata": {
        "id": "538a00b1-0eed-4b34-af3b-23473e076517"
      },
      "outputs": [],
      "source": [
        "# Practice: Use SGD with trainloader to train model and store the total loss in LOSS\n",
        "\n",
        "LOSS = []\n",
        "w = torch.tensor(-12.0, requires_grad = True)\n",
        "b = torch.tensor(-10.0, requires_grad = True)"
      ],
      "execution_count": null
    },
    {
      "cell_type": "markdown",
      "metadata": {
        "id": "db8e6677-6d12-41dd-9522-ea657d176d73"
      },
      "source": [
        "Double-click <b>here</b> for the solution.\n",
        "\n",
        "<!-- \n",
        "def my_train_model(epochs):\n",
        "    for epoch in range(epochs):\n",
        "        Yhat = forward(X)\n",
        "        LOSS.append(criterion(Yhat, X))\n",
        "        for x, y in trainloader:\n",
        "            yhat = forward(x)\n",
        "            loss = criterion(yhat, y)\n",
        "            get_surface.set_para_loss(w.data.tolist(), b.data.tolist(), loss.tolist())\n",
        "            loss.backward()\n",
        "            w.data = w.data - lr * w.grad.data\n",
        "            b.data = b.data - lr * b.grad.data\n",
        "            w.grad.data.zero_()\n",
        "            b.grad.data.zero_()\n",
        "        get_surface.plot_ps()\n",
        "my_train_model(10)\n",
        "-->\n"
      ]
    },
    {
      "cell_type": "markdown",
      "metadata": {
        "id": "4790f77e-f253-4f34-9116-1ecea3239d7f"
      },
      "source": [
        "Plot the total loss\n"
      ]
    },
    {
      "cell_type": "code",
      "metadata": {
        "id": "5d4d3607-f1c3-4381-8acd-7c69634b2fdb"
      },
      "outputs": [],
      "source": [
        "# Practice: Plot the total loss using LOSS\n",
        "\n",
        "# Type your code here"
      ],
      "execution_count": null
    },
    {
      "cell_type": "markdown",
      "metadata": {
        "id": "a14215bf-847b-4121-8253-c7016a741aea"
      },
      "source": [
        "Double-click __here__ for the solution.\n",
        "<!-- \n",
        "plt.plot(LOSS,label = \"Stochastic Gradient Descent\")\n",
        "plt.xlabel('iteration')\n",
        "plt.ylabel('Cost/ total loss')\n",
        "plt.legend()\n",
        "plt.show()\n",
        "-->\n"
      ]
    },
    {
      "cell_type": "markdown",
      "metadata": {
        "id": "9e9704cb-6bb8-435d-85de-0eb4ef6f465d"
      },
      "source": [
        "\n",
        "\n",
        "<a href=\"https://dataplatform.cloud.ibm.com/registration/stepone?utm_medium=Exinfluencer&utm_source=Exinfluencer&utm_content=000026UJ&utm_term=10006555&utm_id=NA-SkillsNetwork-Channel-SkillsNetworkCoursesIBMDeveloperSkillsNetworkDL0110ENSkillsNetwork952-2022-01-01&context=cpdaas&apps=data_science_experience%2Cwatson_machine_learning\"><img src=\"https://cf-courses-data.s3.us.cloud-object-storage.appdomain.cloud/IBMDeveloperSkillsNetwork-DL0110EN-SkillsNetwork/Template/module%201/images/Watson_Studio.png\"></a>\n"
      ]
    },
    {
      "cell_type": "markdown",
      "metadata": {
        "id": "95ea4111-e889-4207-a043-1be8396000b5"
      },
      "source": [
        "<!--Empty Space for separating topics-->\n"
      ]
    },
    {
      "cell_type": "markdown",
      "metadata": {
        "id": "26d1c3bb-cb9c-421d-8636-d4ef56753b40"
      },
      "source": [
        "<h2>About the Authors:</h2> \n",
        "\n",
        "<a href=\"https://www.linkedin.com/in/joseph-s-50398b136/?utm_medium=Exinfluencer&utm_source=Exinfluencer&utm_content=000026UJ&utm_term=10006555&utm_id=NA-SkillsNetwork-Channel-SkillsNetworkCoursesIBMDeveloperSkillsNetworkDL0110ENSkillsNetwork952-2022-01-01\">Joseph Santarcangelo</a> has a PhD in Electrical Engineering, his research focused on using machine learning, signal processing, and computer vision to determine how videos impact human cognition. Joseph has been working for IBM since he completed his PhD.\n"
      ]
    },
    {
      "cell_type": "markdown",
      "metadata": {
        "id": "56775c6b-5a3e-43cc-a872-474373c94a55"
      },
      "source": [
        "Other contributors: <a href=\"https://www.linkedin.com/in/michelleccarey/?utm_medium=Exinfluencer&utm_source=Exinfluencer&utm_content=000026UJ&utm_term=10006555&utm_id=NA-SkillsNetwork-Channel-SkillsNetworkCoursesIBMDeveloperSkillsNetworkDL0110ENSkillsNetwork952-2022-01-01\">Michelle Carey</a>, <a href=\"www.linkedin.com/in/jiahui-mavis-zhou-a4537814a\">Mavis Zhou</a>\n",
        "\n",
        "Thanks to: Andrew Kin ,Alessandro Barboza\n"
      ]
    },
    {
      "cell_type": "markdown",
      "metadata": {
        "id": "77ac5653-ccbd-477f-ad4f-623761e3f719"
      },
      "source": [
        "\n",
        "## Change Log\n",
        "\n",
        "|  Date (YYYY-MM-DD) |  Version | Changed By  |  Change Description |\n",
        "|---|---|---|---|\n",
        "| 2020-09-23  | 2.0  | Shubham  |  Migrated Lab to Markdown and added to course repo in GitLab |\n",
        "\n"
      ]
    },
    {
      "cell_type": "markdown",
      "metadata": {
        "id": "b370cf0e-3e9c-483a-b5de-7ed3e5effd42"
      },
      "source": [
        "<hr>\n"
      ]
    },
    {
      "cell_type": "markdown",
      "metadata": {
        "id": "761a08af-3fa9-47d4-8ecd-42fe526d02ff"
      },
      "source": [
        "\n",
        "\n",
        "\n",
        "## <h3 align=\"center\"> © IBM Corporation 2020. All rights reserved. <h3/>\n"
      ]
    }
  ],
  "metadata": {
    "kernelspec": {
      "display_name": "Python",
      "language": "python",
      "name": "conda-env-python-py"
    },
    "language_info": {
      "name": ""
    },
    "colab": {
      "provenance": [],
      "include_colab_link": true
    }
  },
  "nbformat": 4,
  "nbformat_minor": 0
}