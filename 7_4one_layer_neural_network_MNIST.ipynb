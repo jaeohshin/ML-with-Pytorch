{
  "cells": [
    {
      "cell_type": "markdown",
      "metadata": {
        "id": "view-in-github",
        "colab_type": "text"
      },
      "source": [
        "<a href=\"https://colab.research.google.com/github/jaeohshin/pytorch/blob/main/7_4one_layer_neural_network_MNIST.ipynb\" target=\"_parent\"><img src=\"https://colab.research.google.com/assets/colab-badge.svg\" alt=\"Open In Colab\"/></a>"
      ]
    },
    {
      "cell_type": "markdown",
      "metadata": {
        "id": "cb280e29-15c1-4cae-8339-4ee359eb8855"
      },
      "source": [
        "<p style=\"text-align:center\">\n",
        "    <a href=\"https://skills.network/?utm_medium=Exinfluencer&utm_source=Exinfluencer&utm_content=000026UJ&utm_term=10006555&utm_id=NA-SkillsNetwork-Channel-SkillsNetworkCoursesIBMDeveloperSkillsNetworkDL0110ENSkillsNetwork952-2022-01-01\" target=\"_blank\">\n",
        "    <img src=\"https://cf-courses-data.s3.us.cloud-object-storage.appdomain.cloud/assets/logos/SN_web_lightmode.png\" width=\"200\" alt=\"Skills Network Logo\"  />\n",
        "    </a>\n",
        "</p>\n"
      ]
    },
    {
      "cell_type": "markdown",
      "metadata": {
        "id": "e572e0a4-ffb4-4991-8d54-900c74d3c2c1"
      },
      "source": [
        "<h1>Neural Networks with One Hidden Layer</h1>\n"
      ]
    },
    {
      "cell_type": "markdown",
      "metadata": {
        "id": "73315ac1-460f-4d2c-a3f8-40ba18a50c84"
      },
      "source": [
        "<h2>Objective</h2><ul><li> How to classify handwritten digits using Neural Network.</li></ul> \n"
      ]
    },
    {
      "cell_type": "markdown",
      "metadata": {
        "id": "ee7a04fb-0b72-4528-a69a-9d943faea007"
      },
      "source": [
        "<h2>Table of Contents</h2>\n",
        "<p>In this lab, you will use a single layer neural network to classify handwritten digits from the MNIST database.</p>\n",
        "\n",
        "<ul>\n",
        "    <li><a href=\"#Model\">Neural Network Module and Training Function</a></li>\n",
        "    <li><a href=\"#Makeup_Data\">Make Some Data</a></li>\n",
        "    <li><a href=\"#Train\">Define the Neural Network, Optimizer, and Train the  Model</a></li>\n",
        "    <li><a href=\"#Result\">Analyze Results</a></li>\n",
        "</ul>\n",
        "<p>Estimated Time Needed: <strong>25 min</strong></p>\n",
        "\n",
        "<hr>\n"
      ]
    },
    {
      "cell_type": "markdown",
      "metadata": {
        "id": "7991fb83-def7-4658-99fe-ead6abc62319"
      },
      "source": [
        "<h2>Preparation</h2>\n"
      ]
    },
    {
      "cell_type": "markdown",
      "metadata": {
        "id": "2ef87ff2-6f25-418e-8db8-8beafdb2c930"
      },
      "source": [
        "We'll need the following libraries\n"
      ]
    },
    {
      "cell_type": "code",
      "metadata": {
        "id": "34a8e67d-bfe4-4c15-a36e-3d6f08ea06eb"
      },
      "outputs": [],
      "source": [
        "# Import the libraries we need for this lab\n",
        "\n",
        "# Using the following line code to install the torchvision library\n",
        "# !mamba install -y torchvision\n",
        "\n",
        "import torch \n",
        "import torch.nn as nn\n",
        "import torchvision.transforms as transforms\n",
        "import torchvision.datasets as dsets\n",
        "import torch.nn.functional as F\n",
        "import matplotlib.pylab as plt\n",
        "import numpy as np"
      ],
      "execution_count": 1
    },
    {
      "cell_type": "markdown",
      "metadata": {
        "id": "fdd6a7c5-994e-40f3-bb64-c173f2ce43b6"
      },
      "source": [
        "Use the following helper functions for plotting the loss: \n"
      ]
    },
    {
      "cell_type": "code",
      "metadata": {
        "id": "e58f8bb4-a835-4df9-bd0b-7b664c5ca592"
      },
      "outputs": [],
      "source": [
        "# Define a function to plot accuracy and loss\n",
        "\n",
        "def plot_accuracy_loss(training_results): \n",
        "    plt.subplot(2, 1, 1)\n",
        "    plt.plot(training_results['training_loss'], 'r')\n",
        "    plt.ylabel('loss')\n",
        "    plt.title('training loss iterations')\n",
        "    plt.subplot(2, 1, 2)\n",
        "    plt.plot(training_results['validation_accuracy'])\n",
        "    plt.ylabel('accuracy')\n",
        "    plt.xlabel('epochs')   \n",
        "    plt.show()"
      ],
      "execution_count": 2
    },
    {
      "cell_type": "markdown",
      "metadata": {
        "id": "787060e2-6690-43f5-beb9-030062dfd2aa"
      },
      "source": [
        "Use the following function for printing the model parameters: \n"
      ]
    },
    {
      "cell_type": "code",
      "metadata": {
        "id": "81e36b8b-acc0-4a07-a3de-4600d2a19578"
      },
      "outputs": [],
      "source": [
        "# Define a function to plot model parameters\n",
        "\n",
        "def print_model_parameters(model):\n",
        "    count = 0\n",
        "    for ele in model.state_dict():\n",
        "        count += 1\n",
        "        if count % 2 != 0:\n",
        "            print (\"The following are the parameters for the layer \", count // 2 + 1)\n",
        "        if ele.find(\"bias\") != -1:\n",
        "            print(\"The size of bias: \", model.state_dict()[ele].size())\n",
        "        else:\n",
        "            print(\"The size of weights: \", model.state_dict()[ele].size())"
      ],
      "execution_count": 3
    },
    {
      "cell_type": "markdown",
      "metadata": {
        "id": "538e7525-f0df-43ba-ae25-7cb58e0c2f04"
      },
      "source": [
        "Define the neural network module or class: \n"
      ]
    },
    {
      "cell_type": "code",
      "metadata": {
        "id": "e5af8509-bd9b-485a-b0d6-2c2a217ecf40"
      },
      "outputs": [],
      "source": [
        "# Define a function to display data\n",
        "\n",
        "def show_data(data_sample):\n",
        "    plt.imshow(data_sample.numpy().reshape(28, 28), cmap='gray')\n",
        "    plt.show()"
      ],
      "execution_count": 4
    },
    {
      "cell_type": "markdown",
      "metadata": {
        "id": "1b97ba69-cff5-48c6-b66a-ea2277d3ea05"
      },
      "source": [
        "<!--Empty Space for separating topics-->\n"
      ]
    },
    {
      "cell_type": "markdown",
      "metadata": {
        "id": "b21e052f-f647-410a-a230-3ceb6eacb7fb"
      },
      "source": [
        "<h2 id=\"Model\">Neural Network Module and Training Function</h2> \n"
      ]
    },
    {
      "cell_type": "markdown",
      "metadata": {
        "id": "217911e3-8591-4441-8271-68bf66f254ec"
      },
      "source": [
        "Define the neural network module or class: \n"
      ]
    },
    {
      "cell_type": "code",
      "metadata": {
        "id": "b3395265-bd58-4ad2-b9a1-2e48bc867938"
      },
      "outputs": [],
      "source": [
        "# Define a Neural Network class\n",
        "class Net(nn.Module):\n",
        "\n",
        "    # Constructor\n",
        "    def __init__(self, D_in, H, D_out):\n",
        "        super(Net, self).__init__()\n",
        "        self.linear1 = nn.Linear(D_in, H)\n",
        "        self.linear2 = nn.Linear(H, D_out)\n",
        "\n",
        "    # Prediction\n",
        "    def forward(self, x):\n",
        "        x = torch.sigmoid(self.linear1(x))\n",
        "        x = self.linear2(x)\n",
        "        return x"
      ],
      "execution_count": 6
    },
    {
      "cell_type": "markdown",
      "metadata": {
        "id": "c1a3a03b-c154-444d-a46c-d9b166e36f96"
      },
      "source": [
        "Define a function to train the model. In this case, the function returns a Python dictionary to store the training loss and accuracy on the validation data. \n"
      ]
    },
    {
      "cell_type": "code",
      "metadata": {
        "id": "212cb783-a322-4614-8a0a-27ed81255d82"
      },
      "outputs": [],
      "source": [
        "# Define a training function to train the model\n",
        "def train(model, criterion, train_loader, validation_loader, optimizer, epochs=100):\n",
        "    i = 0\n",
        "    useful_stuff = {'trianing_loss': [], 'validation_accuracy':[]}\n",
        "    for epoch in range(epochs):\n",
        "        for i, (x, y) in enumerate(train_loader):\n",
        "            optimizer.zero_grad()\n",
        "            z = model(x.view(-1, 28*28))\n",
        "            loss = criterion(z, y)\n",
        "            loss.backward()\n",
        "            optimizer.step()\n",
        "             #loss for every iteration\n",
        "            useful_stuff['trainig_loss'].append(loss.data.item())\n",
        "        correct = 0\n",
        "        for x, y in validatio_loader:\n",
        "            #validation\n",
        "            z = model(x.view(-1, 28*28))\n",
        "            _, label = torch.max(z, 1)\n",
        "            correct +=(label ==y).sum().item()\n",
        "        accuracy = 100 * (correct / len(validation_dataset))\n",
        "        useful_stuff['validation_accuracy'].append(accuarcy)\n",
        "    return useful_stuff\n"
      ],
      "execution_count": 7
    },
    {
      "cell_type": "markdown",
      "metadata": {
        "id": "013847ea-ad17-4fda-81e3-e5b72a6a28a5"
      },
      "source": [
        "<!--Empty Space for separating topics-->\n"
      ]
    },
    {
      "cell_type": "markdown",
      "metadata": {
        "id": "6ee9e99f-5f59-4399-87da-81dddf130e72"
      },
      "source": [
        "<h2 id=\"Makeup_Data\">Make Some Data</h2> \n"
      ]
    },
    {
      "cell_type": "markdown",
      "metadata": {
        "id": "494454d8-1c51-47db-9592-20905311a8fc"
      },
      "source": [
        "Load the training dataset by setting the parameters <code>train</code> to <code>True</code> and convert it to a tensor by placing a transform object in the argument <code>transform</code>.\n"
      ]
    },
    {
      "cell_type": "code",
      "metadata": {
        "id": "1d77d52c-c5c7-40b3-ade8-ec42f8683461"
      },
      "outputs": [],
      "source": [
        "# Create training dataset\n",
        "\n",
        "train_dataset = dsets.MNIST(root='./data', train=True, download=True, transform=transforms.ToTensor())"
      ],
      "execution_count": null
    },
    {
      "cell_type": "markdown",
      "metadata": {
        "id": "b913051e-86ef-42ab-9045-90c09eb4fbe7"
      },
      "source": [
        "Load the testing dataset and convert it to a tensor by placing a transform object in the argument <code>transform</code>:\n"
      ]
    },
    {
      "cell_type": "code",
      "metadata": {
        "id": "9f89f8ba-f022-4f66-91bf-1c7010bd7fa1"
      },
      "outputs": [],
      "source": [
        "# Create validating dataset\n",
        "\n",
        "validation_dataset = dsets.MNIST(root='./data', download=True, transform=transforms.ToTensor())"
      ],
      "execution_count": null
    },
    {
      "cell_type": "markdown",
      "metadata": {
        "id": "59a4ca49-a0f9-40f7-9c00-631793401998"
      },
      "source": [
        "Create the criterion function:  \n"
      ]
    },
    {
      "cell_type": "code",
      "metadata": {
        "id": "c6a66ebd-e442-4aaf-8be7-88659a4b6ce4"
      },
      "outputs": [],
      "source": [
        "# Create criterion function\n",
        "\n",
        "criterion = nn.CrossEntropyLoss()"
      ],
      "execution_count": null
    },
    {
      "cell_type": "markdown",
      "metadata": {
        "id": "d866e939-8807-4127-8f57-e67dbd24780d"
      },
      "source": [
        "Create the training-data loader and the validation-data loader objects: \n"
      ]
    },
    {
      "cell_type": "code",
      "metadata": {
        "id": "97393678-a955-48b8-ba77-40ecfc94808c"
      },
      "outputs": [],
      "source": [
        "# Create data loader for both train dataset and valdiate dataset\n",
        "\n",
        "train_loader = torch.utils.data.DataLoader(dataset=train_dataset, batch_size=2000, shuffle=True)\n",
        "validation_loader = torch.utils.data.DataLoader(dataset=validation_dataset, batch_size=5000, shuffle=False)"
      ],
      "execution_count": null
    },
    {
      "cell_type": "markdown",
      "metadata": {
        "id": "cb41e96d-9ee1-4db6-be77-d38211b6ab49"
      },
      "source": [
        "<!--Empty Space for separating topics-->\n"
      ]
    },
    {
      "cell_type": "markdown",
      "metadata": {
        "id": "fde58fad-9131-4d48-94e6-49cbff481fdc"
      },
      "source": [
        "<h2 id=\"Train\">Define the Neural Network, Optimizer, and Train the Model</h2> \n"
      ]
    },
    {
      "cell_type": "markdown",
      "metadata": {
        "id": "5b8d485d-1890-4f7d-9055-7c1552ae808a"
      },
      "source": [
        "Create the model with 100 neurons: \n"
      ]
    },
    {
      "cell_type": "code",
      "metadata": {
        "id": "2eaace2e-f8c6-4043-ae12-912e741a836e"
      },
      "outputs": [],
      "source": [
        "# Create the model with 100 neurons\n",
        "\n",
        "input_dim = 28 * 28\n",
        "hidden_dim = 100\n",
        "output_dim = 10\n",
        "\n",
        "model = Net(input_dim, hidden_dim, output_dim)"
      ],
      "execution_count": null
    },
    {
      "cell_type": "markdown",
      "metadata": {
        "id": "5205093c-e38a-4898-b41b-b0aa68407bda"
      },
      "source": [
        "Print the model parameters: \n"
      ]
    },
    {
      "cell_type": "code",
      "metadata": {
        "id": "c80c3c73-2888-4a17-a293-5830cdc82dde"
      },
      "outputs": [],
      "source": [
        "# Print the parameters for model\n",
        "\n",
        "print_model_parameters(model)"
      ],
      "execution_count": null
    },
    {
      "cell_type": "markdown",
      "metadata": {
        "id": "5cb68966-1b0b-444a-8b47-efd2d64a975a"
      },
      "source": [
        "Define the optimizer object with a learning rate of 0.01: \n"
      ]
    },
    {
      "cell_type": "code",
      "metadata": {
        "id": "9f8eed39-0781-4db0-b5b8-22e06bcb0da0"
      },
      "outputs": [],
      "source": [
        "# Set the learning rate and the optimizer\n",
        "\n",
        "learning_rate = 0.01\n",
        "optimizer = torch.optim.SGD(model.parameters(), lr=learning_rate)"
      ],
      "execution_count": null
    },
    {
      "cell_type": "markdown",
      "metadata": {
        "id": "c8ceb7b7-4266-4b77-a93d-9c906eb19bb5"
      },
      "source": [
        "Train the model by using 100 epochs **(this process takes time)**: \n"
      ]
    },
    {
      "cell_type": "code",
      "metadata": {
        "id": "c7ab1245-483c-4e93-96a4-214ec8875bf2"
      },
      "outputs": [],
      "source": [
        "# Train the model\n",
        "\n",
        "training_results = train(model, criterion, train_loader, validation_loader, optimizer, epochs=30)"
      ],
      "execution_count": null
    },
    {
      "cell_type": "markdown",
      "metadata": {
        "id": "ea174148-b451-4c26-8fc8-2f292b49f196"
      },
      "source": [
        "<!--Empty Space for separating topics-->\n"
      ]
    },
    {
      "cell_type": "markdown",
      "metadata": {
        "id": "242b46b0-a2cc-4ae0-b04b-3717f3dfa846"
      },
      "source": [
        "<h2 id=\"Result\">Analyze Results</h2> \n"
      ]
    },
    {
      "cell_type": "markdown",
      "metadata": {
        "id": "513af44f-f36b-4db8-8f61-89d2b3d2e4f5"
      },
      "source": [
        "Plot the training total loss or cost for every iteration and plot the training accuracy for every epoch:  \n"
      ]
    },
    {
      "cell_type": "code",
      "metadata": {
        "id": "fa69eb83-22bc-462b-8465-120760aa8d00"
      },
      "outputs": [],
      "source": [
        "# Plot the accuracy and loss\n",
        "\n",
        "plot_accuracy_loss(training_results)"
      ],
      "execution_count": null
    },
    {
      "cell_type": "markdown",
      "metadata": {
        "id": "10408c7b-d572-4155-8b79-c8bf75146938"
      },
      "source": [
        "Plot the first five misclassified samples:   \n"
      ]
    },
    {
      "cell_type": "code",
      "metadata": {
        "id": "b6ffd913-bca1-4d66-ae78-909ab167a625"
      },
      "outputs": [],
      "source": [
        "# Plot the first five misclassified samples\n",
        "\n",
        "count = 0\n",
        "for x, y in validation_dataset:\n",
        "    z = model(x.reshape(-1, 28 * 28))\n",
        "    _,yhat = torch.max(z, 1)\n",
        "    if yhat != y:\n",
        "        show_data(x)\n",
        "        count += 1\n",
        "    if count >= 5:\n",
        "        break"
      ],
      "execution_count": null
    },
    {
      "cell_type": "markdown",
      "metadata": {
        "id": "06f7643f-d3d0-41ee-b1c8-d2edc885f549"
      },
      "source": [
        "<h3>Practice</h3> \n"
      ]
    },
    {
      "cell_type": "markdown",
      "metadata": {
        "id": "860071b6-ad61-4ae7-b3a7-019e16cb5e90"
      },
      "source": [
        "Use <code>nn.Sequential</code> to build exactly the same model as you just built. Use the function <train>train</train> to train the model and use the function <code>plot_accuracy_loss</code> to see the metrics. Also, try different epoch numbers. \n"
      ]
    },
    {
      "cell_type": "code",
      "metadata": {
        "id": "4778a873-bbfc-45ed-b4cc-ef3b63360358"
      },
      "outputs": [],
      "source": [
        "# Practice: Use nn.Sequential to build the same model. Use plot_accuracy_loss to print out the accuarcy and loss\n",
        "\n",
        "# Type your code here"
      ],
      "execution_count": null
    },
    {
      "cell_type": "markdown",
      "metadata": {
        "id": "51e5a272-be4a-4bee-8287-f1d0726794f0"
      },
      "source": [
        "Double-click <b>here</b> for the solution.\n",
        "\n",
        "<!-- \n",
        "input_dim = 28 * 28\n",
        "hidden_dim = 100\n",
        "output_dim = 10\n",
        "\n",
        "model = torch.nn.Sequential(\n",
        "    torch.nn.Linear(input_dim, hidden_dim),\n",
        "    torch.nn.Sigmoid(),\n",
        "    torch.nn.Linear(hidden_dim, output_dim),\n",
        ")\n",
        "learning_rate = 0.01\n",
        "optimizer = torch.optim.SGD(model.parameters(), lr = learning_rate)\n",
        "training_results = train(model, criterion, train_loader, validation_loader, optimizer, epochs = 10)\n",
        "plot_accuracy_loss(training_results)\n",
        "-->\n"
      ]
    },
    {
      "cell_type": "markdown",
      "metadata": {
        "id": "849042c6-2876-4119-b5df-17d381f2b985"
      },
      "source": [
        "\n",
        "<a href=\"https://dataplatform.cloud.ibm.com/registration/stepone?utm_medium=Exinfluencer&utm_source=Exinfluencer&utm_content=000026UJ&utm_term=10006555&utm_id=NA-SkillsNetwork-Channel-SkillsNetworkCoursesIBMDeveloperSkillsNetworkDL0110ENSkillsNetwork952-2022-01-01&context=cpdaas&apps=data_science_experience%2Cwatson_machine_learning\"><img src=\"https://cf-courses-data.s3.us.cloud-object-storage.appdomain.cloud/IBMDeveloperSkillsNetwork-DL0110EN-SkillsNetwork/Template/module%201/images/Watson_Studio.png\"></a>\n"
      ]
    },
    {
      "cell_type": "markdown",
      "metadata": {
        "id": "60f8227d-2a78-4cda-bc22-8a28eef95ef1"
      },
      "source": [
        "<!--Empty Space for separating topics-->\n"
      ]
    },
    {
      "cell_type": "markdown",
      "metadata": {
        "id": "34b8953d-8243-4e92-94a5-08f6b59b4d59"
      },
      "source": [
        "<h2>About the Authors:</h2> \n",
        "\n",
        "<a href=\"https://www.linkedin.com/in/joseph-s-50398b136/?utm_medium=Exinfluencer&utm_source=Exinfluencer&utm_content=000026UJ&utm_term=10006555&utm_id=NA-SkillsNetwork-Channel-SkillsNetworkCoursesIBMDeveloperSkillsNetworkDL0110ENSkillsNetwork952-2022-01-01\">Joseph Santarcangelo</a> has a PhD in Electrical Engineering, his research focused on using machine learning, signal processing, and computer vision to determine how videos impact human cognition. Joseph has been working for IBM since he completed his PhD. \n"
      ]
    },
    {
      "cell_type": "markdown",
      "metadata": {
        "id": "37f79890-7e81-4c81-b3ad-910c32ea7272"
      },
      "source": [
        "Other contributors: <a href=\"https://www.linkedin.com/in/michelleccarey/?utm_medium=Exinfluencer&utm_source=Exinfluencer&utm_content=000026UJ&utm_term=10006555&utm_id=NA-SkillsNetwork-Channel-SkillsNetworkCoursesIBMDeveloperSkillsNetworkDL0110ENSkillsNetwork952-2022-01-01\">Michelle Carey</a>, <a href=\"www.linkedin.com/in/jiahui-mavis-zhou-a4537814a\">Mavis Zhou</a>\n"
      ]
    },
    {
      "cell_type": "markdown",
      "metadata": {
        "id": "d7847a81-4013-475e-9c44-307efbfab83a"
      },
      "source": [
        "\n",
        "## Change Log\n",
        "\n",
        "|  Date (YYYY-MM-DD) |  Version | Changed By  |  Change Description |\n",
        "|---|---|---|---|\n",
        "| 2020-09-23  | 2.0  | Shubham  |  Migrated Lab to Markdown and added to course repo in GitLab |\n",
        "\n"
      ]
    },
    {
      "cell_type": "markdown",
      "metadata": {
        "id": "c639df80-3b28-414e-913d-8a66716b5eb3"
      },
      "source": [
        "<hr>\n"
      ]
    },
    {
      "cell_type": "markdown",
      "metadata": {
        "id": "50bef93b-a038-40c7-a443-37377ce589d2"
      },
      "source": [
        "\n",
        "\n",
        "\n",
        "## <h3 align=\"center\"> © IBM Corporation 2020. All rights reserved. <h3/>\n"
      ]
    }
  ],
  "metadata": {
    "kernelspec": {
      "display_name": "Python",
      "language": "python",
      "name": "conda-env-python-py"
    },
    "language_info": {
      "name": ""
    },
    "colab": {
      "provenance": [],
      "include_colab_link": true
    }
  },
  "nbformat": 4,
  "nbformat_minor": 0
}