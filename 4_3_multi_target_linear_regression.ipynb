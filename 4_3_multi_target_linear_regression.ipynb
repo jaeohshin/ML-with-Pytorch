{
  "cells": [
    {
      "cell_type": "markdown",
      "metadata": {
        "id": "view-in-github",
        "colab_type": "text"
      },
      "source": [
        "<a href=\"https://colab.research.google.com/github/jaeohshin/pytorch/blob/main/4_3_multi_target_linear_regression.ipynb\" target=\"_parent\"><img src=\"https://colab.research.google.com/assets/colab-badge.svg\" alt=\"Open In Colab\"/></a>"
      ]
    },
    {
      "cell_type": "markdown",
      "metadata": {
        "id": "ba871a78-5368-484d-8165-af27bca3cb0b"
      },
      "source": [
        "<p style=\"text-align:center\">\n",
        "    <a href=\"https://skills.network/?utm_medium=Exinfluencer&utm_source=Exinfluencer&utm_content=000026UJ&utm_term=10006555&utm_id=NA-SkillsNetwork-Channel-SkillsNetworkCoursesIBMDeveloperSkillsNetworkDL0110ENSkillsNetwork952-2022-01-01\" target=\"_blank\">\n",
        "    <img src=\"https://cf-courses-data.s3.us.cloud-object-storage.appdomain.cloud/assets/logos/SN_web_lightmode.png\" width=\"200\" alt=\"Skills Network Logo\"  />\n",
        "    </a>\n",
        "</p>\n"
      ]
    },
    {
      "cell_type": "markdown",
      "metadata": {
        "id": "54817d12-d5df-47be-8f45-d83519d3adf5"
      },
      "source": [
        "<h2>Objective</h2><ul><li> How to make a prediction using multiple samples.</li></ul> \n"
      ]
    },
    {
      "cell_type": "markdown",
      "metadata": {
        "id": "417b072c-4095-44e8-9073-f0fa4b6d051f"
      },
      "source": [
        "\n",
        "# Table of Contents\n",
        "In this lab, we will  review how to make a prediction for Linear Regression with Multiple Output. \n",
        "\n",
        "<div class=\"alert alert-block alert-info\" style=\"margin-top: 20px\">\n",
        "\n",
        "<li><a href=\"#ref2\">Build Custom Modules </a></li>\n",
        "\n",
        "<br>\n",
        "<p></p>\n",
        "Estimated Time Needed: <strong>15 min</strong>\n",
        "</div>\n",
        "\n",
        "<hr>\n"
      ]
    },
    {
      "cell_type": "markdown",
      "metadata": {
        "id": "a48b8c9c-d654-4f88-89c1-f420b9df1aea"
      },
      "source": [
        "<a id=\"ref1\"></a>\n",
        "<h2 align=center>Class Linear  </h2>\n"
      ]
    },
    {
      "cell_type": "code",
      "metadata": {
        "id": "e727a48b-a65d-44d6-a756-aee15403bb31"
      },
      "outputs": [],
      "source": [
        "from torch import nn\n",
        "import torch"
      ],
      "execution_count": 21
    },
    {
      "cell_type": "markdown",
      "metadata": {
        "id": "3b85173b-e3b4-4678-a828-2c6fa58b1690"
      },
      "source": [
        "Set the random seed:\n"
      ]
    },
    {
      "cell_type": "code",
      "metadata": {
        "colab": {
          "base_uri": "https://localhost:8080/"
        },
        "id": "2cc73a7f-abd0-46de-9e71-223b6b54ce3e",
        "outputId": "ad56bce1-ff51-4dd0-edf1-e2815ef6e976"
      },
      "outputs": [
        {
          "output_type": "execute_result",
          "data": {
            "text/plain": [
              "<torch._C.Generator at 0x7ff3b432be70>"
            ]
          },
          "metadata": {},
          "execution_count": 49
        }
      ],
      "source": [
        "torch.manual_seed(1)"
      ],
      "execution_count": 49
    },
    {
      "cell_type": "markdown",
      "metadata": {
        "id": "8cd7dad3-af54-4b3f-8157-05a53f068f02"
      },
      "source": [
        "Set the random seed:\n"
      ]
    },
    {
      "cell_type": "code",
      "metadata": {
        "id": "6a76e309-6ba3-4aa5-a857-3d36cb18c0c8"
      },
      "outputs": [],
      "source": [
        "class linear_regression(nn.Module):\n",
        "    def __init__(self, input_size, output_size):\n",
        "        super(linear_regression, self).__init__()\n",
        "        self.linear=nn.Linear(input_size, output_size)\n",
        "    def forward(self, x):\n",
        "        yhat=self.linear(x)\n",
        "        return yhat\n",
        "\n"
      ],
      "execution_count": 50
    },
    {
      "cell_type": "markdown",
      "metadata": {
        "id": "1bc9bf9a-252d-482a-81e1-7f9927f5f98a"
      },
      "source": [
        "create a linear regression  object, as our input and output will be two we set the parameters accordingly \n"
      ]
    },
    {
      "cell_type": "code",
      "metadata": {
        "colab": {
          "base_uri": "https://localhost:8080/"
        },
        "id": "ac49b428-a997-451f-a864-633f866a5ec8",
        "outputId": "711174c0-3c2f-4162-b679-5d1f8bba056e"
      },
      "outputs": [
        {
          "output_type": "execute_result",
          "data": {
            "text/plain": [
              "tensor([-0.0729, -0.0900], grad_fn=<AddBackward0>)"
            ]
          },
          "metadata": {},
          "execution_count": 55
        }
      ],
      "source": [
        "model=linear_regression(1,2)\n",
        "model(torch.tensor([0.0]))"
      ],
      "execution_count": 55
    },
    {
      "cell_type": "markdown",
      "metadata": {
        "id": "e319fd0d-849a-4bb2-9ea0-b16c0cd3d27d"
      },
      "source": [
        "we can use the diagram to represent the model or object \n"
      ]
    },
    {
      "cell_type": "markdown",
      "metadata": {
        "id": "9772957c-bb2d-4f82-9b8b-674ebedd5a6c"
      },
      "source": [
        "<img src=\"https://ibm.box.com/shared/static/icmwnxru7nytlhnq5x486rffea9ncpk7.png\" width=\"600,\" align=\"center\">\n"
      ]
    },
    {
      "cell_type": "markdown",
      "metadata": {
        "id": "b5c5467f-78dd-46da-93fc-f0353dfcffc0"
      },
      "source": [
        "we can see the parameters \n"
      ]
    },
    {
      "cell_type": "code",
      "metadata": {
        "colab": {
          "base_uri": "https://localhost:8080/"
        },
        "id": "a08537c8-7d4f-42a3-9c37-df6637eabd41",
        "outputId": "4b2c1c38-7ba7-41be-df3f-b841fd26130a"
      },
      "outputs": [
        {
          "output_type": "execute_result",
          "data": {
            "text/plain": [
              "[Parameter containing:\n",
              " tensor([[ 0.3652],\n",
              "         [-0.3897]], requires_grad=True), Parameter containing:\n",
              " tensor([-0.0729, -0.0900], requires_grad=True)]"
            ]
          },
          "metadata": {},
          "execution_count": 56
        }
      ],
      "source": [
        "list(model.parameters())"
      ],
      "execution_count": 56
    },
    {
      "cell_type": "markdown",
      "metadata": {
        "id": "c1692119-e89e-4b6a-be47-6afcb1e37748"
      },
      "source": [
        "we can create a tensor with two rows representing one sample of data\n"
      ]
    },
    {
      "cell_type": "code",
      "metadata": {
        "id": "66e319ee-ee25-4368-a618-56af08d76f46"
      },
      "outputs": [],
      "source": [
        "x=torch.tensor([[1.0]])"
      ],
      "execution_count": 57
    },
    {
      "cell_type": "markdown",
      "metadata": {
        "id": "0f389096-5e0f-4aa0-b9a7-1ea3c372c0af"
      },
      "source": [
        "we can make a prediction \n"
      ]
    },
    {
      "cell_type": "code",
      "metadata": {
        "colab": {
          "base_uri": "https://localhost:8080/"
        },
        "id": "50abd414-ddfa-42f0-87f9-16abff5c3760",
        "outputId": "e32ceafb-5e4c-4ce8-b982-3c234b7fea89"
      },
      "outputs": [
        {
          "output_type": "execute_result",
          "data": {
            "text/plain": [
              "tensor([[ 0.2923, -0.4797]], grad_fn=<AddmmBackward0>)"
            ]
          },
          "metadata": {},
          "execution_count": 58
        }
      ],
      "source": [
        "yhat=model(x)\n",
        "yhat"
      ],
      "execution_count": 58
    },
    {
      "cell_type": "markdown",
      "metadata": {
        "id": "4c98ddf0-72bf-4348-bfb0-6a62a52ea2da"
      },
      "source": [
        "each row in the following tensor represents a different sample \n"
      ]
    },
    {
      "cell_type": "code",
      "metadata": {
        "id": "17363650-1b8b-4090-9419-e2f24d02c823"
      },
      "outputs": [],
      "source": [
        "X=torch.tensor([[1.0],[1.0],[3.0]])"
      ],
      "execution_count": 59
    },
    {
      "cell_type": "markdown",
      "metadata": {
        "id": "891462cc-bf11-44be-9283-2329c4545cb8"
      },
      "source": [
        "we can make a prediction using multiple samples \n"
      ]
    },
    {
      "cell_type": "code",
      "metadata": {
        "colab": {
          "base_uri": "https://localhost:8080/"
        },
        "id": "c8d9b7be-8904-4994-999c-a40f18da621c",
        "outputId": "72d64393-2837-4443-8e67-f15f745035b1"
      },
      "outputs": [
        {
          "output_type": "execute_result",
          "data": {
            "text/plain": [
              "tensor([[ 0.2923, -0.4797],\n",
              "        [ 0.2923, -0.4797],\n",
              "        [ 1.0228, -1.2591]], grad_fn=<AddmmBackward0>)"
            ]
          },
          "metadata": {},
          "execution_count": 60
        }
      ],
      "source": [
        "Yhat=model(X)\n",
        "Yhat"
      ],
      "execution_count": 60
    },
    {
      "cell_type": "markdown",
      "metadata": {
        "id": "c2dc8da3-a133-4350-948b-f7fe04d82b2e"
      },
      "source": [
        "the following figure represents the operation, where the red and blue  represents the different parameters, and the different shades of green represent  different samples.\n"
      ]
    },
    {
      "cell_type": "markdown",
      "metadata": {
        "id": "303f434c-64fb-4f6f-b0f2-e7e5b9d7f715"
      },
      "source": [
        " <img src=\"https://ibm.box.com/shared/static/768cul6pj8hc93uh9ujpajihnp8xdukx.png\" width=\"600,\" align=\"center\">\n"
      ]
    },
    {
      "cell_type": "markdown",
      "metadata": {
        "id": "1787bc95-df0b-489d-912e-e3bdd168272e"
      },
      "source": [
        "\n",
        "<a href=\"https://dataplatform.cloud.ibm.com/registration/stepone?utm_medium=Exinfluencer&utm_source=Exinfluencer&utm_content=000026UJ&utm_term=10006555&utm_id=NA-SkillsNetwork-Channel-SkillsNetworkCoursesIBMDeveloperSkillsNetworkDL0110ENSkillsNetwork952-2022-01-01&context=cpdaas&apps=data_science_experience%2Cwatson_machine_learning\"><img src=\"https://cf-courses-data.s3.us.cloud-object-storage.appdomain.cloud/IBMDeveloperSkillsNetwork-DL0110EN-SkillsNetwork/Template/module%201/images/Watson_Studio.png\"></a>\n"
      ]
    },
    {
      "cell_type": "markdown",
      "metadata": {
        "id": "1b89b35b-75bf-4d07-946a-e4543e0aaa76"
      },
      "source": [
        "# About the Authors:  \n",
        "\n",
        " [Joseph Santarcangelo](https://www.linkedin.com/in/joseph-s-50398b136/?utm_medium=Exinfluencer&utm_source=Exinfluencer&utm_content=000026UJ&utm_term=10006555&utm_id=NA-SkillsNetwork-Channel-SkillsNetworkCoursesIBMDeveloperSkillsNetworkDL0110ENSkillsNetwork952-2022-01-01) has a PhD in Electrical Engineering, his research focused on using machine learning, signal processing, and computer vision to determine how videos impact human cognition. Joseph has been working for IBM since he completed his PhD.\n",
        " \n",
        "Other contributors: [Michelle Carey](https://www.linkedin.com/in/michelleccarey/?utm_medium=Exinfluencer&utm_source=Exinfluencer&utm_content=000026UJ&utm_term=10006555&utm_id=NA-SkillsNetwork-Channel-SkillsNetworkCoursesIBMDeveloperSkillsNetworkDL0110ENSkillsNetwork952-2022-01-01) \n"
      ]
    },
    {
      "cell_type": "markdown",
      "metadata": {
        "id": "34307dc5-4085-4c22-b98a-e3b4739727d2"
      },
      "source": [
        "\n",
        "## Change Log\n",
        "\n",
        "|  Date (YYYY-MM-DD) |  Version | Changed By  |  Change Description |\n",
        "|---|---|---|---|\n",
        "| 2020-09-23  | 2.0  | Shubham  |  Migrated Lab to Markdown and added to course repo in GitLab |\n",
        "\n"
      ]
    },
    {
      "cell_type": "markdown",
      "metadata": {
        "id": "93fe1aa9-f0e5-4abf-b50b-56be89e2273f"
      },
      "source": [
        "## <h3 align=\"center\"> © IBM Corporation 2020. All rights reserved. <h3/>\n"
      ]
    }
  ],
  "metadata": {
    "kernelspec": {
      "display_name": "Python",
      "language": "python",
      "name": "conda-env-python-py"
    },
    "language_info": {
      "name": ""
    },
    "colab": {
      "provenance": [],
      "include_colab_link": true
    }
  },
  "nbformat": 4,
  "nbformat_minor": 0
}