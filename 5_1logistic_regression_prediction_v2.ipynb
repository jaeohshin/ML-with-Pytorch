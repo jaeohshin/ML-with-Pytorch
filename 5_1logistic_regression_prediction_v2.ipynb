{
  "cells": [
    {
      "cell_type": "markdown",
      "metadata": {
        "id": "view-in-github",
        "colab_type": "text"
      },
      "source": [
        "<a href=\"https://colab.research.google.com/github/jaeohshin/pytorch/blob/main/5_1logistic_regression_prediction_v2.ipynb\" target=\"_parent\"><img src=\"https://colab.research.google.com/assets/colab-badge.svg\" alt=\"Open In Colab\"/></a>"
      ]
    },
    {
      "cell_type": "markdown",
      "metadata": {
        "id": "6cd7862f-c330-4c44-946b-ab9818be399e"
      },
      "source": [
        "<p style=\"text-align:center\">\n",
        "    <a href=\"https://skills.network/?utm_medium=Exinfluencer&utm_source=Exinfluencer&utm_content=000026UJ&utm_term=10006555&utm_id=NA-SkillsNetwork-Channel-SkillsNetworkCoursesIBMDeveloperSkillsNetworkDL0110ENSkillsNetwork952-2022-01-01\" target=\"_blank\">\n",
        "    <img src=\"https://cf-courses-data.s3.us.cloud-object-storage.appdomain.cloud/assets/logos/SN_web_lightmode.png\" width=\"200\" alt=\"Skills Network Logo\"  />\n",
        "    </a>\n",
        "</p>\n"
      ]
    },
    {
      "cell_type": "markdown",
      "metadata": {
        "id": "7f6618fa-1c7a-497c-9aa4-10276d632a81"
      },
      "source": [
        "<h1>Logistic Regression</h1>\n"
      ]
    },
    {
      "cell_type": "markdown",
      "metadata": {
        "id": "8f1460ce-06ec-4512-8a8a-1886070566e7"
      },
      "source": [
        "<h2>Objective</h2><ul><li> How to create a logistic regression object with the nn.Sequential model.</li></ul> \n"
      ]
    },
    {
      "cell_type": "markdown",
      "metadata": {
        "id": "9aa92b96-7450-460d-9b8b-bcd5dfe189fb"
      },
      "source": [
        "<h2>Table of Contents</h2>\n",
        "<p>In this lab, we will cover logistic regression using PyTorch.</p>\n",
        "\n",
        "<ul>\n",
        "    <li><a href=\"#Log\">Logistic Function</a></li>\n",
        "    <li><a href=\"#Seq\">Build a Logistic Regression Using nn.Sequential</a></li>\n",
        "    <li><a href=\"#Model\">Build Custom Modules</a></li>\n",
        "</ul>\n",
        "<p>Estimated Time Needed: <strong>15 min</strong></p>\n",
        "\n",
        "<hr>\n"
      ]
    },
    {
      "cell_type": "markdown",
      "metadata": {
        "id": "386d9419-a305-431c-b1b2-6936f0e63b57"
      },
      "source": [
        "<h2>Preparation</h2>\n"
      ]
    },
    {
      "cell_type": "markdown",
      "metadata": {
        "id": "5b82a632-d013-4404-8e03-6f2a3d009d42"
      },
      "source": [
        "We'll need the following libraries:  \n"
      ]
    },
    {
      "cell_type": "code",
      "metadata": {
        "id": "e01642f6-5e0d-408b-bb96-b72093224460"
      },
      "outputs": [],
      "source": [
        "# Import the libraries we need for this lab\n",
        "\n",
        "import torch.nn as nn\n",
        "import torch\n",
        "import matplotlib.pyplot as plt "
      ],
      "execution_count": null
    },
    {
      "cell_type": "markdown",
      "metadata": {
        "id": "0df47c2d-ee5c-4780-aa38-a72a932d585b"
      },
      "source": [
        "Set the random seed:\n"
      ]
    },
    {
      "cell_type": "code",
      "metadata": {
        "id": "595051fa-9b93-4fed-82b0-dc1666ee8451"
      },
      "outputs": [],
      "source": [
        "# Set the random seed\n",
        "\n",
        "torch.manual_seed(2)"
      ],
      "execution_count": null
    },
    {
      "cell_type": "markdown",
      "metadata": {
        "id": "5c95a296-048e-4468-a5bd-1d70727332c0"
      },
      "source": [
        "<!--Empty Space for separating topics-->\n"
      ]
    },
    {
      "cell_type": "markdown",
      "metadata": {
        "id": "8ec992bd-8a6c-4b74-9152-25de2e659e1f"
      },
      "source": [
        "<h2 id=\"Log\">Logistic Function</h2>\n"
      ]
    },
    {
      "cell_type": "markdown",
      "metadata": {
        "id": "95e737c1-646e-4b69-b0ea-220668531009"
      },
      "source": [
        "Create a tensor ranging from -100 to 100:\n"
      ]
    },
    {
      "cell_type": "code",
      "metadata": {
        "id": "79b81533-a6b6-45d6-af66-c717c1579ca9"
      },
      "outputs": [],
      "source": [
        "z = torch.arange(-100, 100, 0.1).view(-1, 1)\n",
        "print(\"The tensor: \", z)"
      ],
      "execution_count": null
    },
    {
      "cell_type": "markdown",
      "metadata": {
        "id": "88496040-5c88-4409-a564-38dc950ae8fc"
      },
      "source": [
        "Create a sigmoid object: \n"
      ]
    },
    {
      "cell_type": "code",
      "metadata": {
        "id": "f792481b-1504-4090-8be4-118879c3ce4b"
      },
      "outputs": [],
      "source": [
        "# Create sigmoid object\n",
        "\n",
        "sig = nn.Sigmoid()"
      ],
      "execution_count": null
    },
    {
      "cell_type": "markdown",
      "metadata": {
        "id": "0bfed441-a4cc-49ad-b2c3-a70873f4ab76"
      },
      "source": [
        "Apply the element-wise function Sigmoid with the object:\n"
      ]
    },
    {
      "cell_type": "code",
      "metadata": {
        "id": "64588a50-88a1-4e4a-a2b4-98d9aeae3314"
      },
      "outputs": [],
      "source": [
        "# Use sigmoid object to calculate the \n",
        "\n",
        "yhat = sig(z)"
      ],
      "execution_count": null
    },
    {
      "cell_type": "markdown",
      "metadata": {
        "id": "e65967bb-f9d4-41ce-8cd5-cc2b1c511512"
      },
      "source": [
        "Plot the results: \n"
      ]
    },
    {
      "cell_type": "code",
      "metadata": {
        "id": "8168f8b4-7683-4a05-981f-e50c2d653d96"
      },
      "outputs": [],
      "source": [
        "plt.plot(z.numpy(), yhat.numpy())\n",
        "plt.xlabel('z')\n",
        "plt.ylabel('yhat')"
      ],
      "execution_count": null
    },
    {
      "cell_type": "markdown",
      "metadata": {
        "id": "1573d93d-19f4-4872-8341-36ff8a1c176b"
      },
      "source": [
        "Apply the element-wise Sigmoid from the function module and plot the results:\n"
      ]
    },
    {
      "cell_type": "code",
      "metadata": {
        "id": "6dec4c2d-8998-4401-be1b-4b5b51aa1172"
      },
      "outputs": [],
      "source": [
        "yhat = torch.sigmoid(z)\n",
        "plt.plot(z.numpy(), yhat.numpy())"
      ],
      "execution_count": null
    },
    {
      "cell_type": "markdown",
      "metadata": {
        "id": "3bb6040a-f6de-47fe-919c-1feae515cdeb"
      },
      "source": [
        "<!--Empty Space for separating topics-->\n"
      ]
    },
    {
      "cell_type": "markdown",
      "metadata": {
        "id": "1db34c2b-0145-4200-8593-65c31ecfff5e"
      },
      "source": [
        "<h2 id=\"Seq\">Build a Logistic Regression with <code>nn.Sequential</code></h2>\n"
      ]
    },
    {
      "cell_type": "markdown",
      "metadata": {
        "id": "eea42923-bf8e-4b4b-ab44-279b0b5f242e"
      },
      "source": [
        "Create a 1x1 tensor where x represents one data sample with one dimension, and 2x1 tensor X represents two data samples of one dimension:\n"
      ]
    },
    {
      "cell_type": "code",
      "metadata": {
        "id": "f9502b42-42a2-4a1a-b32f-b214e3528df7"
      },
      "outputs": [],
      "source": [
        "# Create x and X tensor\n",
        "\n",
        "x = torch.tensor([[1.0]])\n",
        "X = torch.tensor([[1.0], [100]])\n",
        "print('x = ', x)\n",
        "print('X = ', X)"
      ],
      "execution_count": null
    },
    {
      "cell_type": "markdown",
      "metadata": {
        "id": "de45bda7-1d99-484c-a6aa-c03a1cf556bd"
      },
      "source": [
        "Create a logistic regression object with the <code>nn.Sequential</code> model with a one-dimensional input:\n"
      ]
    },
    {
      "cell_type": "code",
      "metadata": {
        "id": "b41c9f2e-181f-4da1-8287-ec1164897690"
      },
      "outputs": [],
      "source": [
        "# Use sequential function to create model\n",
        "\n",
        "model = nn.Sequential(nn.Linear(1, 1), nn.Sigmoid())"
      ],
      "execution_count": null
    },
    {
      "cell_type": "markdown",
      "metadata": {
        "id": "928d0eea-edba-4c0a-9305-e9807e979620"
      },
      "source": [
        "The object is represented in the following diagram: \n"
      ]
    },
    {
      "cell_type": "markdown",
      "metadata": {
        "id": "353ecc7a-1b48-4140-9c41-285b33d2e9f2"
      },
      "source": [
        "<img src=\"https://s3-api.us-geo.objectstorage.softlayer.net/cf-courses-data/CognitiveClass/DL0110EN/notebook_images%20/chapter3/3.1.1_logistic_regression_block_diagram.png\" width=\"800,\" align=\"center\" alt=\"logistic regression block diagram\">\n"
      ]
    },
    {
      "cell_type": "markdown",
      "metadata": {
        "id": "6bfb1620-624b-40e9-9809-2a3f8a48e363"
      },
      "source": [
        "In this case, the parameters are randomly initialized. You can view them the following ways:\n"
      ]
    },
    {
      "cell_type": "code",
      "metadata": {
        "id": "b6b3adc7-61a3-4bad-addc-1d9351890e8f"
      },
      "outputs": [],
      "source": [
        "# Print the parameters\n",
        "\n",
        "print(\"list(model.parameters()):\\n \", list(model.parameters()))\n",
        "print(\"\\nmodel.state_dict():\\n \", model.state_dict())"
      ],
      "execution_count": null
    },
    {
      "cell_type": "markdown",
      "metadata": {
        "id": "a1d6f56f-9f99-4e0e-891b-b87fd4e95512"
      },
      "source": [
        "Make a prediction with one sample:\n"
      ]
    },
    {
      "cell_type": "code",
      "metadata": {
        "id": "5db25f8e-e15b-4ec6-a14d-4a18c472c286"
      },
      "outputs": [],
      "source": [
        "# The prediction for x\n",
        "\n",
        "yhat = model(x)\n",
        "print(\"The prediction: \", yhat)"
      ],
      "execution_count": null
    },
    {
      "cell_type": "markdown",
      "metadata": {
        "id": "1d55ff25-de09-4cf3-b79b-9802cdeebd37"
      },
      "source": [
        "Calling the object with tensor <code>X</code> performed the following operation <b>(code values may not be the same as the diagrams value  depending on the version of PyTorch) </b>:\n"
      ]
    },
    {
      "cell_type": "markdown",
      "metadata": {
        "id": "2280a251-5b54-4a74-b9a1-8131d6d1a658"
      },
      "source": [
        "<img src=\"https://s3-api.us-geo.objectstorage.softlayer.net/cf-courses-data/CognitiveClass/DL0110EN/notebook_images%20/chapter3/3.1.1_logistic_functio_example%20.png\" width=\"400\" alt=\"Logistic Example\">\n"
      ]
    },
    {
      "cell_type": "markdown",
      "metadata": {
        "id": "aa0139a2-c873-4ce6-827b-cfb550aa56bc"
      },
      "source": [
        "Make a prediction with multiple samples:\n"
      ]
    },
    {
      "cell_type": "code",
      "metadata": {
        "id": "13e13a1f-c3b7-4a49-97b2-00f2f1819c83"
      },
      "outputs": [],
      "source": [
        "# The prediction for X\n",
        "\n",
        "yhat = model(X)\n",
        "yhat"
      ],
      "execution_count": null
    },
    {
      "cell_type": "markdown",
      "metadata": {
        "id": "7090df93-58a4-424a-8bd7-091ce59f3816"
      },
      "source": [
        "Calling the object performed the following operation: \n"
      ]
    },
    {
      "cell_type": "markdown",
      "metadata": {
        "id": "050744bf-f993-4398-b0d7-2738b5b65063"
      },
      "source": [
        "Create a 1x2 tensor where x represents one data sample with one dimension, and 2x3 tensor X represents one data sample of two dimensions:\n"
      ]
    },
    {
      "cell_type": "code",
      "metadata": {
        "id": "7aa9eded-ca8a-4c3c-8f8a-2452c5dc3190"
      },
      "outputs": [],
      "source": [
        "# Create and print samples\n",
        "\n",
        "x = torch.tensor([[1.0, 1.0]])\n",
        "X = torch.tensor([[1.0, 1.0], [1.0, 2.0], [1.0, 3.0]])\n",
        "print('x = ', x)\n",
        "print('X = ', X)"
      ],
      "execution_count": null
    },
    {
      "cell_type": "markdown",
      "metadata": {
        "id": "f7488e40-dde4-4d06-b38b-0b93809a6125"
      },
      "source": [
        "Create a logistic regression object with the <code>nn.Sequential</code> model with a two-dimensional input: \n"
      ]
    },
    {
      "cell_type": "code",
      "metadata": {
        "id": "ec73ff49-cecb-4289-8211-5756e7f9ed7b"
      },
      "outputs": [],
      "source": [
        "# Create new model using nn.sequential()\n",
        "\n",
        "model = nn.Sequential(nn.Linear(2, 1), nn.Sigmoid())"
      ],
      "execution_count": null
    },
    {
      "cell_type": "markdown",
      "metadata": {
        "id": "5f3066b3-4c4a-40a4-a63b-90f3490cb3bc"
      },
      "source": [
        "The object will apply the Sigmoid function to the output of the linear function as shown in the following diagram:\n"
      ]
    },
    {
      "cell_type": "markdown",
      "metadata": {
        "id": "74353cfc-0e5e-464f-80d0-c4aa2aaacfac"
      },
      "source": [
        "<img src=\"https://s3-api.us-geo.objectstorage.softlayer.net/cf-courses-data/CognitiveClass/DL0110EN/notebook_images%20/chapter3/3.1.1logistic_output.png\" width=\"800\" alt=\"The structure of nn.sequential\">\n"
      ]
    },
    {
      "cell_type": "markdown",
      "metadata": {
        "id": "d3c85902-d8da-42e9-a286-203e31297267"
      },
      "source": [
        "In this case, the parameters are randomly initialized. You can view them the following ways:\n"
      ]
    },
    {
      "cell_type": "code",
      "metadata": {
        "id": "f95b6dfd-5918-4c96-a2ab-21507b0df5db"
      },
      "outputs": [],
      "source": [
        "# Print the parameters\n",
        "\n",
        "print(\"list(model.parameters()):\\n \", list(model.parameters()))\n",
        "print(\"\\nmodel.state_dict():\\n \", model.state_dict())"
      ],
      "execution_count": null
    },
    {
      "cell_type": "markdown",
      "metadata": {
        "id": "d0f16030-32a6-42c9-9228-2b7f06046a95"
      },
      "source": [
        "Make a prediction with one sample:\n"
      ]
    },
    {
      "cell_type": "code",
      "metadata": {
        "id": "2a2e052d-cb21-4847-9026-f54ae1923175"
      },
      "outputs": [],
      "source": [
        "# Make the prediction of x\n",
        "\n",
        "yhat = model(x)\n",
        "print(\"The prediction: \", yhat)"
      ],
      "execution_count": null
    },
    {
      "cell_type": "markdown",
      "metadata": {
        "id": "5207bd3a-469c-4a43-ab14-81f77bdd22f0"
      },
      "source": [
        "The operation is represented in the following diagram:\n"
      ]
    },
    {
      "cell_type": "markdown",
      "metadata": {
        "id": "4cbe91a8-8b3e-45d4-aa14-cd41bac008eb"
      },
      "source": [
        "<img src=\"https://s3-api.us-geo.objectstorage.softlayer.net/cf-courses-data/CognitiveClass/DL0110EN/notebook_images%20/chapter3/3.3.1.logisticwithouptut.png\" width=\"500\" alt=\"Sequential Example\">\n"
      ]
    },
    {
      "cell_type": "markdown",
      "metadata": {
        "id": "eaa76ce1-271a-4a38-b7bd-24bfd58b27db"
      },
      "source": [
        "Make a prediction with multiple samples:\n"
      ]
    },
    {
      "cell_type": "code",
      "metadata": {
        "id": "cbb05408-b5cf-4016-921a-bf91286da02d"
      },
      "outputs": [],
      "source": [
        "# The prediction of X\n",
        "\n",
        "yhat = model(X)\n",
        "print(\"The prediction: \", yhat)"
      ],
      "execution_count": null
    },
    {
      "cell_type": "markdown",
      "metadata": {
        "id": "b249905d-0b2d-4391-a50f-12faa39b4173"
      },
      "source": [
        "The operation is represented in the following diagram: \n"
      ]
    },
    {
      "cell_type": "markdown",
      "metadata": {
        "id": "824a9b14-6cec-4894-a98d-bd7f795307f9"
      },
      "source": [
        "<img src=\"https://s3-api.us-geo.objectstorage.softlayer.net/cf-courses-data/CognitiveClass/DL0110EN/notebook_images%20/chapter3/3.1.1_logistic_with_outputs2.png\" width=\"800\" alt=\"Sequential Example\">\n"
      ]
    },
    {
      "cell_type": "markdown",
      "metadata": {
        "id": "1ee0ff3e-7f84-4fdf-a076-8f4cf4ebca6d"
      },
      "source": [
        "<!--Empty Space for separating topics-->\n"
      ]
    },
    {
      "cell_type": "markdown",
      "metadata": {
        "id": "6141e7c7-7750-42b4-806c-4cff94a3b211"
      },
      "source": [
        "<h2 id=\"Model\">Build Custom Modules</h2>\n"
      ]
    },
    {
      "cell_type": "markdown",
      "metadata": {
        "id": "bdc8d75e-a567-4e42-88ef-1b8da25281d7"
      },
      "source": [
        "In this section, you will build a custom Module or class. The model or object function is identical to using <code>nn.Sequential</code>.\n"
      ]
    },
    {
      "cell_type": "markdown",
      "metadata": {
        "id": "d183fadf-28f2-4bbc-858f-a52867527b8c"
      },
      "source": [
        "Create a logistic regression custom module:\n"
      ]
    },
    {
      "cell_type": "code",
      "metadata": {
        "id": "fb62e032-594a-4622-9f32-84244be136df"
      },
      "outputs": [],
      "source": [
        "# Create logistic_regression custom class\n",
        "\n",
        "class logistic_regression(nn.Module):\n",
        "    \n",
        "    # Constructor\n",
        "    def __init__(self, n_inputs):\n",
        "        super(logistic_regression, self).__init__()\n",
        "        self.linear = nn.Linear(n_inputs, 1)\n",
        "    \n",
        "    # Prediction\n",
        "    def forward(self, x):\n",
        "        yhat = torch.sigmoid(self.linear(x))\n",
        "        return yhat"
      ],
      "execution_count": null
    },
    {
      "cell_type": "markdown",
      "metadata": {
        "id": "80b150d5-8ddd-4ebc-af96-3210787b1e96"
      },
      "source": [
        "Create a 1x1 tensor where x represents one data sample with one dimension, and 3x1 tensor where $X$ represents one data sample of one dimension:\n"
      ]
    },
    {
      "cell_type": "code",
      "metadata": {
        "id": "c770f683-7a06-4c0a-be86-3a93cc0759df"
      },
      "outputs": [],
      "source": [
        "# Create x and X tensor\n",
        "\n",
        "x = torch.tensor([[1.0]])\n",
        "X = torch.tensor([[-100], [0], [100.0]])\n",
        "print('x = ', x)\n",
        "print('X = ', X)"
      ],
      "execution_count": null
    },
    {
      "cell_type": "markdown",
      "metadata": {
        "id": "a79af9a9-9038-4f06-9e79-01e54ad72f0f"
      },
      "source": [
        "Create a model to predict one dimension: \n"
      ]
    },
    {
      "cell_type": "code",
      "metadata": {
        "id": "06372816-4ba5-4bf5-8b4a-4e9fc26fb3f0"
      },
      "outputs": [],
      "source": [
        "# Create logistic regression model\n",
        "\n",
        "model = logistic_regression(1)"
      ],
      "execution_count": null
    },
    {
      "cell_type": "markdown",
      "metadata": {
        "id": "c2ff4ae7-2487-4b2c-8827-ff0ccb99e185"
      },
      "source": [
        "In this case, the parameters are randomly initialized. You can view them the following ways:\n"
      ]
    },
    {
      "cell_type": "code",
      "metadata": {
        "id": "9e0a148c-084e-4520-9411-1d5f02011a47"
      },
      "outputs": [],
      "source": [
        "# Print parameters \n",
        "\n",
        "print(\"list(model.parameters()):\\n \", list(model.parameters()))\n",
        "print(\"\\nmodel.state_dict():\\n \", model.state_dict())"
      ],
      "execution_count": null
    },
    {
      "cell_type": "markdown",
      "metadata": {
        "id": "d957ee59-7a71-499b-9996-68fb243b050a"
      },
      "source": [
        "Make a prediction with one sample:\n"
      ]
    },
    {
      "cell_type": "code",
      "metadata": {
        "id": "40d12618-f8ff-4a24-9767-0e6de08f36e1"
      },
      "outputs": [],
      "source": [
        "# Make the prediction of x\n",
        "\n",
        "yhat = model(x)\n",
        "print(\"The prediction result: \\n\", yhat)"
      ],
      "execution_count": null
    },
    {
      "cell_type": "markdown",
      "metadata": {
        "id": "ca5d973d-0052-4f16-be81-7b2c88531f9f"
      },
      "source": [
        "Make a prediction with multiple samples:\n"
      ]
    },
    {
      "cell_type": "code",
      "metadata": {
        "id": "953c1a24-f408-4c52-8be9-0f54cd3b594a"
      },
      "outputs": [],
      "source": [
        "# Make the prediction of X\n",
        "\n",
        "yhat = model(X)\n",
        "print(\"The prediction result: \\n\", yhat)"
      ],
      "execution_count": null
    },
    {
      "cell_type": "markdown",
      "metadata": {
        "id": "59b7d818-ee1f-4f61-9391-54fc17247eb5"
      },
      "source": [
        "Create a logistic regression object with a function with two inputs: \n"
      ]
    },
    {
      "cell_type": "code",
      "metadata": {
        "id": "3dc6e9dd-d755-4584-97cc-3cf14e385f43"
      },
      "outputs": [],
      "source": [
        "# Create logistic regression model\n",
        "\n",
        "model = logistic_regression(2)"
      ],
      "execution_count": null
    },
    {
      "cell_type": "markdown",
      "metadata": {
        "id": "deec3002-d113-4ed5-b7b9-8d16a72df094"
      },
      "source": [
        "Create a 1x2 tensor where x represents one data sample with one dimension, and 3x2 tensor X represents one data sample of one dimension:\n"
      ]
    },
    {
      "cell_type": "code",
      "metadata": {
        "id": "59ae0571-642c-426f-b327-9ad540cd1a23"
      },
      "outputs": [],
      "source": [
        "# Create x and X tensor\n",
        "\n",
        "x = torch.tensor([[1.0, 2.0]])\n",
        "X = torch.tensor([[100, -100], [0.0, 0.0], [-100, 100]])\n",
        "print('x = ', x)\n",
        "print('X = ', X)"
      ],
      "execution_count": null
    },
    {
      "cell_type": "markdown",
      "metadata": {
        "id": "5dc794b6-3b62-4a5f-8a36-e06f2fe9ae55"
      },
      "source": [
        "Make a prediction with one sample:\n"
      ]
    },
    {
      "cell_type": "code",
      "metadata": {
        "id": "422b205c-59bf-4017-8e79-bccd2aaf3f65"
      },
      "outputs": [],
      "source": [
        "# Make the prediction of x\n",
        "\n",
        "yhat = model(x)\n",
        "print(\"The prediction result: \\n\", yhat)"
      ],
      "execution_count": null
    },
    {
      "cell_type": "markdown",
      "metadata": {
        "id": "9c9d179a-abe7-4bfc-9ba1-13aeefcf187d"
      },
      "source": [
        "Make a prediction with multiple samples: \n"
      ]
    },
    {
      "cell_type": "code",
      "metadata": {
        "id": "8936881e-7aca-424a-b796-294d616b11f9"
      },
      "outputs": [],
      "source": [
        "# Make the prediction of X\n",
        "\n",
        "yhat = model(X)\n",
        "print(\"The prediction result: \\n\", yhat)"
      ],
      "execution_count": null
    },
    {
      "cell_type": "markdown",
      "metadata": {
        "id": "a88a334c-a15a-4922-98a4-f8b966ac783a"
      },
      "source": [
        "<!--Empty Space for separating topics-->\n"
      ]
    },
    {
      "cell_type": "markdown",
      "metadata": {
        "id": "61a6ca86-7c0f-46ac-a2e8-a25f0d14abc2"
      },
      "source": [
        "<h3>Practice</h3>\n"
      ]
    },
    {
      "cell_type": "markdown",
      "metadata": {
        "id": "e3753679-aab7-4583-8d05-1c65bf130863"
      },
      "source": [
        "Make your own model <code>my_model</code> as applying linear regression first and then logistic regression using <code>nn.Sequential()</code>. Print out your prediction.\n"
      ]
    },
    {
      "cell_type": "code",
      "metadata": {
        "id": "57bbcdab-4213-41b2-91d8-5c6deecd6ec2"
      },
      "outputs": [],
      "source": [
        "# Practice: Make your model and make the prediction\n",
        "\n",
        "X = torch.tensor([-10.0])"
      ],
      "execution_count": null
    },
    {
      "cell_type": "markdown",
      "metadata": {
        "id": "0eb2f6fd-87a1-4bf8-bb41-f328bd826d40"
      },
      "source": [
        "Double-click <b>here</b> for the solution.\n",
        "\n",
        "<!-- \n",
        "my_model = nn.Sequential(nn.Linear(1, 1),nn.Sigmoid())\n",
        "yhat = my_model(X)\n",
        "print(\"The prediction: \", yhat)\n",
        "-->\n"
      ]
    },
    {
      "cell_type": "markdown",
      "metadata": {
        "id": "c90746ae-e788-4542-9ea2-b35506f41153"
      },
      "source": [
        "\n",
        "\n",
        "<a href=\"https://dataplatform.cloud.ibm.com/registration/stepone?utm_medium=Exinfluencer&utm_source=Exinfluencer&utm_content=000026UJ&utm_term=10006555&utm_id=NA-SkillsNetwork-Channel-SkillsNetworkCoursesIBMDeveloperSkillsNetworkDL0110ENSkillsNetwork952-2022-01-01&context=cpdaas&apps=data_science_experience%2Cwatson_machine_learning\"><img src=\"https://cf-courses-data.s3.us.cloud-object-storage.appdomain.cloud/IBMDeveloperSkillsNetwork-DL0110EN-SkillsNetwork/Template/module%201/images/Watson_Studio.png\"></a>\n"
      ]
    },
    {
      "cell_type": "markdown",
      "metadata": {
        "id": "4ca87c2c-be8c-4fc7-860a-a24dc543d03f"
      },
      "source": [
        "<!--Empty Space for separating topics-->\n"
      ]
    },
    {
      "cell_type": "markdown",
      "metadata": {
        "id": "f8f6dd6e-a03a-4042-98b0-7ccb6dad407d"
      },
      "source": [
        "<h2>About the Authors:</h2> \n",
        "\n",
        "<a href=\"https://www.linkedin.com/in/joseph-s-50398b136/?utm_medium=Exinfluencer&utm_source=Exinfluencer&utm_content=000026UJ&utm_term=10006555&utm_id=NA-SkillsNetwork-Channel-SkillsNetworkCoursesIBMDeveloperSkillsNetworkDL0110ENSkillsNetwork952-2022-01-01\">Joseph Santarcangelo</a> has a PhD in Electrical Engineering, his research focused on using machine learning, signal processing, and computer vision to determine how videos impact human cognition. Joseph has been working for IBM since he completed his PhD. \n"
      ]
    },
    {
      "cell_type": "markdown",
      "metadata": {
        "id": "4e877c51-65e6-4870-912e-e40b4ee7c47d"
      },
      "source": [
        "Other contributors: <a href=\"https://www.linkedin.com/in/michelleccarey/?utm_medium=Exinfluencer&utm_source=Exinfluencer&utm_content=000026UJ&utm_term=10006555&utm_id=NA-SkillsNetwork-Channel-SkillsNetworkCoursesIBMDeveloperSkillsNetworkDL0110ENSkillsNetwork952-2022-01-01\">Michelle Carey</a>, <a href=\"www.linkedin.com/in/jiahui-mavis-zhou-a4537814a\">Mavis Zhou</a>\n"
      ]
    },
    {
      "cell_type": "markdown",
      "metadata": {
        "id": "25ea784c-75f4-4998-9fd7-04c91f9dab53"
      },
      "source": [
        "\n",
        "## Change Log\n",
        "\n",
        "|  Date (YYYY-MM-DD) |  Version | Changed By  |  Change Description |\n",
        "|---|---|---|---|\n",
        "| 2020-09-23  | 2.0  | Shubham  |  Migrated Lab to Markdown and added to course repo in GitLab |\n",
        "\n"
      ]
    },
    {
      "cell_type": "markdown",
      "metadata": {
        "id": "db964d0a-eaca-4d8e-886b-19f2f0389ad1"
      },
      "source": [
        "<hr>\n"
      ]
    },
    {
      "cell_type": "markdown",
      "metadata": {
        "id": "06b154bf-4116-4e2f-8215-d6784e1978c7"
      },
      "source": [
        "\n",
        "## <h3 align=\"center\"> © IBM Corporation 2020. All rights reserved. <h3/>\n"
      ]
    }
  ],
  "metadata": {
    "kernelspec": {
      "display_name": "Python",
      "language": "python",
      "name": "conda-env-python-py"
    },
    "language_info": {
      "name": ""
    },
    "colab": {
      "provenance": [],
      "include_colab_link": true
    }
  },
  "nbformat": 4,
  "nbformat_minor": 0
}