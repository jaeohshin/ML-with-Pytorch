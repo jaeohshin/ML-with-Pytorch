{
  "nbformat": 4,
  "nbformat_minor": 0,
  "metadata": {
    "colab": {
      "provenance": [],
      "authorship_tag": "ABX9TyMCpJXAA1P2y4/qm8vB9LOQ",
      "include_colab_link": true
    },
    "kernelspec": {
      "name": "python3",
      "display_name": "Python 3"
    },
    "language_info": {
      "name": "python"
    }
  },
  "cells": [
    {
      "cell_type": "markdown",
      "metadata": {
        "id": "view-in-github",
        "colab_type": "text"
      },
      "source": [
        "<a href=\"https://colab.research.google.com/github/jaeohshin/pytorch/blob/main/00_pytorch_fundamentals_exercise.ipynb\" target=\"_parent\"><img src=\"https://colab.research.google.com/assets/colab-badge.svg\" alt=\"Open In Colab\"/></a>"
      ]
    },
    {
      "cell_type": "markdown",
      "source": [
        "00. PyTorch Fundamentals Exercises\n",
        "1. Documentation reading\n",
        "A big part of deep learning (and learning to code in general) is getting familiar with the documentation of a certain framework you're using. We'll be using the PyTorch documentation a lot throughout the rest of this course. So I'd recommend spending 10-minutes reading the following (it's okay if you don't get some things for now, the focus is not yet full understanding, it's awareness):\n",
        "\n",
        "The documentation on torch.Tensor.\n",
        "The documentation on torch.cuda."
      ],
      "metadata": {
        "id": "lnZgiM6lKuAS"
      }
    },
    {
      "cell_type": "code",
      "source": [
        "import torch\n",
        "random_tensor = torch.rand(7, 7)"
      ],
      "metadata": {
        "id": "KWJlg_9RKvpK"
      },
      "execution_count": 2,
      "outputs": []
    },
    {
      "cell_type": "markdown",
      "source": [],
      "metadata": {
        "id": "LBYK3Ib3KqqH"
      }
    },
    {
      "cell_type": "code",
      "source": [
        "random_tensor\n",
        "SEED = 0\n",
        "\n",
        "random_tensor_2 = torch.rand(1,7)\n",
        "random_tensor_2\n"
      ],
      "metadata": {
        "colab": {
          "base_uri": "https://localhost:8080/"
        },
        "id": "oAUsbsAlK_yB",
        "outputId": "b55ab99d-99af-4107-e6d1-083768e8d532"
      },
      "execution_count": 6,
      "outputs": [
        {
          "output_type": "execute_result",
          "data": {
            "text/plain": [
              "tensor([[0.1968, 0.5309, 0.4430, 0.4414, 0.5432, 0.1765, 0.3781],\n",
              "        [0.0456, 0.0244, 0.0186, 0.0191, 0.0473, 0.0092, 0.0603],\n",
              "        [0.0341, 0.1635, 0.4038, 0.6710, 0.6513, 0.1766, 0.0903],\n",
              "        [0.0854, 0.1225, 0.0402, 0.0872, 0.1573, 0.0174, 0.1121],\n",
              "        [0.1968, 0.0239, 0.0810, 0.2470, 0.0850, 0.0185, 0.2368],\n",
              "        [0.4347, 0.3762, 0.4336, 0.1687, 0.3364, 0.4413, 0.1607],\n",
              "        [0.3293, 0.2394, 0.1161, 0.3674, 0.2675, 0.0569, 0.2837]])"
            ]
          },
          "metadata": {},
          "execution_count": 6
        }
      ]
    },
    {
      "cell_type": "code",
      "source": [
        "torch.matmul(random_tensor, random_tensor_2.T).size()"
      ],
      "metadata": {
        "colab": {
          "base_uri": "https://localhost:8080/"
        },
        "id": "kefoEnUKLXLt",
        "outputId": "ed38a225-f8c4-43a8-d88c-2fb244c9e52c"
      },
      "execution_count": 9,
      "outputs": [
        {
          "output_type": "execute_result",
          "data": {
            "text/plain": [
              "torch.Size([7, 1])"
            ]
          },
          "metadata": {},
          "execution_count": 9
        }
      ]
    },
    {
      "cell_type": "code",
      "source": [],
      "metadata": {
        "id": "HcxCZ4CXLZjC"
      },
      "execution_count": null,
      "outputs": []
    }
  ]
}