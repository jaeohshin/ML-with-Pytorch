{
  "cells": [
    {
      "cell_type": "markdown",
      "metadata": {
        "id": "view-in-github",
        "colab_type": "text"
      },
      "source": [
        "<a href=\"https://colab.research.google.com/github/jaeohshin/pytorch/blob/main/8_2_1dropoutPredictin_v2.ipynb\" target=\"_parent\"><img src=\"https://colab.research.google.com/assets/colab-badge.svg\" alt=\"Open In Colab\"/></a>"
      ]
    },
    {
      "cell_type": "markdown",
      "metadata": {
        "id": "35c75b43-1cad-42a3-8d3d-c411b4886a12"
      },
      "source": [
        "<p style=\"text-align:center\">\n",
        "    <a href=\"https://skills.network/?utm_medium=Exinfluencer&utm_source=Exinfluencer&utm_content=000026UJ&utm_term=10006555&utm_id=NA-SkillsNetwork-Channel-SkillsNetworkCoursesIBMDeveloperSkillsNetworkDL0110ENSkillsNetwork952-2022-01-01\" target=\"_blank\">\n",
        "    <img src=\"https://cf-courses-data.s3.us.cloud-object-storage.appdomain.cloud/assets/logos/SN_web_lightmode.png\" width=\"200\" alt=\"Skills Network Logo\"  />\n",
        "    </a>\n",
        "</p>\n"
      ]
    },
    {
      "cell_type": "markdown",
      "metadata": {
        "id": "290ef672-ab52-4f88-9515-2a98eebbca10"
      },
      "source": [
        "<h1>Using Dropout for Classification </h1>\n"
      ]
    },
    {
      "cell_type": "markdown",
      "metadata": {
        "id": "7f58892f-6138-41ab-afbd-14d1a165fa46"
      },
      "source": [
        "\n",
        "<h3>Objective for this Notebook<h3>    \n",
        "<h5> 1. Create the Model and Cost Function the PyTorch way.</h5>\n",
        "<h5> 2. Batch Gradient Descent </h5>    \n",
        "\n"
      ]
    },
    {
      "cell_type": "markdown",
      "metadata": {
        "id": "80f5ac85-9c68-43b2-8cee-2c6d31dac679"
      },
      "source": [
        "<h2>Table of Contents</h2>\n",
        "<p>In this lab, you will see how adding dropout to your model will decrease overfitting.</p>\n",
        "\n",
        "<ul>\n",
        "<li><a href=\"#Makeup_Data\">Make Some Data</a></li>\n",
        "<li><a href=\"#Model_Cost\">Create the Model and Cost Function the PyTorch way</a></li>\n",
        "<li><a href=\"#BGD\">Batch Gradient Descent</a></li>\n",
        "</ul>\n",
        "<p>Estimated Time Needed: <strong>20 min</strong></p>\n",
        "\n",
        "<hr>\n"
      ]
    },
    {
      "cell_type": "markdown",
      "metadata": {
        "id": "b8e70f01-730b-473b-91f2-79e18277021a"
      },
      "source": [
        "<h2>Preparation</h2>\n"
      ]
    },
    {
      "cell_type": "markdown",
      "metadata": {
        "id": "352bea2f-04c3-4f54-850b-28caccc8116d"
      },
      "source": [
        "We'll need the following libraries\n"
      ]
    },
    {
      "cell_type": "code",
      "metadata": {
        "id": "cdbfffb9-dd48-4359-9c7d-accdec5b2625"
      },
      "outputs": [],
      "source": [
        "# Import the libraries we need for this lab\n",
        "\n",
        "import torch\n",
        "import matplotlib.pyplot as plt\n",
        "import torch.nn as nn\n",
        "import torch.nn.functional as F\n",
        "import numpy as np\n",
        "from matplotlib.colors import ListedColormap\n",
        "from torch.utils.data import Dataset, DataLoader"
      ],
      "execution_count": null
    },
    {
      "cell_type": "markdown",
      "metadata": {
        "id": "1b50d8ca-4292-405e-b7c4-4cca40d8987b"
      },
      "source": [
        "Use this function only for plotting:\n"
      ]
    },
    {
      "cell_type": "code",
      "metadata": {
        "id": "e61cef57-adb1-45bc-9d37-f336e9affcba"
      },
      "outputs": [],
      "source": [
        "# The function for plotting the diagram\n",
        "\n",
        "def plot_decision_regions_3class(data_set, model=None):\n",
        "    cmap_light = ListedColormap([ '#0000FF','#FF0000'])\n",
        "    cmap_bold = ListedColormap(['#FF0000', '#00FF00', '#00AAFF'])\n",
        "    X = data_set.x.numpy()\n",
        "    y = data_set.y.numpy()\n",
        "    h = .02\n",
        "    x_min, x_max = X[:, 0].min() - 0.1, X[:, 0].max() + 0.1 \n",
        "    y_min, y_max = X[:, 1].min() - 0.1, X[:, 1].max() + 0.1 \n",
        "    xx, yy = np.meshgrid(np.arange(x_min, x_max, h), np.arange(y_min, y_max, h))\n",
        "    newdata = np.c_[xx.ravel(), yy.ravel()]\n",
        "    \n",
        "    Z = data_set.multi_dim_poly(newdata).flatten()\n",
        "    f = np.zeros(Z.shape)\n",
        "    f[Z > 0] = 1\n",
        "    f = f.reshape(xx.shape)\n",
        "    if model != None:\n",
        "        model.eval()\n",
        "        XX = torch.Tensor(newdata)\n",
        "        _, yhat = torch.max(model(XX), 1)\n",
        "        yhat = yhat.numpy().reshape(xx.shape)\n",
        "        plt.pcolormesh(xx, yy, yhat, cmap=cmap_light)\n",
        "        plt.contour(xx, yy, f, cmap=plt.cm.Paired)\n",
        "    else:\n",
        "        plt.contour(xx, yy, f, cmap=plt.cm.Paired)\n",
        "        plt.pcolormesh(xx, yy, f, cmap=cmap_light) \n",
        "\n",
        "    plt.title(\"decision region vs True decision boundary\")"
      ],
      "execution_count": null
    },
    {
      "cell_type": "markdown",
      "metadata": {
        "id": "77f57d53-3c9f-423b-9b27-b409e1cf66b9"
      },
      "source": [
        "Use this function to calculate accuracy: \n"
      ]
    },
    {
      "cell_type": "code",
      "metadata": {
        "id": "e12ab68b-0fac-40bd-80fd-caac6462c667"
      },
      "outputs": [],
      "source": [
        "# The function for calculating accuracy\n",
        "\n",
        "def accuracy(model, data_set):\n",
        "    _, yhat = torch.max(model(data_set.x), 1)\n",
        "    return (yhat == data_set.y).numpy().mean()"
      ],
      "execution_count": null
    },
    {
      "cell_type": "markdown",
      "metadata": {
        "id": "bd08ad57-3e84-4e05-b01b-cc7e195515ea"
      },
      "source": [
        "<!--Empty Space for separating topics-->\n"
      ]
    },
    {
      "cell_type": "markdown",
      "metadata": {
        "id": "21d175b9-a124-49be-baa8-15d958f4e55c"
      },
      "source": [
        "<h2 id=\"Makeup_Data\">Make Some Data</h2>\n"
      ]
    },
    {
      "cell_type": "markdown",
      "metadata": {
        "id": "57c50aab-bf2c-4fba-b510-7dc8892f46e1"
      },
      "source": [
        "Create a nonlinearly separable dataset:    \n"
      ]
    },
    {
      "cell_type": "code",
      "metadata": {
        "id": "ee9540de-a38b-4329-8829-f3b6037cff58"
      },
      "outputs": [],
      "source": [
        "# Create data class for creating dataset object\n",
        "\n",
        "class Data(Dataset):\n",
        "    \n",
        "    # Constructor\n",
        "    def __init__(self, N_SAMPLES=1000, noise_std=0.15, train=True):\n",
        "        a = np.matrix([-1, 1, 2, 1, 1, -3, 1]).T\n",
        "        self.x = np.matrix(np.random.rand(N_SAMPLES, 2))\n",
        "        self.f = np.array(a[0] + (self.x) * a[1:3] + np.multiply(self.x[:, 0], self.x[:, 1]) * a[4] + np.multiply(self.x, self.x) * a[5:7]).flatten()\n",
        "        self.a = a\n",
        "       \n",
        "        self.y = np.zeros(N_SAMPLES)\n",
        "        self.y[self.f > 0] = 1\n",
        "        self.y = torch.from_numpy(self.y).type(torch.LongTensor)\n",
        "        self.x = torch.from_numpy(self.x).type(torch.FloatTensor)\n",
        "        self.x = self.x + noise_std * torch.randn(self.x.size())\n",
        "        self.f = torch.from_numpy(self.f)\n",
        "        self.a = a\n",
        "        if train == True:\n",
        "            torch.manual_seed(1)\n",
        "            self.x = self.x + noise_std * torch.randn(self.x.size())\n",
        "            torch.manual_seed(0)\n",
        "        \n",
        "    # Getter        \n",
        "    def __getitem__(self, index):    \n",
        "        return self.x[index], self.y[index]\n",
        "    \n",
        "    # Get Length\n",
        "    def __len__(self):\n",
        "        return self.len\n",
        "    \n",
        "    # Plot the diagram\n",
        "    def plot(self):\n",
        "        X = data_set.x.numpy()\n",
        "        y = data_set.y.numpy()\n",
        "        h = .02\n",
        "        x_min, x_max = X[:, 0].min(), X[:, 0].max()\n",
        "        y_min, y_max = X[:, 1].min(), X[:, 1].max() \n",
        "        xx, yy = np.meshgrid(np.arange(x_min, x_max, h), np.arange(y_min, y_max, h))\n",
        "        Z = data_set.multi_dim_poly(np.c_[xx.ravel(), yy.ravel()]).flatten()\n",
        "        f = np.zeros(Z.shape)\n",
        "        f[Z > 0] = 1\n",
        "        f = f.reshape(xx.shape)\n",
        "        \n",
        "        plt.title('True decision boundary  and sample points with noise ')\n",
        "        plt.plot(self.x[self.y == 0, 0].numpy(), self.x[self.y == 0,1].numpy(), 'bo', label='y=0') \n",
        "        plt.plot(self.x[self.y == 1, 0].numpy(), self.x[self.y == 1,1].numpy(), 'ro', label='y=1')\n",
        "        plt.contour(xx, yy, f,cmap=plt.cm.Paired)\n",
        "        plt.xlim(0,1)\n",
        "        plt.ylim(0,1)\n",
        "        plt.legend()\n",
        "    \n",
        "    # Make a multidimension ploynomial function\n",
        "    def multi_dim_poly(self, x):\n",
        "        x = np.matrix(x)\n",
        "        out = np.array(self.a[0] + (x) * self.a[1:3] + np.multiply(x[:, 0], x[:, 1]) * self.a[4] + np.multiply(x, x) * self.a[5:7])\n",
        "        out = np.array(out)\n",
        "        return out"
      ],
      "execution_count": null
    },
    {
      "cell_type": "markdown",
      "metadata": {
        "id": "9e93cb74-191e-4314-8be9-cd1586d694ae"
      },
      "source": [
        "Create a dataset object:\n"
      ]
    },
    {
      "cell_type": "code",
      "metadata": {
        "id": "f3a3c091-8937-4367-9f6f-66c4bca72119"
      },
      "outputs": [],
      "source": [
        "# Create a dataset object\n",
        "\n",
        "data_set = Data(noise_std=0.2)\n",
        "data_set.plot()"
      ],
      "execution_count": null
    },
    {
      "cell_type": "markdown",
      "metadata": {
        "id": "4d1b8f12-fa88-43e3-9b3c-5c4b01f884cd"
      },
      "source": [
        "Validation data: \n"
      ]
    },
    {
      "cell_type": "code",
      "metadata": {
        "id": "48d168ce-0b42-40ac-88e5-7c28fe93c5de"
      },
      "outputs": [],
      "source": [
        "# Get some validation data\n",
        "\n",
        "torch.manual_seed(0) \n",
        "validation_set = Data(train=False)"
      ],
      "execution_count": null
    },
    {
      "cell_type": "markdown",
      "metadata": {
        "id": "eab2d7b7-5ab2-4315-b44e-7a62edd38bfc"
      },
      "source": [
        "<!--Empty Space for separating topics-->\n"
      ]
    },
    {
      "cell_type": "markdown",
      "metadata": {
        "id": "074d3e41-ba05-4387-a25b-e2faac6bcab7"
      },
      "source": [
        "<h2 id=\"Model_Cost\">Create the Model, Optimizer, and Total Loss Function (Cost)</h2>\n"
      ]
    },
    {
      "cell_type": "markdown",
      "metadata": {
        "id": "ab7a2f10-86cc-4dee-b3c8-98027efed941"
      },
      "source": [
        "Create a custom module with three layers. <code>in_size</code> is the size of the input features, <code>n_hidden</code> is the size of the layers, and <code>out_size</code> is the size. <code>p</code> is the dropout probability. The default is 0, that is, no dropout.\n"
      ]
    },
    {
      "cell_type": "code",
      "metadata": {
        "id": "c60c3404-1543-485b-8d00-7593284cd2b8"
      },
      "outputs": [],
      "source": [
        "# Create Net Class\n",
        "\n",
        "class Net(nn.Module):\n",
        "    \n",
        "    # Constructor\n",
        "    def __init__(self, in_size, n_hidden, out_size, p=0):\n",
        "        super(Net, self).__init__()\n",
        "        self.drop = nn.Dropout(p=p)\n",
        "        self.linear1 = nn.Linear(in_size, n_hidden)\n",
        "        self.linear2 = nn.Linear(n_hidden, n_hidden)\n",
        "        self.linear3 = nn.Linear(n_hidden, out_size)\n",
        "    \n",
        "    # Prediction function\n",
        "    def forward(self, x):\n",
        "        x = F.relu(self.drop(self.linear1(x)))\n",
        "        x = F.relu(self.drop(self.linear2(x)))\n",
        "        x = self.linear3(x)\n",
        "        return x"
      ],
      "execution_count": null
    },
    {
      "cell_type": "markdown",
      "metadata": {
        "id": "4974822d-4818-44f7-ac19-39f3855c5d98"
      },
      "source": [
        "Create two model objects: <code>model</code> had no dropout and <code>model_drop</code> has a dropout probability of 0.5:\n"
      ]
    },
    {
      "cell_type": "code",
      "metadata": {
        "id": "5714d415-aa4b-44e9-ac54-390ec3f9efef"
      },
      "outputs": [],
      "source": [
        "# Create two model objects: model without dropout and model with dropout\n",
        "\n",
        "model = Net(2, 300, 2)\n",
        "model_drop = Net(2, 300, 2, p=0.5)"
      ],
      "execution_count": null
    },
    {
      "cell_type": "markdown",
      "metadata": {
        "id": "91751753-b9a1-4fa8-a82e-aa093f1e74f7"
      },
      "source": [
        "<!--Empty Space for separating topics-->\n"
      ]
    },
    {
      "cell_type": "markdown",
      "metadata": {
        "id": "d3ff27eb-9159-4900-bd07-bc57fdf19841"
      },
      "source": [
        "<h2 id=\"BGD\">Train the Model via Mini-Batch Gradient Descent</h2>\n"
      ]
    },
    {
      "cell_type": "markdown",
      "metadata": {
        "id": "79986e9f-e65d-4b78-a884-04c358727c4e"
      },
      "source": [
        "Set the model using dropout to training mode; this is the default mode, but it's  good practice to write this in your code : \n"
      ]
    },
    {
      "cell_type": "code",
      "metadata": {
        "id": "8d240dab-5ecd-47c9-9636-6c55db9d139e"
      },
      "outputs": [],
      "source": [
        "# Set the model to training mode\n",
        "\n",
        "model_drop.train()"
      ],
      "execution_count": null
    },
    {
      "cell_type": "markdown",
      "metadata": {
        "id": "5fce3a97-d393-41f6-b3f9-f3d53e369e02"
      },
      "source": [
        "Train the model by using the Adam optimizer. See the unit on other optimizers. Use the Cross Entropy Loss:\n"
      ]
    },
    {
      "cell_type": "code",
      "metadata": {
        "id": "583ae811-d009-4f64-942f-6b4d48d239be"
      },
      "outputs": [],
      "source": [
        "# Set optimizer functions and criterion functions\n",
        "\n",
        "optimizer_ofit = torch.optim.Adam(model.parameters(), lr=0.01)\n",
        "optimizer_drop = torch.optim.Adam(model_drop.parameters(), lr=0.01)\n",
        "criterion = torch.nn.CrossEntropyLoss()"
      ],
      "execution_count": null
    },
    {
      "cell_type": "markdown",
      "metadata": {
        "id": "1ca3fadb-57d5-4a39-a6ae-554a661f729e"
      },
      "source": [
        "Initialize a dictionary that stores the training and validation loss for each model:\n"
      ]
    },
    {
      "cell_type": "code",
      "metadata": {
        "id": "cdcdee6c-ffce-4cde-b87d-397e18cfc3f4"
      },
      "outputs": [],
      "source": [
        "# Initialize the LOSS dictionary to store the loss\n",
        "\n",
        "LOSS = {}\n",
        "LOSS['training data no dropout'] = []\n",
        "LOSS['validation data no dropout'] = []\n",
        "LOSS['training data dropout'] = []\n",
        "LOSS['validation data dropout'] = []"
      ],
      "execution_count": null
    },
    {
      "cell_type": "markdown",
      "metadata": {
        "id": "0abf95cf-74e0-4c39-a8da-3b555dce7a97"
      },
      "source": [
        "Run 500 iterations of batch gradient gradient descent: \n"
      ]
    },
    {
      "cell_type": "code",
      "metadata": {
        "id": "42a1ede2-e68e-4a72-9ccc-2b1c172fbe82"
      },
      "outputs": [],
      "source": [
        "# Train the model\n",
        "\n",
        "epochs = 500\n",
        "\n",
        "def train_model(epochs):\n",
        "    \n",
        "    for epoch in range(epochs):\n",
        "        #all the samples are used for training \n",
        "        yhat = model(data_set.x)\n",
        "        yhat_drop = model_drop(data_set.x)\n",
        "        loss = criterion(yhat, data_set.y)\n",
        "        loss_drop = criterion(yhat_drop, data_set.y)\n",
        "\n",
        "        #store the loss for both the training and validation data for both models \n",
        "        LOSS['training data no dropout'].append(loss.item())\n",
        "        LOSS['validation data no dropout'].append(criterion(model(validation_set.x), validation_set.y).item())\n",
        "        LOSS['training data dropout'].append(loss_drop.item())\n",
        "        model_drop.eval()\n",
        "        LOSS['validation data dropout'].append(criterion(model_drop(validation_set.x), validation_set.y).item())\n",
        "        model_drop.train()\n",
        "\n",
        "        optimizer_ofit.zero_grad()\n",
        "        optimizer_drop.zero_grad()\n",
        "        loss.backward()\n",
        "        loss_drop.backward()\n",
        "        optimizer_ofit.step()\n",
        "        optimizer_drop.step()\n",
        "        \n",
        "train_model(epochs)"
      ],
      "execution_count": null
    },
    {
      "cell_type": "markdown",
      "metadata": {
        "id": "9fa6857a-2500-4c14-999b-142368b2ec43"
      },
      "source": [
        "Set the model with dropout to evaluation mode: \n"
      ]
    },
    {
      "cell_type": "code",
      "metadata": {
        "id": "c20c48ef-45d4-4c8a-af51-ff08bc47e5ca"
      },
      "outputs": [],
      "source": [
        "# Set the model to evaluation model\n",
        "\n",
        "model_drop.eval()"
      ],
      "execution_count": null
    },
    {
      "cell_type": "markdown",
      "metadata": {
        "id": "2f4de577-c53a-436f-b8ec-837d528f1f59"
      },
      "source": [
        "Test the model without dropout on the validation data: \n"
      ]
    },
    {
      "cell_type": "code",
      "metadata": {
        "id": "fe202e9f-3a3b-48cf-982d-52617a47d553"
      },
      "outputs": [],
      "source": [
        "# Print out the accuracy of the model without dropout\n",
        "\n",
        "print(\"The accuracy of the model without dropout: \", accuracy(model, validation_set))"
      ],
      "execution_count": null
    },
    {
      "cell_type": "markdown",
      "metadata": {
        "id": "9becbf3f-0d15-422b-937a-ec8583f01f66"
      },
      "source": [
        "Test the model with dropout on the validation data: \n"
      ]
    },
    {
      "cell_type": "code",
      "metadata": {
        "id": "a409911c-53b3-453c-95f6-347a50ecf903"
      },
      "outputs": [],
      "source": [
        "# Print out the accuracy of the model with dropout\n",
        "\n",
        "print(\"The accuracy of the model with dropout: \", accuracy(model_drop, validation_set))"
      ],
      "execution_count": null
    },
    {
      "cell_type": "markdown",
      "metadata": {
        "id": "e93099f7-a923-45e5-bf3f-6180c814aeeb"
      },
      "source": [
        "You see that the model with dropout performs better on the validation data.\n"
      ]
    },
    {
      "cell_type": "markdown",
      "metadata": {
        "id": "6d01646b-6830-4a15-acf8-71be7c6b6789"
      },
      "source": [
        "<h3>True Function</h3>\n"
      ]
    },
    {
      "cell_type": "markdown",
      "metadata": {
        "id": "872f8377-720c-466e-adc8-532db40f7078"
      },
      "source": [
        "Plot the decision boundary and the prediction of the networks in different colors.\n"
      ]
    },
    {
      "cell_type": "code",
      "metadata": {
        "id": "eb27476b-84f3-42cc-9aea-bb3df88f0548"
      },
      "outputs": [],
      "source": [
        "# Plot the decision boundary and the prediction\n",
        "\n",
        "plot_decision_regions_3class(data_set)"
      ],
      "execution_count": null
    },
    {
      "cell_type": "markdown",
      "metadata": {
        "id": "e350b72c-e26b-4968-b175-b9565c33a6bb"
      },
      "source": [
        "Model without Dropout:\n"
      ]
    },
    {
      "cell_type": "code",
      "metadata": {
        "id": "008abfb2-f21c-4a74-93e1-e203ba6c716d"
      },
      "outputs": [],
      "source": [
        "# The model without dropout\n",
        "\n",
        "plot_decision_regions_3class(data_set, model)"
      ],
      "execution_count": null
    },
    {
      "cell_type": "markdown",
      "metadata": {
        "id": "35e3ed19-2e69-4163-80dd-1a6f22e43aa2"
      },
      "source": [
        "Model with Dropout:\n"
      ]
    },
    {
      "cell_type": "code",
      "metadata": {
        "id": "71881a0e-4a8e-4965-bf1d-9d62c5236969"
      },
      "outputs": [],
      "source": [
        "# The model with dropout\n",
        "\n",
        "plot_decision_regions_3class(data_set, model_drop)"
      ],
      "execution_count": null
    },
    {
      "cell_type": "markdown",
      "metadata": {
        "id": "3492e415-02a5-4352-a49c-7f6c381b7cc0"
      },
      "source": [
        "You can see that the model using dropout does better at tracking the function that generated the data. \n"
      ]
    },
    {
      "cell_type": "markdown",
      "metadata": {
        "id": "4b8eaacb-f8b7-4fa9-a3d6-a2160fc91553"
      },
      "source": [
        "Plot out the loss for the training and validation data on both models, we use the log to make the difference more apparent\n"
      ]
    },
    {
      "cell_type": "code",
      "metadata": {
        "id": "3c5ea0e8-0be3-457a-9f46-947696876531"
      },
      "outputs": [],
      "source": [
        "# Plot the LOSS\n",
        "\n",
        "plt.figure(figsize=(6.1, 10))\n",
        "def plot_LOSS():\n",
        "    for key, value in LOSS.items():\n",
        "        plt.plot(np.log(np.array(value)), label=key)\n",
        "        plt.legend()\n",
        "        plt.xlabel(\"iterations\")\n",
        "        plt.ylabel(\"Log of cost or total loss\")\n",
        "\n",
        "plot_LOSS()"
      ],
      "execution_count": null
    },
    {
      "cell_type": "markdown",
      "metadata": {
        "id": "4645f6f5-d673-4e7c-8dd3-0aa1f362b00f"
      },
      "source": [
        "You see that the model without dropout performs better on the training data, but it performs worse on the validation data. This suggests overfitting.  However, the model using dropout performed better on the validation data, but worse on the training data. \n"
      ]
    },
    {
      "cell_type": "markdown",
      "metadata": {
        "id": "3ca0a927-2c17-46c9-8b24-6b08ef7230f2"
      },
      "source": [
        "\n",
        "\n",
        "<a href=\"https://dataplatform.cloud.ibm.com/registration/stepone?utm_medium=Exinfluencer&utm_source=Exinfluencer&utm_content=000026UJ&utm_term=10006555&utm_id=NA-SkillsNetwork-Channel-SkillsNetworkCoursesIBMDeveloperSkillsNetworkDL0110ENSkillsNetwork952-2022-01-01&context=cpdaas&apps=data_science_experience%2Cwatson_machine_learning\"><img src=\"https://cf-courses-data.s3.us.cloud-object-storage.appdomain.cloud/IBMDeveloperSkillsNetwork-DL0110EN-SkillsNetwork/Template/module%201/images/Watson_Studio.png\"></a>\n"
      ]
    },
    {
      "cell_type": "markdown",
      "metadata": {
        "id": "1e0d6c18-31d8-4f4a-bca7-4fa535078951"
      },
      "source": [
        "<!--Empty Space for separating topics-->\n"
      ]
    },
    {
      "cell_type": "markdown",
      "metadata": {
        "id": "98e7d166-f7e5-4be2-8e38-a29161a54184"
      },
      "source": [
        "<h2>About the Authors:</h2> \n",
        "\n",
        "<a href=\"https://www.linkedin.com/in/joseph-s-50398b136/?utm_medium=Exinfluencer&utm_source=Exinfluencer&utm_content=000026UJ&utm_term=10006555&utm_id=NA-SkillsNetwork-Channel-SkillsNetworkCoursesIBMDeveloperSkillsNetworkDL0110ENSkillsNetwork952-2022-01-01\">Joseph Santarcangelo</a> has a PhD in Electrical Engineering, his research focused on using machine learning, signal processing, and computer vision to determine how videos impact human cognition. Joseph has been working for IBM since he completed his PhD. \n"
      ]
    },
    {
      "cell_type": "markdown",
      "metadata": {
        "id": "e94671ea-a587-47b4-9c0c-a1eabb1dbb21"
      },
      "source": [
        "Other contributors: <a href=\"https://www.linkedin.com/in/michelleccarey/?utm_medium=Exinfluencer&utm_source=Exinfluencer&utm_content=000026UJ&utm_term=10006555&utm_id=NA-SkillsNetwork-Channel-SkillsNetworkCoursesIBMDeveloperSkillsNetworkDL0110ENSkillsNetwork952-2022-01-01\">Michelle Carey</a>, <a href=\"www.linkedin.com/in/jiahui-mavis-zhou-a4537814a\">Mavis Zhou</a>\n"
      ]
    },
    {
      "cell_type": "markdown",
      "metadata": {
        "id": "12013923-10ea-4442-bfb2-023cd2f5e4c2"
      },
      "source": [
        "\n",
        "## Change Log\n",
        "\n",
        "|  Date (YYYY-MM-DD) |  Version | Changed By  |  Change Description |\n",
        "|---|---|---|---|\n",
        "| 2020-09-23  | 2.0  | Srishti  |  Migrated Lab to Markdown and added to course repo in GitLab |\n",
        "\n",
        "\n",
        "\n",
        "<hr>\n",
        "\n",
        "## <h3 align=\"center\"> © IBM Corporation 2020. All rights reserved. <h3/>\n"
      ]
    }
  ],
  "metadata": {
    "kernelspec": {
      "display_name": "Python",
      "language": "python",
      "name": "conda-env-python-py"
    },
    "language_info": {
      "name": ""
    },
    "colab": {
      "provenance": [],
      "include_colab_link": true
    }
  },
  "nbformat": 4,
  "nbformat_minor": 0
}