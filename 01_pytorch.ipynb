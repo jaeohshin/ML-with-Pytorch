{
  "nbformat": 4,
  "nbformat_minor": 0,
  "metadata": {
    "colab": {
      "provenance": [],
      "authorship_tag": "ABX9TyNk8SSaauzo/MIDkbqWD6aI",
      "include_colab_link": true
    },
    "kernelspec": {
      "name": "python3",
      "display_name": "Python 3"
    },
    "language_info": {
      "name": "python"
    }
  },
  "cells": [
    {
      "cell_type": "markdown",
      "metadata": {
        "id": "view-in-github",
        "colab_type": "text"
      },
      "source": [
        "<a href=\"https://colab.research.google.com/github/jaeohshin/pytorch/blob/main/01_pytorch.ipynb\" target=\"_parent\"><img src=\"https://colab.research.google.com/assets/colab-badge.svg\" alt=\"Open In Colab\"/></a>"
      ]
    },
    {
      "cell_type": "markdown",
      "source": [
        "# Pytorch workflow\n",
        "\n",
        "Resources:\n",
        "* https://www.learnpytorch.io/"
      ],
      "metadata": {
        "id": "OIv5N2YALPQt"
      }
    },
    {
      "cell_type": "markdown",
      "source": [],
      "metadata": {
        "id": "UDQu8-tZLNoV"
      }
    },
    {
      "cell_type": "code",
      "source": [],
      "metadata": {
        "id": "qRk-F3CnLMXn"
      },
      "execution_count": null,
      "outputs": []
    }
  ]
}