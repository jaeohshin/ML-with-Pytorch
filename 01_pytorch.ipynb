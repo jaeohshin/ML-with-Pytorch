{
  "nbformat": 4,
  "nbformat_minor": 0,
  "metadata": {
    "colab": {
      "provenance": [],
      "authorship_tag": "ABX9TyPaLbOXd5PwM4jTMrvxBQwJ",
      "include_colab_link": true
    },
    "kernelspec": {
      "name": "python3",
      "display_name": "Python 3"
    },
    "language_info": {
      "name": "python"
    }
  },
  "cells": [
    {
      "cell_type": "markdown",
      "metadata": {
        "id": "view-in-github",
        "colab_type": "text"
      },
      "source": [
        "<a href=\"https://colab.research.google.com/github/jaeohshin/pytorch/blob/main/01_pytorch.ipynb\" target=\"_parent\"><img src=\"https://colab.research.google.com/assets/colab-badge.svg\" alt=\"Open In Colab\"/></a>"
      ]
    },
    {
      "cell_type": "markdown",
      "source": [
        "# Pytorch workflow\n",
        "\n",
        "Resources:\n",
        "* https://www.learnpytorch.io/"
      ],
      "metadata": {
        "id": "OIv5N2YALPQt"
      }
    },
    {
      "cell_type": "markdown",
      "source": [],
      "metadata": {
        "id": "UDQu8-tZLNoV"
      }
    },
    {
      "cell_type": "code",
      "source": [
        "what_were_covering = {1: \"data (prepare and load\")\n",
        "                      2: \"build model\"\n",
        "                      3: \"fitting the model to data (training)\"\n",
        "                      4: \"making predictions and evaluating a model (inference)\"\n",
        "                      5: \"f\"\n",
        "    \n",
        "}"
      ],
      "metadata": {
        "id": "qRk-F3CnLMXn"
      },
      "execution_count": null,
      "outputs": []
    }
  ]
}