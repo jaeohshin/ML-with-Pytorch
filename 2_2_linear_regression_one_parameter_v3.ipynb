{
  "cells": [
    {
      "cell_type": "markdown",
      "metadata": {
        "id": "view-in-github",
        "colab_type": "text"
      },
      "source": [
        "<a href=\"https://colab.research.google.com/github/jaeohshin/pytorch/blob/main/2_2_linear_regression_one_parameter_v3.ipynb\" target=\"_parent\"><img src=\"https://colab.research.google.com/assets/colab-badge.svg\" alt=\"Open In Colab\"/></a>"
      ]
    },
    {
      "cell_type": "markdown",
      "metadata": {
        "id": "6eced839-4280-481a-a05f-63cec7b071b6"
      },
      "source": [
        "<p style=\"text-align:center\">\n",
        "    <a href=\"https://skills.network/?utm_medium=Exinfluencer&utm_source=Exinfluencer&utm_content=000026UJ&utm_term=10006555&utm_id=NA-SkillsNetwork-Channel-SkillsNetworkCoursesIBMDeveloperSkillsNetworkDL0110ENSkillsNetwork952-2022-01-01\" target=\"_blank\">\n",
        "    <img src=\"https://cf-courses-data.s3.us.cloud-object-storage.appdomain.cloud/assets/logos/SN_web_lightmode.png\" width=\"200\" alt=\"Skills Network Logo\"  />\n",
        "    </a>\n",
        "</p>\n"
      ]
    },
    {
      "cell_type": "markdown",
      "metadata": {
        "id": "3d22db44-02fb-4c3f-8307-af7e1809ee29"
      },
      "source": [
        "<h1>Linear Regression 1D: Training One Parameter</h1>\n"
      ]
    },
    {
      "cell_type": "markdown",
      "metadata": {
        "id": "f9fc1f3b-5da4-4089-a441-45eb94003ed2"
      },
      "source": [
        "<h2>Objective</h2><ul><li> How to create cost or criterion function using MSE (Mean Square Error).</li></ul> \n"
      ]
    },
    {
      "cell_type": "markdown",
      "metadata": {
        "id": "6c67a884-d5e2-41fd-8b4b-761f209a0154"
      },
      "source": [
        "<h2>Table of Contents</h2>\n",
        "<p>In this lab, you will train a model with PyTorch by using data that you created. The model only has one parameter: the slope.</p>\n",
        "\n",
        "<ul>\n",
        "    <li><a href=\"#Makeup_Data\">Make Some Data</a></li>\n",
        "    <li><a href=\"#Model_Cost\">Create the Model and Cost Function (Total Loss)</a></li>\n",
        "    <li><a href=\"#Train\">Train the Model</a></li>\n",
        "</ul>\n",
        "<p>Estimated Time Needed: <strong>20 min</strong></p>\n",
        "\n",
        "<hr>\n"
      ]
    },
    {
      "cell_type": "markdown",
      "metadata": {
        "id": "24f32f25-05c5-4de5-9558-d8ca956f9dca"
      },
      "source": [
        "<h2>Preparation</h2>\n"
      ]
    },
    {
      "cell_type": "markdown",
      "metadata": {
        "id": "141dc833-9c48-48c7-8e9f-ad18fd786c56"
      },
      "source": [
        "The following are the libraries we are going to use for this lab.\n"
      ]
    },
    {
      "cell_type": "code",
      "metadata": {
        "id": "df03c491-0679-4a2a-8cd9-17bfd19e63eb"
      },
      "outputs": [],
      "source": [
        "# These are the libraries will be used for this lab.\n",
        "\n",
        "import numpy as np\n",
        "import matplotlib.pyplot as plt"
      ],
      "execution_count": null
    },
    {
      "cell_type": "markdown",
      "metadata": {
        "id": "b41069ef-da3e-4be8-acfe-b730b5491483"
      },
      "source": [
        "The class <code>plot_diagram</code> helps us to visualize the data space and the parameter space during training and has nothing to do with PyTorch.\n"
      ]
    },
    {
      "cell_type": "code",
      "metadata": {
        "id": "ff52dd93-f6b2-4114-94c1-3a38ad96e2df"
      },
      "outputs": [],
      "source": [
        "# The class for plotting\n",
        "\n",
        "class plot_diagram():\n",
        "    \n",
        "    # Constructor\n",
        "    def __init__(self, X, Y, w, stop, go = False):\n",
        "        start = w.data\n",
        "        self.error = []\n",
        "        self.parameter = []\n",
        "        self.X = X.numpy()\n",
        "        self.Y = Y.numpy()\n",
        "        self.parameter_values = torch.arange(start, stop)\n",
        "        self.Loss_function = [criterion(forward(X), Y) for w.data in self.parameter_values] \n",
        "        w.data = start\n",
        "        \n",
        "    # Executor\n",
        "    def __call__(self, Yhat, w, error, n):\n",
        "        self.error.append(error)\n",
        "        self.parameter.append(w.data)\n",
        "        plt.subplot(212)\n",
        "        plt.plot(self.X, Yhat.detach().numpy())\n",
        "        plt.plot(self.X, self.Y,'ro')\n",
        "        plt.xlabel(\"A\")\n",
        "        plt.ylim(-20, 20)\n",
        "        plt.subplot(211)\n",
        "        plt.title(\"Data Space (top) Estimated Line (bottom) Iteration \" + str(n))\n",
        "        plt.plot(self.parameter_values.numpy(), self.Loss_function)   \n",
        "        plt.plot(self.parameter, self.error, 'ro')\n",
        "        plt.xlabel(\"B\")\n",
        "        plt.figure()\n",
        "    \n",
        "    # Destructor\n",
        "    def __del__(self):\n",
        "        plt.close('all')"
      ],
      "execution_count": null
    },
    {
      "cell_type": "markdown",
      "metadata": {
        "id": "cfa99f99-b5d8-47a6-86b7-9e1748b8c05a"
      },
      "source": [
        "<!--Empty Space for separating topics-->\n"
      ]
    },
    {
      "cell_type": "markdown",
      "metadata": {
        "id": "8504d0a0-dd79-4159-99bd-36677465be74"
      },
      "source": [
        "<h2 id=\"Makeup_Data\">Make Some Data</h2>\n"
      ]
    },
    {
      "cell_type": "markdown",
      "metadata": {
        "id": "993c9d2a-5103-4988-a047-6c75481c8a7e"
      },
      "source": [
        "Import PyTorch library:\n"
      ]
    },
    {
      "cell_type": "code",
      "metadata": {
        "id": "5e5dc584-e3f8-4a8c-8037-dd91ba615c59"
      },
      "outputs": [],
      "source": [
        "# Import the library PyTorch\n",
        "\n",
        "import torch"
      ],
      "execution_count": null
    },
    {
      "cell_type": "markdown",
      "metadata": {
        "id": "2277a171-60a9-444b-ba56-c5e53ee9cfc2"
      },
      "source": [
        "Generate values from -3 to 3 that create a line with a slope of -3. This is the line you will estimate.\n"
      ]
    },
    {
      "cell_type": "code",
      "metadata": {
        "id": "c018a511-5041-4868-a01c-dd1b397f80d0"
      },
      "outputs": [],
      "source": [
        "# Create the f(X) with a slope of -3\n",
        "\n",
        "X = torch.arange(-3, 3, 0.1).view(-1, 1)\n",
        "f = -3 * X"
      ],
      "execution_count": null
    },
    {
      "cell_type": "markdown",
      "metadata": {
        "id": "a392021e-4f5b-45fc-acac-2b8acef297b9"
      },
      "source": [
        "Let us plot the line.\n"
      ]
    },
    {
      "cell_type": "code",
      "metadata": {
        "id": "6811fbd5-5704-4fff-a93c-a2d2788c396b"
      },
      "outputs": [],
      "source": [
        "# Plot the line with blue\n",
        "\n",
        "plt.plot(X.numpy(), f.numpy(), label = 'f')\n",
        "plt.xlabel('x')\n",
        "plt.ylabel('y')\n",
        "plt.legend()\n",
        "plt.show()"
      ],
      "execution_count": null
    },
    {
      "cell_type": "markdown",
      "metadata": {
        "id": "96b61e78-3f02-44bf-bcf0-fb589b158c99"
      },
      "source": [
        "Let us add some noise to the data in order to simulate the real data. Use <code>torch.randn(X.size())</code> to generate Gaussian noise that is the same size as <code>X</code> and has a standard deviation opf 0.1.\n"
      ]
    },
    {
      "cell_type": "code",
      "metadata": {
        "id": "04f574cd-c307-4d07-a50f-7dddf7bf1f37"
      },
      "outputs": [],
      "source": [
        "# Add some noise to f(X) and save it in Y\n",
        "\n",
        "Y = f + 0.1 * torch.randn(X.size())"
      ],
      "execution_count": null
    },
    {
      "cell_type": "markdown",
      "metadata": {
        "id": "00d4cedd-a59b-43b6-bd3d-8afc7c922a77"
      },
      "source": [
        "Plot the <code>Y</code>: \n"
      ]
    },
    {
      "cell_type": "code",
      "metadata": {
        "id": "69550151-6c27-49aa-a6ff-8e87acfa136d"
      },
      "outputs": [],
      "source": [
        "# Plot the data points\n",
        "\n",
        "plt.plot(X.numpy(), Y.numpy(), 'rx', label = 'Y')\n",
        "\n",
        "plt.plot(X.numpy(), f.numpy(), label = 'f')\n",
        "plt.xlabel('x')\n",
        "plt.ylabel('y')\n",
        "plt.legend()\n",
        "plt.show()"
      ],
      "execution_count": null
    },
    {
      "cell_type": "markdown",
      "metadata": {
        "id": "38e93d62-e004-40ce-a23a-2e3fd7004986"
      },
      "source": [
        "<!--Empty Space for separating topics-->\n"
      ]
    },
    {
      "cell_type": "markdown",
      "metadata": {
        "id": "3f400f3c-eedd-423d-9b3c-540f638c34c4"
      },
      "source": [
        "<h2 id=\"Model_Cost\">Create the Model and Cost Function (Total Loss)</h2>\n"
      ]
    },
    {
      "cell_type": "markdown",
      "metadata": {
        "id": "f89d9a30-81e4-4756-8ef7-4962805dde13"
      },
      "source": [
        "In this section, let us create the model and the cost function (total loss) we are going to use to train the model and evaluate the result.\n"
      ]
    },
    {
      "cell_type": "markdown",
      "metadata": {
        "id": "449c3b0f-b954-4839-98fe-17172a0cc082"
      },
      "source": [
        "First, define the <code>forward</code> function $y=w*x$. (We will add the bias in the next lab.)\n"
      ]
    },
    {
      "cell_type": "code",
      "metadata": {
        "id": "7c52d01d-e1aa-4f9a-aa3b-8a529d591378"
      },
      "outputs": [],
      "source": [
        "# Create forward function for prediction\n",
        "\n",
        "def forward(x):\n",
        "    return w * x"
      ],
      "execution_count": null
    },
    {
      "cell_type": "markdown",
      "metadata": {
        "id": "a96eb5ad-81df-4c15-8757-d51b5dedd8e9"
      },
      "source": [
        "Define the cost or criterion function using MSE (Mean Square Error): \n"
      ]
    },
    {
      "cell_type": "code",
      "metadata": {
        "id": "f6a2fe2f-0e6b-4e35-b029-b8070570631e"
      },
      "outputs": [],
      "source": [
        "# Create the MSE function for evaluate the result.\n",
        "\n",
        "def criterion(yhat, y):\n",
        "    return torch.mean((yhat - y) ** 2)"
      ],
      "execution_count": null
    },
    {
      "cell_type": "markdown",
      "metadata": {
        "id": "64d92adc-12df-4715-838b-c9a296f63fa7"
      },
      "source": [
        "Define the learning rate <code>lr</code> and an empty list <code>LOSS</code> to record the loss for each iteration:   \n"
      ]
    },
    {
      "cell_type": "code",
      "metadata": {
        "id": "f5bc77d5-b22c-4560-984e-d38dacf83a01"
      },
      "outputs": [],
      "source": [
        "# Create Learning Rate and an empty list to record the loss for each iteration\n",
        "\n",
        "lr = 0.1\n",
        "LOSS = []"
      ],
      "execution_count": null
    },
    {
      "cell_type": "markdown",
      "metadata": {
        "id": "24cfc056-b10f-45cc-ba8b-6575febc5c8b"
      },
      "source": [
        "Now, we create a model parameter by setting the argument <code>requires_grad</code> to <code> True</code> because the system must learn it.\n"
      ]
    },
    {
      "cell_type": "code",
      "metadata": {
        "id": "359e73d0-cd40-4874-8054-b53c048ed698"
      },
      "outputs": [],
      "source": [
        "w = torch.tensor(-10.0, requires_grad = True)"
      ],
      "execution_count": null
    },
    {
      "cell_type": "markdown",
      "metadata": {
        "id": "45a99ede-1d11-4884-b325-f993931b1e78"
      },
      "source": [
        "Create a <code>plot_diagram</code> object to visualize the data space and the parameter space for each iteration during training:\n"
      ]
    },
    {
      "cell_type": "code",
      "metadata": {
        "id": "1da8bf1b-bea1-4fc2-8b9a-c1d5283ae5d1"
      },
      "outputs": [],
      "source": [
        "gradient_plot = plot_diagram(X, Y, w, stop = 5)"
      ],
      "execution_count": null
    },
    {
      "cell_type": "markdown",
      "metadata": {
        "id": "e88c8173-d03c-4986-ab65-9b7bce33d72c"
      },
      "source": [
        "<!--Empty Space for separating topics-->\n"
      ]
    },
    {
      "cell_type": "markdown",
      "metadata": {
        "id": "225d7fe5-90ef-4bc9-a881-b8d39ecc749d"
      },
      "source": [
        "<h2 id=\"Train\">Train the Model</h2>\n"
      ]
    },
    {
      "cell_type": "markdown",
      "metadata": {
        "id": "5d8fa866-ee37-4af0-8362-1927065b0740"
      },
      "source": [
        "Let us define a function for training the model. The steps will be described in the comments.\n"
      ]
    },
    {
      "cell_type": "code",
      "metadata": {
        "id": "de0c0a11-0267-41ce-9d72-307b7010ae88"
      },
      "outputs": [],
      "source": [
        "# Define a function for train the model\n",
        "\n",
        "def train_model(iter):\n",
        "    for epoch in range (iter):\n",
        "        \n",
        "        # make the prediction as we learned in the last lab\n",
        "        Yhat = forward(X)\n",
        "        \n",
        "        # calculate the iteration\n",
        "        loss = criterion(Yhat,Y)\n",
        "        \n",
        "        # plot the diagram for us to have a better idea\n",
        "        gradient_plot(Yhat, w, loss.item(), epoch)\n",
        "        \n",
        "        # store the loss into list\n",
        "        LOSS.append(loss.item())\n",
        "        \n",
        "        # backward pass: compute gradient of the loss with respect to all the learnable parameters\n",
        "        loss.backward()\n",
        "        \n",
        "        # updata parameters\n",
        "        w.data = w.data - lr * w.grad.data\n",
        "        \n",
        "        # zero the gradients before running the backward pass\n",
        "        w.grad.data.zero_()"
      ],
      "execution_count": null
    },
    {
      "cell_type": "markdown",
      "metadata": {
        "id": "f57d07b3-7642-4152-bc8d-89887f7e370d"
      },
      "source": [
        "Let us try to run 4 iterations of gradient descent:  \n"
      ]
    },
    {
      "cell_type": "code",
      "metadata": {
        "id": "f74cd9b9-6ddf-4564-825e-7b05d6425d5d"
      },
      "outputs": [],
      "source": [
        "# Give 4 iterations for training the model here.\n",
        "\n",
        "train_model(4)"
      ],
      "execution_count": null
    },
    {
      "cell_type": "markdown",
      "metadata": {
        "id": "abdddcb0-1e05-4b2c-9900-284004f3e5ff"
      },
      "source": [
        "Plot the cost for each iteration: \n"
      ]
    },
    {
      "cell_type": "code",
      "metadata": {
        "id": "2feb87ce-1ddb-4e71-97b4-4c926d174a13"
      },
      "outputs": [],
      "source": [
        "# Plot the loss for each iteration\n",
        "\n",
        "plt.plot(LOSS)\n",
        "plt.tight_layout()\n",
        "plt.xlabel(\"Epoch/Iterations\")\n",
        "plt.ylabel(\"Cost\")"
      ],
      "execution_count": null
    },
    {
      "cell_type": "markdown",
      "metadata": {
        "id": "b3940d6c-80aa-42e3-a3f0-a97432bf1e2b"
      },
      "source": [
        "<!--Empty Space for separating topics-->\n"
      ]
    },
    {
      "cell_type": "markdown",
      "metadata": {
        "id": "aa2b40bd-9cd4-404c-b9a1-8f0e98308696"
      },
      "source": [
        "<h3>Practice</h3>\n"
      ]
    },
    {
      "cell_type": "markdown",
      "metadata": {
        "id": "2033161c-ff33-4866-8750-b1ee40dba265"
      },
      "source": [
        "Create a new learnable parameter <code>w</code> with an initial value of -15.0.\n"
      ]
    },
    {
      "cell_type": "code",
      "metadata": {
        "id": "ba135e25-6726-4ca0-a2a2-24c9bbe26dad"
      },
      "outputs": [],
      "source": [
        "# Practice: Create w with the inital value of -15.0\n",
        "\n",
        "# Type your code here"
      ],
      "execution_count": null
    },
    {
      "cell_type": "markdown",
      "metadata": {
        "id": "4e385e80-7e51-47d4-8fd6-aa23b0d8cbde"
      },
      "source": [
        "Double-click <b>here</b> for the solution.\n",
        "<!-- Your answer is below:\n",
        "w = torch.tensor(-15.0, requires_grad=True)\n",
        "-->\n"
      ]
    },
    {
      "cell_type": "markdown",
      "metadata": {
        "id": "a9322da3-8822-40e3-83f0-cff75af6452c"
      },
      "source": [
        "<!--Empty Space for separating topics-->\n"
      ]
    },
    {
      "cell_type": "markdown",
      "metadata": {
        "id": "44703a5c-0150-4785-8593-94de4f3db411"
      },
      "source": [
        "Create an empty list <code>LOSS2</code>:\n"
      ]
    },
    {
      "cell_type": "code",
      "metadata": {
        "id": "c983d3e1-1002-41a9-9f46-b466ed1a5384"
      },
      "outputs": [],
      "source": [
        "# Practice: Create LOSS2 list\n",
        "\n",
        "# Type your code here"
      ],
      "execution_count": null
    },
    {
      "cell_type": "markdown",
      "metadata": {
        "id": "05cb8bee-7259-4fef-a24e-9356a41be6fb"
      },
      "source": [
        "Double-click <b>here</b> for the solution.\n",
        "<!-- Your answer is below:\n",
        "LOSS2 = []\n",
        "-->\n"
      ]
    },
    {
      "cell_type": "markdown",
      "metadata": {
        "id": "1d277c1a-63b6-43f7-9ac2-869187cd2b9a"
      },
      "source": [
        "<!--Empty Space for separating topics-->\n"
      ]
    },
    {
      "cell_type": "markdown",
      "metadata": {
        "id": "46192044-1f7b-42e1-be9a-a9e9f895732d"
      },
      "source": [
        "Write your own <code>my_train_model</code> function with loss list <code>LOSS2</code>. And run it with 4 iterations.\n"
      ]
    },
    {
      "cell_type": "code",
      "metadata": {
        "id": "a5db3d93-87cf-4b18-b751-af6557e3afbb"
      },
      "outputs": [],
      "source": [
        "# Practice: Create your own my_train_model\n",
        "\n",
        "gradient_plot1 = plot_diagram(X, Y, w, stop = 15)"
      ],
      "execution_count": null
    },
    {
      "cell_type": "markdown",
      "metadata": {
        "id": "bc5f27b5-a41e-4514-8e75-a5b1abe9b9bf"
      },
      "source": [
        "Double-click <b>here</b> for the solution.\n",
        "\n",
        "<!-- Your answer is below:\n",
        "\n",
        "def my_train_model(iter):\n",
        "    for epoch in range (iter):\n",
        "        Yhat = forward(X)\n",
        "        loss = criterion(Yhat,Y)\n",
        "        gradient_plot1(Yhat, w, loss.item(), epoch)\n",
        "        LOSS2.append(loss)\n",
        "        loss.backward()\n",
        "        w.data = w.data - lr * w.grad.data\n",
        "        w.grad.data.zero_()\n",
        "my_train_model(4)\n",
        "    -->\n"
      ]
    },
    {
      "cell_type": "markdown",
      "metadata": {
        "id": "dfc78d8e-fb1d-4303-bac5-60def9f50fae"
      },
      "source": [
        "<!--Empty Space for separating topics-->\n"
      ]
    },
    {
      "cell_type": "markdown",
      "metadata": {
        "id": "851800f8-87a4-4198-b40d-49d73b1471fd"
      },
      "source": [
        "Plot an overlay of the list <code>LOSS2</code> and <code>LOSS</code>. \n"
      ]
    },
    {
      "cell_type": "code",
      "metadata": {
        "id": "ffe1941e-93b9-4007-853e-120ebfed62d0"
      },
      "outputs": [],
      "source": [
        "# Practice: Plot the list LOSS2 and LOSS\n",
        "\n",
        "# Type your code here"
      ],
      "execution_count": null
    },
    {
      "cell_type": "markdown",
      "metadata": {
        "id": "0e9c2b3f-4802-4d4a-8490-0633cd2c2946"
      },
      "source": [
        "Double-click <b>here</b> for the solution.\n",
        "\n",
        "<!-- Your answer is below:\n",
        "plt.plot(LOSS, label = \"LOSS\")\n",
        "plt.plot(LOSS2, label = \"LOSS2\")\n",
        "plt.tight_layout()\n",
        "plt.xlabel(\"Epoch/Iterations\")\n",
        "plt.ylabel(\"Cost\")\n",
        "plt.legend()\n",
        "-->\n"
      ]
    },
    {
      "cell_type": "markdown",
      "metadata": {
        "id": "e41c2374-25d9-4ef7-b7f4-8c45eb4fb36e"
      },
      "source": [
        "<!--Empty Space for separating topics-->\n"
      ]
    },
    {
      "cell_type": "markdown",
      "metadata": {
        "id": "a911df25-8bb1-4e71-8a27-d39193e5eb1f"
      },
      "source": [
        "What does this tell you about the parameter value? \n"
      ]
    },
    {
      "cell_type": "markdown",
      "metadata": {
        "id": "e5a7acdb-7bf3-47c6-8dc6-f48dc77bae4a"
      },
      "source": [
        "Double-click <b>here</b> for the solution.\n",
        "\n",
        "<!-- Your answer is below:\n",
        "the parameter value is sensitive to initialization  \n",
        "    -->\n"
      ]
    },
    {
      "cell_type": "markdown",
      "metadata": {
        "id": "d2108e2c-7f05-41d0-924a-47aab3da1804"
      },
      "source": [
        "\n",
        "<a href=\"https://dataplatform.cloud.ibm.com/registration/stepone?utm_medium=Exinfluencer&utm_source=Exinfluencer&utm_content=000026UJ&utm_term=10006555&utm_id=NA-SkillsNetwork-Channel-SkillsNetworkCoursesIBMDeveloperSkillsNetworkDL0110ENSkillsNetwork952-2022-01-01&context=cpdaas&apps=data_science_experience%2Cwatson_machine_learning\"><img src=\"https://cf-courses-data.s3.us.cloud-object-storage.appdomain.cloud/IBMDeveloperSkillsNetwork-DL0110EN-SkillsNetwork/Template/module%201/images/Watson_Studio.png\"></a>\n"
      ]
    },
    {
      "cell_type": "markdown",
      "metadata": {
        "id": "4a5117a2-175b-462e-9c42-cff801a743e2"
      },
      "source": [
        "<!--Empty Space for separating topics-->\n"
      ]
    },
    {
      "cell_type": "markdown",
      "metadata": {
        "id": "3158b789-240b-4f91-a5c9-0369c5c84b7d"
      },
      "source": [
        "<h2>About the Authors:</h2> \n",
        "\n",
        "<a href=\"https://www.linkedin.com/in/joseph-s-50398b136/?utm_medium=Exinfluencer&utm_source=Exinfluencer&utm_content=000026UJ&utm_term=10006555&utm_id=NA-SkillsNetwork-Channel-SkillsNetworkCoursesIBMDeveloperSkillsNetworkDL0110ENSkillsNetwork952-2022-01-01\">Joseph Santarcangelo</a> has a PhD in Electrical Engineering, his research focused on using machine learning, signal processing, and computer vision to determine how videos impact human cognition. Joseph has been working for IBM since he completed his PhD.\n"
      ]
    },
    {
      "cell_type": "markdown",
      "metadata": {
        "id": "f30e857d-1730-4c58-9371-ab20ee5cb3f8"
      },
      "source": [
        "Other contributors: <a href=\"https://www.linkedin.com/in/michelleccarey/?utm_medium=Exinfluencer&utm_source=Exinfluencer&utm_content=000026UJ&utm_term=10006555&utm_id=NA-SkillsNetwork-Channel-SkillsNetworkCoursesIBMDeveloperSkillsNetworkDL0110ENSkillsNetwork952-2022-01-01\">Michelle Carey</a>, <a href=\"www.linkedin.com/in/jiahui-mavis-zhou-a4537814a\">Mavis Zhou</a> \n"
      ]
    },
    {
      "cell_type": "markdown",
      "metadata": {
        "id": "56d23d76-a2c5-4e95-98f0-03de17b57e1a"
      },
      "source": [
        "\n",
        "## Change Log\n",
        "\n",
        "|  Date (YYYY-MM-DD) |  Version | Changed By  |  Change Description |\n",
        "|---|---|---|---|\n",
        "| 2020-09-21  | 2.0  | Shubham  |  Migrated Lab to Markdown and added to course repo in GitLab |\n",
        "\n"
      ]
    },
    {
      "cell_type": "markdown",
      "metadata": {
        "id": "5e40bdf6-9bab-48dd-a696-b8b9a0e65ecd"
      },
      "source": [
        "<hr>\n"
      ]
    },
    {
      "cell_type": "markdown",
      "metadata": {
        "id": "4dc1311a-48f0-4305-b906-ea42e7adaed9"
      },
      "source": [
        "\n",
        "\n",
        "\n",
        "## <h3 align=\"center\"> © IBM Corporation 2020. All rights reserved. <h3/>\n"
      ]
    }
  ],
  "metadata": {
    "kernelspec": {
      "display_name": "Python",
      "language": "python",
      "name": "conda-env-python-py"
    },
    "language_info": {
      "name": ""
    },
    "colab": {
      "provenance": [],
      "include_colab_link": true
    }
  },
  "nbformat": 4,
  "nbformat_minor": 0
}