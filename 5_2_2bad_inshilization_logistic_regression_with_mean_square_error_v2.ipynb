{
  "cells": [
    {
      "cell_type": "markdown",
      "metadata": {
        "id": "view-in-github",
        "colab_type": "text"
      },
      "source": [
        "<a href=\"https://colab.research.google.com/github/jaeohshin/pytorch/blob/main/5_2_2bad_inshilization_logistic_regression_with_mean_square_error_v2.ipynb\" target=\"_parent\"><img src=\"https://colab.research.google.com/assets/colab-badge.svg\" alt=\"Open In Colab\"/></a>"
      ]
    },
    {
      "cell_type": "markdown",
      "metadata": {
        "id": "d1b988fe-bd26-4541-ad08-03336a25b4b6"
      },
      "source": [
        "<p style=\"text-align:center\">\n",
        "    <a href=\"https://skills.network/?utm_medium=Exinfluencer&utm_source=Exinfluencer&utm_content=000026UJ&utm_term=10006555&utm_id=NA-SkillsNetwork-Channel-SkillsNetworkCoursesIBMDeveloperSkillsNetworkDL0110ENSkillsNetwork952-2022-01-01\" target=\"_blank\">\n",
        "    <img src=\"https://cf-courses-data.s3.us.cloud-object-storage.appdomain.cloud/assets/logos/SN_web_lightmode.png\" width=\"200\" alt=\"Skills Network Logo\"  />\n",
        "    </a>\n",
        "</p>\n"
      ]
    },
    {
      "cell_type": "markdown",
      "metadata": {
        "id": "22152171-dc8b-4c61-98b7-9f62332ca377"
      },
      "source": [
        "<h1>Logistic Regression and Bad Initialization Value</h1>\n"
      ]
    },
    {
      "cell_type": "markdown",
      "metadata": {
        "id": "0a57f92b-c667-41f0-bada-8cb060670331"
      },
      "source": [
        "<h2>Objective</h2><ul><li> How bad initialization value can affects the accuracy of model. .</li></ul> \n"
      ]
    },
    {
      "cell_type": "markdown",
      "metadata": {
        "id": "eaecc60f-4d0c-4a7d-a727-f011eacfe51b"
      },
      "source": [
        "<h2>Table of Contents</h2>\n",
        "<p>In this lab, you will see what happens when you use the root mean square error cost or total loss function and select a bad initialization value for the parameter values.</p>\n",
        "\n",
        "<ul>\n",
        "    <li><a href=\"#Makeup_Data\">Make Some Data</a></li>\n",
        "    <li><a href=\"#Model_Cost\">Create the Model and Cost Function the PyTorch way</a></li>\n",
        "    <li><a href=\"#BGD\">Train the Model:Batch Gradient Descent</a></li>\n",
        "</ul>\n",
        "\n",
        "<br>\n",
        "<p>Estimated Time Needed: <strong>30 min</strong></p>\n",
        "\n",
        "<hr>\n"
      ]
    },
    {
      "cell_type": "markdown",
      "metadata": {
        "id": "0b6972fd-c5ca-4649-abc4-7125414a0432"
      },
      "source": [
        "<h2>Preparation</h2>\n"
      ]
    },
    {
      "cell_type": "markdown",
      "metadata": {
        "id": "379eb56c-5a13-4f44-9289-cb4b56356a6a"
      },
      "source": [
        "We'll need the following libraries:\n"
      ]
    },
    {
      "cell_type": "code",
      "metadata": {
        "id": "f4ea207e-05a2-404f-bedb-e0cd431ffc56"
      },
      "outputs": [],
      "source": [
        "# Import the libraries we need for this lab\n",
        "\n",
        "import numpy as np\n",
        "import matplotlib.pyplot as plt \n",
        "from mpl_toolkits import mplot3d\n",
        "import torch\n",
        "from torch.utils.data import Dataset, DataLoader\n",
        "import torch.nn as nn"
      ],
      "execution_count": 2
    },
    {
      "cell_type": "markdown",
      "metadata": {
        "id": "0decef3a-4b07-432e-aa7b-e9d39f19e7d1"
      },
      "source": [
        "Helper functions \n"
      ]
    },
    {
      "cell_type": "markdown",
      "metadata": {
        "id": "5aa057e9-3e41-4623-a44b-6f9cbea1591d"
      },
      "source": [
        "The class <code>plot_error_surfaces</code> is just to help you visualize the data space and the Parameter space during training and has nothing to do with Pytorch. \n"
      ]
    },
    {
      "cell_type": "code",
      "metadata": {
        "id": "74d33255-4f26-45e9-9997-53447009b4d9"
      },
      "outputs": [],
      "source": [
        "# Create class for plotting and the function for plotting\n",
        "\n",
        "class plot_error_surfaces(object):\n",
        "    \n",
        "    # Construstor\n",
        "    def __init__(self, w_range, b_range, X, Y, n_samples = 30, go = True):\n",
        "        W = np.linspace(-w_range, w_range, n_samples)\n",
        "        B = np.linspace(-b_range, b_range, n_samples)\n",
        "        w, b = np.meshgrid(W, B)    \n",
        "        Z = np.zeros((30, 30))\n",
        "        count1 = 0\n",
        "        self.y = Y.numpy()\n",
        "        self.x = X.numpy()\n",
        "        for w1, b1 in zip(w, b):\n",
        "            count2 = 0\n",
        "            for w2, b2 in zip(w1, b1):\n",
        "                Z[count1, count2] = np.mean((self.y - (1 / (1 + np.exp(-1*w2 * self.x - b2)))) ** 2)\n",
        "                count2 += 1   \n",
        "            count1 += 1\n",
        "        self.Z = Z\n",
        "        self.w = w\n",
        "        self.b = b\n",
        "        self.W = []\n",
        "        self.B = []\n",
        "        self.LOSS = []\n",
        "        self.n = 0\n",
        "        if go == True:\n",
        "            plt.figure()\n",
        "            plt.figure(figsize=(7.5, 5))\n",
        "            plt.axes(projection='3d').plot_surface(self.w, self.b, self.Z, rstride=1, cstride=1, cmap='viridis', edgecolor='none')\n",
        "            plt.title('Loss Surface')\n",
        "            plt.xlabel('w')\n",
        "            plt.ylabel('b')\n",
        "            plt.show()\n",
        "            plt.figure()\n",
        "            plt.title('Loss Surface Contour')\n",
        "            plt.xlabel('w')\n",
        "            plt.ylabel('b')\n",
        "            plt.contour(self.w, self.b, self.Z)\n",
        "            plt.show()\n",
        "            \n",
        "     # Setter\n",
        "    def set_para_loss(self, model, loss):\n",
        "        self.n = self.n + 1\n",
        "        self.W.append(list(model.parameters())[0].item())\n",
        "        self.B.append(list(model.parameters())[1].item())\n",
        "        self.LOSS.append(loss)\n",
        "    \n",
        "    # Plot diagram\n",
        "    def final_plot(self): \n",
        "        ax = plt.axes(projection='3d')\n",
        "        ax.plot_wireframe(self.w, self.b, self.Z)\n",
        "        ax.scatter(self.W, self.B, self.LOSS, c='r', marker='x', s=200, alpha=1)\n",
        "        plt.figure()\n",
        "        plt.contour(self.w, self.b, self.Z)\n",
        "        plt.scatter(self.W, self.B, c='r', marker='x')\n",
        "        plt.xlabel('w')\n",
        "        plt.ylabel('b')\n",
        "        plt.show()\n",
        "        \n",
        "    # Plot diagram\n",
        "    def plot_ps(self):\n",
        "        plt.subplot(121)\n",
        "        plt.ylim\n",
        "        plt.plot(self.x, self.y, 'ro', label=\"training points\")\n",
        "        plt.plot(self.x, self.W[-1] * self.x + self.B[-1], label=\"estimated line\")\n",
        "        plt.plot(self.x, 1 / (1 + np.exp(-1 * (self.W[-1] * self.x + self.B[-1]))), label='sigmoid')\n",
        "        plt.xlabel('x')\n",
        "        plt.ylabel('y')\n",
        "        plt.ylim((-0.1, 2))\n",
        "        plt.title('Data Space Iteration: ' + str(self.n))\n",
        "        plt.show()\n",
        "        plt.subplot(122)\n",
        "        plt.contour(self.w, self.b, self.Z)\n",
        "        plt.scatter(self.W, self.B, c='r', marker='x')\n",
        "        plt.title('Loss Surface Contour Iteration' + str(self.n))\n",
        "        plt.xlabel('w')\n",
        "        plt.ylabel('b')\n",
        "        \n",
        "# Plot the diagram\n",
        "\n",
        "def PlotStuff(X, Y, model, epoch, leg=True):\n",
        "    plt.plot(X.numpy(), model(X).detach().numpy(), label=('epoch ' + str(epoch)))\n",
        "    plt.plot(X.numpy(), Y.numpy(), 'r')\n",
        "    if leg == True:\n",
        "        plt.legend()\n",
        "    else:\n",
        "        pass"
      ],
      "execution_count": 3
    },
    {
      "cell_type": "markdown",
      "metadata": {
        "id": "96b9f647-b3f7-4009-9e8d-e78d1776bc31"
      },
      "source": [
        "Set the random seed:\n"
      ]
    },
    {
      "cell_type": "code",
      "metadata": {
        "colab": {
          "base_uri": "https://localhost:8080/"
        },
        "id": "e0703881-ccc7-4860-abde-817b55d16184",
        "outputId": "fdeaa6f5-3ad4-4be7-8f42-00c36003055f"
      },
      "outputs": [
        {
          "output_type": "execute_result",
          "data": {
            "text/plain": [
              "<torch._C.Generator at 0x7f916af81c10>"
            ]
          },
          "metadata": {},
          "execution_count": 4
        }
      ],
      "source": [
        "# Set random seed\n",
        "\n",
        "torch.manual_seed(0)"
      ],
      "execution_count": 4
    },
    {
      "cell_type": "markdown",
      "metadata": {
        "id": "58b6c554-9676-4144-a5a2-3d77fbb9e21c"
      },
      "source": [
        "<!--Empty Space for separating topics-->\n"
      ]
    },
    {
      "cell_type": "markdown",
      "metadata": {
        "id": "fdde1f2a-792d-491c-822b-84192a949c0d"
      },
      "source": [
        "<h2 id=\"Makeup_Data\">Get Some Data </h2>\n"
      ]
    },
    {
      "cell_type": "markdown",
      "metadata": {
        "id": "a88d9c21-9f88-4673-add6-952eab8bec69"
      },
      "source": [
        "Create the <code>Data</code> class\n"
      ]
    },
    {
      "cell_type": "code",
      "metadata": {
        "id": "b4a6b25d-117d-4d8f-8585-fdec0fd229e4"
      },
      "outputs": [],
      "source": [
        "# Create the data class\n",
        "\n",
        "class Data(Dataset):\n",
        "    \n",
        "    # Constructor\n",
        "    def __init__(self):\n",
        "        self.x = torch.arange(-1, 1, 0.1).view(-1, 1)\n",
        "        self.y = torch.zeros(self.x.shape[0], 1)\n",
        "        self.y[self.x[:, 0] > 0.2] = 1\n",
        "        self.len = self.x.shape[0]\n",
        "        \n",
        "    # Getter\n",
        "    def __getitem__(self, index):      \n",
        "        return self.x[index], self.y[index]\n",
        "    \n",
        "    # Get Length\n",
        "    def __len__(self):\n",
        "        return self.len"
      ],
      "execution_count": 5
    },
    {
      "cell_type": "markdown",
      "metadata": {
        "id": "a29ce15c-74d0-48c0-a8bd-0c57e25ef516"
      },
      "source": [
        "Make <code>Data</code> object\n"
      ]
    },
    {
      "cell_type": "code",
      "metadata": {
        "id": "8b5c5b40-29b2-4442-8e37-82981dd88356"
      },
      "outputs": [],
      "source": [
        "# Create Data object\n",
        "\n",
        "data_set = Data()"
      ],
      "execution_count": 6
    },
    {
      "cell_type": "markdown",
      "metadata": {
        "id": "438d1ae7-d3eb-45f6-a89f-8247c6e7277c"
      },
      "source": [
        "<!--Empty Space for separating topics-->\n"
      ]
    },
    {
      "cell_type": "markdown",
      "metadata": {
        "id": "837cd9d9-940d-4b42-9618-8d4fd732aec0"
      },
      "source": [
        "<h2 id=\"Model_Cost\">Create the Model and Total Loss Function (Cost)</h2>\n"
      ]
    },
    {
      "cell_type": "markdown",
      "metadata": {
        "id": "75fcc362-3c54-41d9-bcc2-603cef2bd0f2"
      },
      "source": [
        "Create a custom module for logistic regression:\n"
      ]
    },
    {
      "cell_type": "code",
      "metadata": {
        "id": "e57428c8-9465-409e-b528-55125861ec72"
      },
      "outputs": [],
      "source": [
        "# Create logistic_regression class\n",
        "\n",
        "class logistic_regression(nn.Module):\n",
        "\n",
        "    # Constructor\n",
        "    def __init__(self, n_inputs):\n",
        "          super(logistic_regression, self).__init__()\n",
        "          self.linear = nn.Linear(n_inputs, 1)\n",
        "\n",
        "    # Prediction\n",
        "    def forward(self, x):\n",
        "        yhat = torch.sigmoid(self.linear(x))\n",
        "        return yhat\n"
      ],
      "execution_count": 8
    },
    {
      "cell_type": "markdown",
      "metadata": {
        "id": "7838f1a8-d817-4cea-b1f8-2aa0434647c2"
      },
      "source": [
        "Create a logistic regression object or model: \n"
      ]
    },
    {
      "cell_type": "code",
      "metadata": {
        "id": "c2fd6076-4b6b-4696-b164-649556828867"
      },
      "outputs": [],
      "source": [
        "# Create the logistic_regression result\n",
        "\n",
        "model = logistic_regression(1)\n",
        "#model = logistic_regression(1)"
      ],
      "execution_count": 9
    },
    {
      "cell_type": "markdown",
      "metadata": {
        "id": "f0e5df06-c8e3-4394-9803-43f4523b9448"
      },
      "source": [
        "Replace the random initialized variable values with some predetermined values that will not converge:  \n"
      ]
    },
    {
      "cell_type": "code",
      "metadata": {
        "id": "eb85b954-a294-44a0-91c0-17a5b1b0b448"
      },
      "outputs": [],
      "source": [
        "# Set the weight and bias\n",
        "\n",
        "model.state_dict() ['linear.weight'].data[0] = torch.tensor([[-5]])\n",
        "model.state_dict() ['linear.bias'].data[0] = torch.tensor([[-10]])\n",
        "print(\"The parameters: \", model.state_dict())"
      ],
      "execution_count": null
    },
    {
      "cell_type": "markdown",
      "metadata": {
        "id": "d18a81b8-39f0-49c5-8832-db04602c1498"
      },
      "source": [
        "Create a <code> plot_error_surfaces</code> object to visualize the data space and the parameter space during training:\n"
      ]
    },
    {
      "cell_type": "code",
      "metadata": {
        "id": "fd4ccdf6-b297-4d69-a7ea-5c5c5ed66fae"
      },
      "outputs": [],
      "source": [
        "# Create the plot_error_surfaces object\n",
        "\n",
        "get_surface = plot_error_surfaces(15, 13, data_set[:][0], data_set[:][1], 30)"
      ],
      "execution_count": null
    },
    {
      "cell_type": "markdown",
      "metadata": {
        "id": "a1ad9802-cd94-459a-9f97-1e03a851fbf0"
      },
      "source": [
        "Define the dataloader, the cost or criterion function, the optimizer: \n"
      ]
    },
    {
      "cell_type": "code",
      "metadata": {
        "id": "1d757cf7-b1e2-48ce-82f8-faf90f86627a"
      },
      "outputs": [],
      "source": [
        "# Create dataloader object, crierion function and optimizer.\n",
        "\n",
        "trainloader = DataLoader(dataset=data_set, batch_size=3)\n",
        "criterion_rms = nn.MSELoss()\n",
        "learning_rate = 2\n",
        "optimizer = torch.optim.SGD(model.parameters(), lr=learning_rate)"
      ],
      "execution_count": null
    },
    {
      "cell_type": "markdown",
      "metadata": {
        "id": "0de06c78-caa9-4229-8780-36393bc9af37"
      },
      "source": [
        "<a id=\"ref2\"></a>\n",
        "<h2 align=center>Train the Model via Batch Gradient Descent </h2>\n"
      ]
    },
    {
      "cell_type": "markdown",
      "metadata": {
        "id": "fb4ff5b5-e2ff-4bc6-b86f-081a67c276e6"
      },
      "source": [
        "Train the model\n"
      ]
    },
    {
      "cell_type": "code",
      "metadata": {
        "id": "76feaa05-e262-4598-846f-5aa478867746"
      },
      "outputs": [],
      "source": [
        "# Train the model\n",
        "\n",
        "def train_model(epochs):\n",
        "    for epoch in range(epochs):\n",
        "        for x, y in trainloader: \n",
        "            yhat = model(x)\n",
        "            loss = criterion_rms(yhat, y)\n",
        "            optimizer.zero_grad()\n",
        "            loss.backward()\n",
        "            optimizer.step()\n",
        "            get_surface.set_para_loss(model, loss.tolist())\n",
        "        if epoch % 20 == 0:\n",
        "            get_surface.plot_ps()\n",
        "\n",
        "train_model(100)"
      ],
      "execution_count": null
    },
    {
      "cell_type": "markdown",
      "metadata": {
        "id": "a203f8e6-f75f-4963-b808-ed9acc0c8dc4"
      },
      "source": [
        "Get the actual class of each sample and calculate the accuracy on the test data:\n"
      ]
    },
    {
      "cell_type": "code",
      "metadata": {
        "id": "4e733a9a-5563-4706-92f7-91c5d7c9d94a"
      },
      "outputs": [],
      "source": [
        "# Make the Prediction\n",
        "\n",
        "yhat = model(data_set.x)\n",
        "label = yhat > 0.5\n",
        "print(\"The accuracy: \", torch.mean((label == data_set.y.type(torch.ByteTensor)).type(torch.float)))"
      ],
      "execution_count": null
    },
    {
      "cell_type": "markdown",
      "metadata": {
        "id": "b56fff32-ffd6-4f17-b37a-bed3ab9d2917"
      },
      "source": [
        " Accuracy is 60% compared to 100% in the last lab using a good Initialization value. \n"
      ]
    },
    {
      "cell_type": "markdown",
      "metadata": {
        "id": "62fd49b0-7c2d-44cb-b9b7-b0eacaf29166"
      },
      "source": [
        "\n",
        "<a href=\"https://dataplatform.cloud.ibm.com/registration/stepone?utm_medium=Exinfluencer&utm_source=Exinfluencer&utm_content=000026UJ&utm_term=10006555&utm_id=NA-SkillsNetwork-Channel-SkillsNetworkCoursesIBMDeveloperSkillsNetworkDL0110ENSkillsNetwork952-2022-01-01&context=cpdaas&apps=data_science_experience%2Cwatson_machine_learning\"><img src=\"https://cf-courses-data.s3.us.cloud-object-storage.appdomain.cloud/IBMDeveloperSkillsNetwork-DL0110EN-SkillsNetwork/Template/module%201/images/Watson_Studio.png\"></a>\n"
      ]
    },
    {
      "cell_type": "markdown",
      "metadata": {
        "id": "757ee53c-082c-4588-910e-6f491e86df7c"
      },
      "source": [
        "<!--Empty Space for separating topics-->\n"
      ]
    },
    {
      "cell_type": "markdown",
      "metadata": {
        "id": "1f9bd355-aeb5-417a-892d-99d8f1ec1717"
      },
      "source": [
        "<h2>About the Authors:</h2> \n",
        "\n",
        "<a href=\"https://www.linkedin.com/in/joseph-s-50398b136/?utm_medium=Exinfluencer&utm_source=Exinfluencer&utm_content=000026UJ&utm_term=10006555&utm_id=NA-SkillsNetwork-Channel-SkillsNetworkCoursesIBMDeveloperSkillsNetworkDL0110ENSkillsNetwork952-2022-01-01\">Joseph Santarcangelo</a> has a PhD in Electrical Engineering, his research focused on using machine learning, signal processing, and computer vision to determine how videos impact human cognition. Joseph has been working for IBM since he completed his PhD. \n"
      ]
    },
    {
      "cell_type": "markdown",
      "metadata": {
        "id": "5a14a0a5-9964-4e24-8cf6-ff69ba26b6b1"
      },
      "source": [
        "Other contributors: <a href=\"https://www.linkedin.com/in/michelleccarey/?utm_medium=Exinfluencer&utm_source=Exinfluencer&utm_content=000026UJ&utm_term=10006555&utm_id=NA-SkillsNetwork-Channel-SkillsNetworkCoursesIBMDeveloperSkillsNetworkDL0110ENSkillsNetwork952-2022-01-01\">Michelle Carey</a>, <a href=\"www.linkedin.com/in/jiahui-mavis-zhou-a4537814a\">Mavis Zhou</a>\n"
      ]
    },
    {
      "cell_type": "markdown",
      "metadata": {
        "id": "3c895a63-94d7-4ede-8a0c-604188f34f6c"
      },
      "source": [
        "\n",
        "## Change Log\n",
        "\n",
        "|  Date (YYYY-MM-DD) |  Version | Changed By  |  Change Description |\n",
        "|---|---|---|---|\n",
        "| 2020-09-23  | 2.0  | Shubham  |  Migrated Lab to Markdown and added to course repo in GitLab |\n",
        "\n"
      ]
    },
    {
      "cell_type": "markdown",
      "metadata": {
        "id": "0fc169eb-a486-4455-80a2-2dadc6fc83f7"
      },
      "source": [
        "<hr>\n"
      ]
    },
    {
      "cell_type": "markdown",
      "metadata": {
        "id": "d21045de-5704-47e1-8371-2f30cbbdd74e"
      },
      "source": [
        "## <h3 align=\"center\"> © IBM Corporation 2020. All rights reserved. <h3/>\n"
      ]
    }
  ],
  "metadata": {
    "kernelspec": {
      "display_name": "Python",
      "language": "python",
      "name": "conda-env-python-py"
    },
    "language_info": {
      "name": ""
    },
    "colab": {
      "provenance": [],
      "include_colab_link": true
    }
  },
  "nbformat": 4,
  "nbformat_minor": 0
}