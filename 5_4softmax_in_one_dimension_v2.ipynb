{
  "cells": [
    {
      "cell_type": "markdown",
      "metadata": {
        "id": "view-in-github",
        "colab_type": "text"
      },
      "source": [
        "<a href=\"https://colab.research.google.com/github/jaeohshin/pytorch/blob/main/5_4softmax_in_one_dimension_v2.ipynb\" target=\"_parent\"><img src=\"https://colab.research.google.com/assets/colab-badge.svg\" alt=\"Open In Colab\"/></a>"
      ]
    },
    {
      "cell_type": "markdown",
      "metadata": {
        "id": "d1707ed8-baed-4eee-a36a-8e7b1191921b"
      },
      "source": [
        "<p style=\"text-align:center\">\n",
        "    <a href=\"https://skills.network/?utm_medium=Exinfluencer&utm_source=Exinfluencer&utm_content=000026UJ&utm_term=10006555&utm_id=NA-SkillsNetwork-Channel-SkillsNetworkCoursesIBMDeveloperSkillsNetworkDL0110ENSkillsNetwork952-2022-01-01\" target=\"_blank\">\n",
        "    <img src=\"https://cf-courses-data.s3.us.cloud-object-storage.appdomain.cloud/assets/logos/SN_web_lightmode.png\" width=\"200\" alt=\"Skills Network Logo\"  />\n",
        "    </a>\n",
        "</p>\n"
      ]
    },
    {
      "cell_type": "markdown",
      "metadata": {
        "id": "f90185b6-5f18-4e3e-9fe1-83bbccd75879"
      },
      "source": [
        "<h1>Softmax Classifer 1D</h1>\n"
      ]
    },
    {
      "cell_type": "markdown",
      "metadata": {
        "id": "712aae97-d3d7-413e-a0a6-b3fa90bc08c3"
      },
      "source": [
        "<h2>Objective</h2><ul><li> How to build a Softmax classifier by using the Sequential module in pytorch.</li></ul> \n"
      ]
    },
    {
      "cell_type": "markdown",
      "metadata": {
        "id": "eace2d12-40fa-4f8a-aa80-c57584d1c577"
      },
      "source": [
        "<h2>Table of Contents</h2>\n",
        "<p>In this lab, you will use Softmax to classify three linearly separable classes, the features are in one dimension </p>\n",
        "<ul>\n",
        "    <li><a href=\"#Makeup_Data\">Make Some Data</a></li>\n",
        "    <li><a href=\"#Softmax\">Build Softmax Classifier</a></li>\n",
        "    <li><a href=\"#Model_Cost\">Train the Model</a></li>\n",
        "    <li><a href=\"#Result\">Analyze Results</a></li>\n",
        "</ul>\n",
        "<p>Estimated Time Needed: <strong>25 min</strong></p>\n",
        "\n",
        "<hr>\n"
      ]
    },
    {
      "cell_type": "markdown",
      "metadata": {
        "id": "a7c6b971-8792-4f6f-8210-dfae7edbec03"
      },
      "source": [
        "<h2>Preparation</h2>\n"
      ]
    },
    {
      "cell_type": "markdown",
      "metadata": {
        "id": "fd15ef8c-a5f1-42d7-98b3-b331c63dfea1"
      },
      "source": [
        "We'll need the following libraries:\n"
      ]
    },
    {
      "cell_type": "code",
      "metadata": {
        "id": "7ac9da62-418d-4d36-abcd-fcf524b452c7"
      },
      "outputs": [],
      "source": [
        "# Import the libraries we need for this lab\n",
        "\n",
        "import torch.nn as nn\n",
        "import torch\n",
        "import matplotlib.pyplot as plt \n",
        "import numpy as np\n",
        "from torch.utils.data import Dataset, DataLoader"
      ],
      "execution_count": null
    },
    {
      "cell_type": "markdown",
      "metadata": {
        "id": "c341ec7d-a27a-42b2-8a92-cdff6a2169b5"
      },
      "source": [
        "Use the helper function to plot labeled data points: \n"
      ]
    },
    {
      "cell_type": "code",
      "metadata": {
        "id": "45260f16-79a9-42ac-9411-e38e641cfdbb"
      },
      "outputs": [],
      "source": [
        "# Create class for plotting\n",
        "\n",
        "def plot_data(data_set, model = None, n = 1, color = False):\n",
        "    X = data_set[:][0]\n",
        "    Y = data_set[:][1]\n",
        "    plt.plot(X[Y == 0, 0].numpy(), Y[Y == 0].numpy(), 'bo', label = 'y = 0')\n",
        "    plt.plot(X[Y == 1, 0].numpy(), 0 * Y[Y == 1].numpy(), 'ro', label = 'y = 1')\n",
        "    plt.plot(X[Y == 2, 0].numpy(), 0 * Y[Y == 2].numpy(), 'go', label = 'y = 2')\n",
        "    plt.ylim((-0.1, 3))\n",
        "    plt.legend()\n",
        "    if model != None:\n",
        "        w = list(model.parameters())[0][0].detach()\n",
        "        b = list(model.parameters())[1][0].detach()\n",
        "        y_label = ['yhat=0', 'yhat=1', 'yhat=2']\n",
        "        y_color = ['b', 'r', 'g']\n",
        "        Y = []\n",
        "        for w, b, y_l, y_c in zip(model.state_dict()['0.weight'], model.state_dict()['0.bias'], y_label, y_color):\n",
        "            Y.append((w * X + b).numpy())\n",
        "            plt.plot(X.numpy(), (w * X + b).numpy(), y_c, label = y_l)\n",
        "        if color == True:\n",
        "            x = X.numpy()\n",
        "            x = x.reshape(-1)\n",
        "            top = np.ones(x.shape)\n",
        "            y0 = Y[0].reshape(-1)\n",
        "            y1 = Y[1].reshape(-1)\n",
        "            y2 = Y[2].reshape(-1)\n",
        "            plt.fill_between(x, y0, where = y1 > y1, interpolate = True, color = 'blue')\n",
        "            plt.fill_between(x, y0, where = y1 > y2, interpolate = True, color = 'blue')\n",
        "            plt.fill_between(x, y1, where = y1 > y0, interpolate = True, color = 'red')\n",
        "            plt.fill_between(x, y1, where = ((y1 > y2) * (y1 > y0)),interpolate = True, color = 'red')\n",
        "            plt.fill_between(x, y2, where = (y2 > y0) * (y0 > 0),interpolate = True, color = 'green')\n",
        "            plt.fill_between(x, y2, where = (y2 > y1), interpolate = True, color = 'green')\n",
        "    plt.legend()\n",
        "    plt.show()"
      ],
      "execution_count": null
    },
    {
      "cell_type": "markdown",
      "metadata": {
        "id": "90b39294-85ec-49f0-8c64-79841fbb9fb2"
      },
      "source": [
        "Set the random seed:\n"
      ]
    },
    {
      "cell_type": "code",
      "metadata": {
        "id": "9d88418a-b363-4350-8ee8-c0de97494c2e"
      },
      "outputs": [],
      "source": [
        "#Set the random seed\n",
        "\n",
        "torch.manual_seed(0)"
      ],
      "execution_count": null
    },
    {
      "cell_type": "markdown",
      "metadata": {
        "id": "aab51ed8-f0e9-45bf-96d4-697a94efa30d"
      },
      "source": [
        "<!--Empty Space for separating topics-->\n"
      ]
    },
    {
      "cell_type": "markdown",
      "metadata": {
        "id": "23402879-69c1-4d5a-8fed-d618f16d52cc"
      },
      "source": [
        "<h2 id=\"Makeup_Data\">Make Some Data</h2> \n"
      ]
    },
    {
      "cell_type": "markdown",
      "metadata": {
        "id": "f6cc368f-204a-4902-a10f-53013b77646b"
      },
      "source": [
        "Create some linearly separable data with three classes: \n"
      ]
    },
    {
      "cell_type": "code",
      "metadata": {
        "id": "dc917996-3d8d-4df7-a95a-cffe86e563bd"
      },
      "outputs": [],
      "source": [
        "# Create the data class\n",
        "\n",
        "class Data(Dataset):\n",
        "    \n",
        "    # Constructor\n",
        "    def __init__(self):\n",
        "        self.x = torch.arange(-2, 2, 0.1).view(-1, 1)\n",
        "        self.y = torch.zeros(self.x.shape[0])\n",
        "        self.y[(self.x > -1.0)[:, 0] * (self.x < 1.0)[:, 0]] = 1\n",
        "        self.y[(self.x >= 1.0)[:, 0]] = 2\n",
        "        self.y = self.y.type(torch.LongTensor)\n",
        "        self.len = self.x.shape[0]\n",
        "        \n",
        "    # Getter\n",
        "    def __getitem__(self,index):      \n",
        "        return self.x[index], self.y[index]\n",
        "    \n",
        "    # Get Length\n",
        "    def __len__(self):\n",
        "        return self.len"
      ],
      "execution_count": null
    },
    {
      "cell_type": "markdown",
      "metadata": {
        "id": "147bbb50-687d-42d1-8909-96bc02217edb"
      },
      "source": [
        "Create the dataset object:\n"
      ]
    },
    {
      "cell_type": "code",
      "metadata": {
        "id": "68b203e3-65a2-424a-b887-f06ea80cb8d9"
      },
      "outputs": [],
      "source": [
        "# Create the dataset object and plot the dataset object\n",
        "\n",
        "data_set = Data()\n",
        "data_set.x\n",
        "plot_data(data_set)"
      ],
      "execution_count": null
    },
    {
      "cell_type": "markdown",
      "metadata": {
        "id": "a0be6ac1-fa7a-4027-b8ba-53c204796c8f"
      },
      "source": [
        "<!--Empty Space for separating topics-->\n"
      ]
    },
    {
      "cell_type": "markdown",
      "metadata": {
        "id": "267fe393-68f8-4fda-98c6-e2964948d9c5"
      },
      "source": [
        "<h2 id=\"Softmax\">Build a Softmax Classifier </h2>\n"
      ]
    },
    {
      "cell_type": "markdown",
      "metadata": {
        "id": "cd4dc54e-3da8-4af1-b5fb-b0915498a4d5"
      },
      "source": [
        "Build a Softmax classifier by using the Sequential module:\n"
      ]
    },
    {
      "cell_type": "code",
      "metadata": {
        "id": "721a3a46-c113-42c1-8f2d-d11dd62008c7"
      },
      "outputs": [],
      "source": [
        "# Build Softmax Classifier technically you only need nn.Linear\n",
        "\n",
        "model = nn.Sequential(nn.Linear(1, 3))\n",
        "model.state_dict()"
      ],
      "execution_count": null
    },
    {
      "cell_type": "markdown",
      "metadata": {
        "id": "e95deb6b-1a20-41cc-b92a-fa859c5e7e5e"
      },
      "source": [
        "<!--Empty Space for separating topics-->\n"
      ]
    },
    {
      "cell_type": "markdown",
      "metadata": {
        "id": "00defe87-ee04-4949-b7b0-b1f6d324ded4"
      },
      "source": [
        "<h2 id=\"Model\">Train the Model</h2> \n"
      ]
    },
    {
      "cell_type": "markdown",
      "metadata": {
        "id": "8b7a3c06-7142-454d-9c74-ffdaf5de9cc3"
      },
      "source": [
        "Create the criterion function, the optimizer and the dataloader\n"
      ]
    },
    {
      "cell_type": "code",
      "metadata": {
        "id": "07d9b104-ec06-46b3-a5da-6659f8cb77c9"
      },
      "outputs": [],
      "source": [
        "# Create criterion function, optimizer, and dataloader\n",
        "\n",
        "criterion = nn.CrossEntropyLoss()\n",
        "optimizer = torch.optim.SGD(model.parameters(), lr = 0.01)\n",
        "trainloader = DataLoader(dataset = data_set, batch_size = 5)"
      ],
      "execution_count": null
    },
    {
      "cell_type": "markdown",
      "metadata": {
        "id": "929be24e-95ab-4a8a-95e8-984328a4e4fc"
      },
      "source": [
        "Train the model for every 50 epochs plot, the line generated for each class.\n"
      ]
    },
    {
      "cell_type": "code",
      "metadata": {
        "id": "5aec7b91-426b-4194-8534-54c215743b00"
      },
      "outputs": [],
      "source": [
        "# Train the model\n",
        "\n",
        "LOSS = []\n",
        "def train_model(epochs):\n",
        "    for epoch in range(epochs):\n",
        "        if epoch % 50 == 0:\n",
        "            pass\n",
        "            plot_data(data_set, model)\n",
        "        for x, y in trainloader:\n",
        "            optimizer.zero_grad()\n",
        "            yhat = model(x)\n",
        "            loss = criterion(yhat, y)\n",
        "            LOSS.append(loss)\n",
        "            loss.backward()\n",
        "            optimizer.step()\n",
        "train_model(300)"
      ],
      "execution_count": null
    },
    {
      "cell_type": "markdown",
      "metadata": {
        "id": "59dd17f7-f084-4796-8ba0-d0ad76a3a977"
      },
      "source": [
        "<!--Empty Space for separating topics-->\n"
      ]
    },
    {
      "cell_type": "markdown",
      "metadata": {
        "id": "4cc6aa31-bf35-4753-ae9f-5e340f742e66"
      },
      "source": [
        "<h2 id=\"Result\">Analyze Results</h2> \n"
      ]
    },
    {
      "cell_type": "markdown",
      "metadata": {
        "id": "eaa8e542-13ef-4e8f-b8d4-933b10596e74"
      },
      "source": [
        "Find the predicted class on the test data: \n"
      ]
    },
    {
      "cell_type": "code",
      "metadata": {
        "id": "e64e9fae-ce88-49c0-b05c-01b7c6588577"
      },
      "outputs": [],
      "source": [
        "# Make the prediction\n",
        "\n",
        "z =  model(data_set.x)\n",
        "_, yhat = z.max(1)\n",
        "print(\"The prediction:\", yhat)\n"
      ],
      "execution_count": null
    },
    {
      "cell_type": "markdown",
      "metadata": {
        "id": "012bf3f5-9482-4e2c-8e75-a15d58c3974c"
      },
      "source": [
        "Calculate the accuracy on the test data:\n"
      ]
    },
    {
      "cell_type": "code",
      "metadata": {
        "id": "0bad77c0-e03b-42f8-b11a-f29779d5fb35"
      },
      "outputs": [],
      "source": [
        "# Print the accuracy\n",
        "\n",
        "correct = (data_set.y == yhat).sum().item()\n",
        "accuracy = correct / len(data_set)\n",
        "print(\"The accuracy: \", accuracy)"
      ],
      "execution_count": null
    },
    {
      "cell_type": "markdown",
      "metadata": {
        "id": "91d41996-26a9-455c-a9f8-5296911527d9"
      },
      "source": [
        "You can also use the softmax function to convert the output to a probability,first, we create a Softmax object:\n"
      ]
    },
    {
      "cell_type": "code",
      "metadata": {
        "id": "8eef1c11-9d79-4650-85c1-8f0681a43faa"
      },
      "outputs": [],
      "source": [
        "Softmax_fn=nn.Softmax(dim=-1)"
      ],
      "execution_count": null
    },
    {
      "cell_type": "markdown",
      "metadata": {
        "id": "5a9b8f9d-7f0c-408c-80b7-4bfb9be201c0"
      },
      "source": [
        "The result is a tensor <code> Probability </code>, where each row corresponds to a different sample, and each column corresponds to that sample  belonging to a particular class\n"
      ]
    },
    {
      "cell_type": "code",
      "metadata": {
        "id": "afd2fc53-0000-4ae0-b52f-b8084a44ea44"
      },
      "outputs": [],
      "source": [
        "Probability =Softmax_fn(z)"
      ],
      "execution_count": null
    },
    {
      "cell_type": "markdown",
      "metadata": {
        "id": "ab0b8d67-c25b-49f1-b3bd-c2ccbe449834"
      },
      "source": [
        "we can obtain the probability of the first sample belonging to the first, second and third class respectively as follows:\n"
      ]
    },
    {
      "cell_type": "code",
      "metadata": {
        "id": "08b11c2c-7fd0-4d8b-bbe2-79ac6748a058"
      },
      "outputs": [],
      "source": [
        "for i in range(3):\n",
        "    print(\"probability of class {} isg given by  {}\".format(i, Probability[0,i]) )"
      ],
      "execution_count": null
    },
    {
      "cell_type": "markdown",
      "metadata": {
        "id": "2ce516f3-6bfc-4583-b6f2-cad51b1235cb"
      },
      "source": [
        "\n",
        "\n",
        "<a href=\"https://dataplatform.cloud.ibm.com/registration/stepone?utm_medium=Exinfluencer&utm_source=Exinfluencer&utm_content=000026UJ&utm_term=10006555&utm_id=NA-SkillsNetwork-Channel-SkillsNetworkCoursesIBMDeveloperSkillsNetworkDL0110ENSkillsNetwork952-2022-01-01&context=cpdaas&apps=data_science_experience%2Cwatson_machine_learning\"><img src=\"https://cf-courses-data.s3.us.cloud-object-storage.appdomain.cloud/IBMDeveloperSkillsNetwork-DL0110EN-SkillsNetwork/Template/module%201/images/Watson_Studio.png\"></a>\n"
      ]
    },
    {
      "cell_type": "markdown",
      "metadata": {
        "id": "1191c0e8-ee60-4737-88d9-57feac1d11db"
      },
      "source": [
        "<!--Empty Space for separating topics-->\n"
      ]
    },
    {
      "cell_type": "markdown",
      "metadata": {
        "id": "f1283819-63ab-4a06-aedf-68119870e91d"
      },
      "source": [
        "<h2>About the Authors:</h2> \n",
        "\n",
        "<a href=\"https://www.linkedin.com/in/joseph-s-50398b136/?utm_medium=Exinfluencer&utm_source=Exinfluencer&utm_content=000026UJ&utm_term=10006555&utm_id=NA-SkillsNetwork-Channel-SkillsNetworkCoursesIBMDeveloperSkillsNetworkDL0110ENSkillsNetwork952-2022-01-01\">Joseph Santarcangelo</a> has a PhD in Electrical Engineering, his research focused on using machine learning, signal processing, and computer vision to determine how videos impact human cognition. Joseph has been working for IBM since he completed his PhD. \n"
      ]
    },
    {
      "cell_type": "markdown",
      "metadata": {
        "id": "a6f4fc5f-8519-4690-8159-16e43b8da470"
      },
      "source": [
        "Other contributors: <a href=\"https://www.linkedin.com/in/michelleccarey/?utm_medium=Exinfluencer&utm_source=Exinfluencer&utm_content=000026UJ&utm_term=10006555&utm_id=NA-SkillsNetwork-Channel-SkillsNetworkCoursesIBMDeveloperSkillsNetworkDL0110ENSkillsNetwork952-2022-01-01\">Michelle Carey</a>, <a href=\"www.linkedin.com/in/jiahui-mavis-zhou-a4537814a\">Mavis Zhou</a>\n"
      ]
    },
    {
      "cell_type": "markdown",
      "metadata": {
        "id": "48a5407c-e746-4d34-b297-73abc9f9ae4b"
      },
      "source": [
        "\n",
        "## Change Log\n",
        "\n",
        "|  Date (YYYY-MM-DD) |  Version | Changed By  |  Change Description |\n",
        "|---|---|---|---|\n",
        "| 2020-09-23  | 2.0  | Shubham  |  Migrated Lab to Markdown and added to course repo in GitLab |\n",
        "\n"
      ]
    },
    {
      "cell_type": "markdown",
      "metadata": {
        "id": "5180fbe6-8a77-4b26-9edc-e80c71bda7dc"
      },
      "source": [
        "<hr>\n"
      ]
    },
    {
      "cell_type": "markdown",
      "metadata": {
        "id": "1c7f7ac9-8e49-4f47-8092-3a690777aec5"
      },
      "source": [
        "\n",
        "\n",
        "\n",
        "## <h3 align=\"center\"> © IBM Corporation 2020. All rights reserved. <h3/>\n"
      ]
    }
  ],
  "metadata": {
    "kernelspec": {
      "display_name": "Python",
      "language": "python",
      "name": "conda-env-python-py"
    },
    "language_info": {
      "name": ""
    },
    "colab": {
      "provenance": [],
      "include_colab_link": true
    }
  },
  "nbformat": 4,
  "nbformat_minor": 0
}