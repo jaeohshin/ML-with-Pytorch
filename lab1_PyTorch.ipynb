{
  "nbformat": 4,
  "nbformat_minor": 0,
  "metadata": {
    "colab": {
      "provenance": [],
      "gpuType": "T4",
      "authorship_tag": "ABX9TyOhTw+08cJVESGf6G80p8k4",
      "include_colab_link": true
    },
    "kernelspec": {
      "name": "python3",
      "display_name": "Python 3"
    },
    "language_info": {
      "name": "python"
    },
    "accelerator": "GPU"
  },
  "cells": [
    {
      "cell_type": "markdown",
      "metadata": {
        "id": "view-in-github",
        "colab_type": "text"
      },
      "source": [
        "<a href=\"https://colab.research.google.com/github/jaeohshin/ML-with-Pytorch/blob/main/lab1_PyTorch.ipynb\" target=\"_parent\"><img src=\"https://colab.research.google.com/assets/colab-badge.svg\" alt=\"Open In Colab\"/></a>"
      ]
    },
    {
      "cell_type": "code",
      "execution_count": 2,
      "metadata": {
        "id": "RL06tI_Y0DS7"
      },
      "outputs": [],
      "source": [
        "import torch\n",
        "import math"
      ]
    },
    {
      "cell_type": "code",
      "source": [
        "print(torch.version)"
      ],
      "metadata": {
        "colab": {
          "base_uri": "https://localhost:8080/"
        },
        "id": "ZpVQ3bqE0Ukl",
        "outputId": "fe420831-c4b2-4399-bab4-b90fcac869e0"
      },
      "execution_count": 2,
      "outputs": [
        {
          "output_type": "stream",
          "name": "stdout",
          "text": [
            "<module 'torch.version' from '/usr/local/lib/python3.10/dist-packages/torch/version.py'>\n"
          ]
        }
      ]
    },
    {
      "cell_type": "code",
      "source": [
        "t1 = torch.zeros(4,3)"
      ],
      "metadata": {
        "id": "njmaNFhs0b-S"
      },
      "execution_count": 3,
      "outputs": []
    },
    {
      "cell_type": "code",
      "source": [
        "print(t1)"
      ],
      "metadata": {
        "colab": {
          "base_uri": "https://localhost:8080/"
        },
        "id": "WwgEGsul0vY9",
        "outputId": "10b4a6de-b988-46f2-dc34-4902a497c435"
      },
      "execution_count": 4,
      "outputs": [
        {
          "output_type": "stream",
          "name": "stdout",
          "text": [
            "tensor([[0., 0., 0.],\n",
            "        [0., 0., 0.],\n",
            "        [0., 0., 0.],\n",
            "        [0., 0., 0.]])\n"
          ]
        }
      ]
    },
    {
      "cell_type": "code",
      "source": [
        "print(t1.shape)"
      ],
      "metadata": {
        "colab": {
          "base_uri": "https://localhost:8080/"
        },
        "id": "_hZDB7tY0iiG",
        "outputId": "00f50183-c862-4ea3-a58b-d07901f0972a"
      },
      "execution_count": 5,
      "outputs": [
        {
          "output_type": "stream",
          "name": "stdout",
          "text": [
            "torch.Size([4, 3])\n"
          ]
        }
      ]
    },
    {
      "cell_type": "code",
      "source": [
        "print(t1.dtype)"
      ],
      "metadata": {
        "colab": {
          "base_uri": "https://localhost:8080/"
        },
        "id": "pm_vDJlj0lSC",
        "outputId": "0f96f6cb-f67f-47c6-d052-85ef96f5a964"
      },
      "execution_count": 6,
      "outputs": [
        {
          "output_type": "stream",
          "name": "stdout",
          "text": [
            "torch.float32\n"
          ]
        }
      ]
    },
    {
      "cell_type": "code",
      "source": [
        "print(t1.device)"
      ],
      "metadata": {
        "colab": {
          "base_uri": "https://localhost:8080/"
        },
        "id": "9-dCzwtA0oMX",
        "outputId": "0c55a332-9b63-4a24-9986-8e47f89f2c9d"
      },
      "execution_count": 7,
      "outputs": [
        {
          "output_type": "stream",
          "name": "stdout",
          "text": [
            "cpu\n"
          ]
        }
      ]
    },
    {
      "cell_type": "code",
      "source": [
        "device = torch.device(\"cuda:0\" if torch.cuda.is_available() else \"cpu\")\n",
        "t1_gpu = t1.cuda(device)\n",
        "print(t1_gpu.device)\n",
        "print(t1.device)"
      ],
      "metadata": {
        "colab": {
          "base_uri": "https://localhost:8080/"
        },
        "id": "M5vKMZe904Yd",
        "outputId": "c51b92f7-fdf7-4d8a-e021-0be46ac91130"
      },
      "execution_count": 8,
      "outputs": [
        {
          "output_type": "stream",
          "name": "stdout",
          "text": [
            "cuda:0\n",
            "cpu\n"
          ]
        }
      ]
    },
    {
      "cell_type": "code",
      "source": [
        "x = torch.tensor(-2.0, requires_grad = False)\n",
        "y = torch.tensor(5.0, requires_grad = True)\n",
        "z = torch.tensor(-4.0, requires_grad = True)\n",
        "f = (x+y) * z\n",
        "\n",
        "f.backward()\n",
        "\n",
        "print(x.grad)\n",
        "print(y.grad)\n",
        "print(z.grad)"
      ],
      "metadata": {
        "colab": {
          "base_uri": "https://localhost:8080/"
        },
        "id": "KxZx-_7m27xn",
        "outputId": "c164185b-3e81-4102-9e09-058e58897156"
      },
      "execution_count": 3,
      "outputs": [
        {
          "output_type": "stream",
          "name": "stdout",
          "text": [
            "None\n",
            "tensor(-4.)\n",
            "tensor(3.)\n"
          ]
        }
      ]
    },
    {
      "cell_type": "code",
      "source": [
        "t1 = torch.rand(12)\n",
        "print(t1.shape)\n",
        "print(t1)"
      ],
      "metadata": {
        "colab": {
          "base_uri": "https://localhost:8080/"
        },
        "id": "rcb0th9l5BwZ",
        "outputId": "0b8d4c93-535a-42be-8aca-8fdf026c0ea7"
      },
      "execution_count": 16,
      "outputs": [
        {
          "output_type": "stream",
          "name": "stdout",
          "text": [
            "torch.Size([12])\n",
            "tensor([0.2019, 0.9764, 0.4328, 0.9827, 0.4753, 0.4698, 0.5838, 0.3277, 0.2467,\n",
            "        0.1448, 0.7609, 0.1729])\n"
          ]
        }
      ]
    },
    {
      "cell_type": "code",
      "source": [
        "print(\"\\n----------after unsqueeze-------\")\n",
        "t1 = t1.unsqueeze(0)\n",
        "print(t1.shape)\n",
        "print(t1)"
      ],
      "metadata": {
        "colab": {
          "base_uri": "https://localhost:8080/"
        },
        "id": "WuK1_5KY_gSV",
        "outputId": "33e7646c-084e-4d34-ec37-859503ddd4bb"
      },
      "execution_count": 17,
      "outputs": [
        {
          "output_type": "stream",
          "name": "stdout",
          "text": [
            "\n",
            "----------after unsqueeze-------\n",
            "torch.Size([1, 12])\n",
            "tensor([[0.2019, 0.9764, 0.4328, 0.9827, 0.4753, 0.4698, 0.5838, 0.3277, 0.2467,\n",
            "         0.1448, 0.7609, 0.1729]])\n"
          ]
        }
      ]
    },
    {
      "cell_type": "code",
      "source": [
        "print(\"\\n----------after reshape-------\")\n",
        "t1 = t1.reshape(3, 2, 2)\n",
        "print(t1.shape)\n",
        "print(t1)"
      ],
      "metadata": {
        "colab": {
          "base_uri": "https://localhost:8080/"
        },
        "id": "A0gsGHa6_r2c",
        "outputId": "bf9e7f87-470c-4404-d1e9-16397e6f21be"
      },
      "execution_count": 19,
      "outputs": [
        {
          "output_type": "stream",
          "name": "stdout",
          "text": [
            "\n",
            "----------after reshape-------\n",
            "torch.Size([3, 2, 2])\n",
            "tensor([[[0.2019, 0.9764],\n",
            "         [0.4328, 0.9827]],\n",
            "\n",
            "        [[0.4753, 0.4698],\n",
            "         [0.5838, 0.3277]],\n",
            "\n",
            "        [[0.2467, 0.1448],\n",
            "         [0.7609, 0.1729]]])\n"
          ]
        }
      ]
    },
    {
      "cell_type": "code",
      "source": [
        "print(\"\\n----------after permute-------\")\n",
        "t1 = t1.permute(1, 2, 0)\n",
        "print(t1.shape)\n",
        "print(t1)"
      ],
      "metadata": {
        "colab": {
          "base_uri": "https://localhost:8080/"
        },
        "id": "nix6qnIqAsN4",
        "outputId": "e6e4256a-a27d-499f-b0da-d5ddd095f6bf"
      },
      "execution_count": 20,
      "outputs": [
        {
          "output_type": "stream",
          "name": "stdout",
          "text": [
            "\n",
            "----------after permute-------\n",
            "torch.Size([2, 2, 3])\n",
            "tensor([[[0.2019, 0.4753, 0.2467],\n",
            "         [0.9764, 0.4698, 0.1448]],\n",
            "\n",
            "        [[0.4328, 0.5838, 0.7609],\n",
            "         [0.9827, 0.3277, 0.1729]]])\n"
          ]
        }
      ]
    },
    {
      "cell_type": "code",
      "source": [],
      "metadata": {
        "id": "MOQHoUx5BALT"
      },
      "execution_count": null,
      "outputs": []
    }
  ]
}