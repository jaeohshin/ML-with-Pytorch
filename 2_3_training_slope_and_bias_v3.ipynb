{
  "cells": [
    {
      "cell_type": "markdown",
      "metadata": {
        "id": "view-in-github",
        "colab_type": "text"
      },
      "source": [
        "<a href=\"https://colab.research.google.com/github/jaeohshin/pytorch/blob/main/2_3_training_slope_and_bias_v3.ipynb\" target=\"_parent\"><img src=\"https://colab.research.google.com/assets/colab-badge.svg\" alt=\"Open In Colab\"/></a>"
      ]
    },
    {
      "cell_type": "markdown",
      "metadata": {
        "id": "84d27f84-144f-49b9-9627-7dff9bd704ae"
      },
      "source": [
        "<p style=\"text-align:center\">\n",
        "    <a href=\"https://skills.network/?utm_medium=Exinfluencer&utm_source=Exinfluencer&utm_content=000026UJ&utm_term=10006555&utm_id=NA-SkillsNetwork-Channel-SkillsNetworkCoursesIBMDeveloperSkillsNetworkDL0110ENSkillsNetwork952-2022-01-01\" target=\"_blank\">\n",
        "    <img src=\"https://cf-courses-data.s3.us.cloud-object-storage.appdomain.cloud/assets/logos/SN_web_lightmode.png\" width=\"200\" alt=\"Skills Network Logo\"  />\n",
        "    </a>\n",
        "</p>\n"
      ]
    },
    {
      "cell_type": "markdown",
      "metadata": {
        "id": "2d310492-80e2-49a1-9184-2fd6feaee74f"
      },
      "source": [
        "<h1>Linear regression 1D: Training Two Parameter</h1>\n"
      ]
    },
    {
      "cell_type": "markdown",
      "metadata": {
        "id": "b674c3a7-008e-4187-8335-5661b66c63bb"
      },
      "source": [
        "<h2>Objective</h2><ul><li> How to train the model and visualize the loss results.</li></ul> \n"
      ]
    },
    {
      "cell_type": "markdown",
      "metadata": {
        "id": "8472e865-1e3e-4301-a3fa-df5c7b497b38"
      },
      "source": [
        "<h2>Table of Contents</h2>\n",
        "<p>In this lab, you will train a model with PyTorch by using the data that we created. The model will have the slope and bias. And we will review how to make a prediction in several different ways by using PyTorch.</p>\n",
        "\n",
        "<ul>\n",
        "    <li><a href=\"#Makeup_Data\">Make Some Data</a></li>\n",
        "    <li><a href=\"#Model_Cost\">Create the Model and Cost Function (Total Loss) </a></li>\n",
        "    <li><a href=\"#Train\">Train the Model </a></li>\n",
        "</ul>\n",
        "<p>Estimated Time Needed: <strong>20 min</strong></ul>\n",
        "\n",
        "<hr>\n"
      ]
    },
    {
      "cell_type": "markdown",
      "metadata": {
        "id": "f90a00ec-7c0a-4273-980b-7393592ddb15"
      },
      "source": [
        "<h2>Preparation</h2>\n"
      ]
    },
    {
      "cell_type": "markdown",
      "metadata": {
        "id": "2a8fbeba-b26f-479b-a5f4-6822458f286d"
      },
      "source": [
        "We'll need the following libraries:  \n"
      ]
    },
    {
      "cell_type": "code",
      "metadata": {
        "id": "f5bef3d0-0b22-4495-8c47-04e977e7a0f0"
      },
      "outputs": [],
      "source": [
        "# These are the libraries we are going to use in the lab.\n",
        "\n",
        "import numpy as np\n",
        "import matplotlib.pyplot as plt\n",
        "from mpl_toolkits import mplot3d"
      ],
      "execution_count": null
    },
    {
      "cell_type": "markdown",
      "metadata": {
        "id": "bb17bb44-7321-4eb8-84c7-f2ccf9c67681"
      },
      "source": [
        "The class <code>plot_error_surfaces</code> is just to help you visualize the data space and the parameter space during training and has nothing to do with PyTorch. \n"
      ]
    },
    {
      "cell_type": "code",
      "metadata": {
        "id": "0fe04853-7111-4566-981f-f6d11c4629c6"
      },
      "outputs": [],
      "source": [
        "# The class for plot the diagram\n",
        "\n",
        "class plot_error_surfaces(object):\n",
        "    \n",
        "    # Constructor\n",
        "    def __init__(self, w_range, b_range, X, Y, n_samples = 30, go = True):\n",
        "        W = np.linspace(-w_range, w_range, n_samples)\n",
        "        B = np.linspace(-b_range, b_range, n_samples)\n",
        "        w, b = np.meshgrid(W, B)    \n",
        "        Z = np.zeros((30,30))\n",
        "        count1 = 0\n",
        "        self.y = Y.numpy()\n",
        "        self.x = X.numpy()\n",
        "        for w1, b1 in zip(w, b):\n",
        "            count2 = 0\n",
        "            for w2, b2 in zip(w1, b1):\n",
        "                Z[count1, count2] = np.mean((self.y - w2 * self.x + b2) ** 2)\n",
        "                count2 += 1\n",
        "            count1 += 1\n",
        "        self.Z = Z\n",
        "        self.w = w\n",
        "        self.b = b\n",
        "        self.W = []\n",
        "        self.B = []\n",
        "        self.LOSS = []\n",
        "        self.n = 0\n",
        "        if go == True:\n",
        "            plt.figure()\n",
        "            plt.figure(figsize = (7.5, 5))\n",
        "            plt.axes(projection='3d').plot_surface(self.w, self.b, self.Z, rstride = 1, cstride = 1,cmap = 'viridis', edgecolor = 'none')\n",
        "            plt.title('Cost/Total Loss Surface')\n",
        "            plt.xlabel('w')\n",
        "            plt.ylabel('b')\n",
        "            plt.show()\n",
        "            plt.figure()\n",
        "            plt.title('Cost/Total Loss Surface Contour')\n",
        "            plt.xlabel('w')\n",
        "            plt.ylabel('b')\n",
        "            plt.contour(self.w, self.b, self.Z)\n",
        "            plt.show()\n",
        "    \n",
        "    # Setter\n",
        "    def set_para_loss(self, W, B, loss):\n",
        "        self.n = self.n + 1\n",
        "        self.W.append(W)\n",
        "        self.B.append(B)\n",
        "        self.LOSS.append(loss)\n",
        "    \n",
        "    # Plot diagram\n",
        "    def final_plot(self): \n",
        "        ax = plt.axes(projection = '3d')\n",
        "        ax.plot_wireframe(self.w, self.b, self.Z)\n",
        "        ax.scatter(self.W,self.B, self.LOSS, c = 'r', marker = 'x', s = 200, alpha = 1)\n",
        "        plt.figure()\n",
        "        plt.contour(self.w,self.b, self.Z)\n",
        "        plt.scatter(self.W, self.B, c = 'r', marker = 'x')\n",
        "        plt.xlabel('w')\n",
        "        plt.ylabel('b')\n",
        "        plt.show()\n",
        "    \n",
        "    # Plot diagram\n",
        "    def plot_ps(self):\n",
        "        plt.subplot(121)\n",
        "        plt.ylim\n",
        "        plt.plot(self.x, self.y, 'ro', label=\"training points\")\n",
        "        plt.plot(self.x, self.W[-1] * self.x + self.B[-1], label = \"estimated line\")\n",
        "        plt.xlabel('x')\n",
        "        plt.ylabel('y')\n",
        "        plt.ylim((-10, 15))\n",
        "        plt.title('Data Space Iteration: ' + str(self.n))\n",
        "\n",
        "        plt.subplot(122)\n",
        "        plt.contour(self.w, self.b, self.Z)\n",
        "        plt.scatter(self.W, self.B, c = 'r', marker = 'x')\n",
        "        plt.title('Total Loss Surface Contour Iteration' + str(self.n))\n",
        "        plt.xlabel('w')\n",
        "        plt.ylabel('b')\n",
        "        plt.show()"
      ],
      "execution_count": null
    },
    {
      "cell_type": "markdown",
      "metadata": {
        "id": "e96521dc-674d-4087-9f9f-36ccb59009dc"
      },
      "source": [
        "<!--Empty Space for separating topics-->\n"
      ]
    },
    {
      "cell_type": "markdown",
      "metadata": {
        "id": "022492c8-73cc-49e6-abde-90e4e2df7493"
      },
      "source": [
        "<h2 id=\"Makeup_Data\">Make Some Data</h2>\n"
      ]
    },
    {
      "cell_type": "markdown",
      "metadata": {
        "id": "e3d59fa5-4d09-4991-9c25-09805f5feb2f"
      },
      "source": [
        "Import PyTorch: \n"
      ]
    },
    {
      "cell_type": "code",
      "metadata": {
        "id": "908db14a-32b3-4756-9f99-ef6ed8ce9d99"
      },
      "outputs": [],
      "source": [
        "# Import PyTorch library\n",
        "\n",
        "import torch"
      ],
      "execution_count": null
    },
    {
      "cell_type": "markdown",
      "metadata": {
        "id": "fcafe27c-2f5b-4d7b-bccd-dc95f8a97f0d"
      },
      "source": [
        "Start with generating values from -3 to 3 that create a line with a slope of 1 and a bias of -1. This is the line that you need to estimate.\n"
      ]
    },
    {
      "cell_type": "code",
      "metadata": {
        "id": "656af37e-5f73-40be-99a6-ce8c216b4736"
      },
      "outputs": [],
      "source": [
        "# Create f(X) with a slope of 1 and a bias of -1\n",
        "\n",
        "X = torch.arange(-3, 3, 0.1).view(-1, 1)\n",
        "f = 1 * X - 1"
      ],
      "execution_count": null
    },
    {
      "cell_type": "markdown",
      "metadata": {
        "id": "6fc272c1-6e26-48ab-8d24-40b5fbdfa4e9"
      },
      "source": [
        "Now, add some noise to the data:\n"
      ]
    },
    {
      "cell_type": "code",
      "metadata": {
        "id": "4b8d2a83-28c9-4d6d-afc5-2ba539d2d4b0"
      },
      "outputs": [],
      "source": [
        "# Add noise\n",
        "\n",
        "Y = f + 0.1 * torch.randn(X.size())"
      ],
      "execution_count": null
    },
    {
      "cell_type": "markdown",
      "metadata": {
        "id": "e13569b1-61b9-446e-9f19-fe7ee8f43274"
      },
      "source": [
        "Plot the line and <code>Y</code> with noise:\n"
      ]
    },
    {
      "cell_type": "code",
      "metadata": {
        "id": "842d0565-c47f-480c-8c55-3f49b21d7057"
      },
      "outputs": [],
      "source": [
        "# Plot out the line and the points with noise\n",
        "\n",
        "plt.plot(X.numpy(), Y.numpy(), 'rx', label = 'y')\n",
        "plt.plot(X.numpy(), f.numpy(), label = 'f')\n",
        "plt.xlabel('x')\n",
        "plt.ylabel('y')\n",
        "plt.legend()"
      ],
      "execution_count": null
    },
    {
      "cell_type": "markdown",
      "metadata": {
        "id": "834c792b-e171-4c9b-8a25-481a05f67553"
      },
      "source": [
        "<h2 id=\"Model_Cost\">Create the Model and Cost Function (Total Loss)</h2>\n"
      ]
    },
    {
      "cell_type": "markdown",
      "metadata": {
        "id": "7fb8b3f3-9768-4c4e-a6c9-b5e78854cf06"
      },
      "source": [
        "Define the <code>forward</code> function: \n"
      ]
    },
    {
      "cell_type": "code",
      "metadata": {
        "id": "4e892fa3-0474-4f9b-8e47-00002c5d30c0"
      },
      "outputs": [],
      "source": [
        "# Define the forward function\n",
        "\n",
        "def forward(x):\n",
        "    return w * x + b"
      ],
      "execution_count": null
    },
    {
      "cell_type": "markdown",
      "metadata": {
        "id": "92fa74b2-5e86-40be-b3f1-74d0e7c81eb6"
      },
      "source": [
        "Define the cost or criterion function (MSE): \n"
      ]
    },
    {
      "cell_type": "code",
      "metadata": {
        "id": "d72fd481-2b0b-4ead-ab4e-b1c6595d1c5a"
      },
      "outputs": [],
      "source": [
        "# Define the MSE Loss function\n",
        "\n",
        "def criterion(yhat,y):\n",
        "    return torch.mean((yhat-y)**2)"
      ],
      "execution_count": null
    },
    {
      "cell_type": "markdown",
      "metadata": {
        "id": "737b9367-0eb4-4474-b1f5-163d7380ff22"
      },
      "source": [
        "Create a <code> plot_error_surfaces</code> object to visualize the data space and the parameter space during training:\n"
      ]
    },
    {
      "cell_type": "code",
      "metadata": {
        "id": "e7f79d7f-bddb-4752-b471-a4a097d8f229"
      },
      "outputs": [],
      "source": [
        "# Create plot_error_surfaces for viewing the data\n",
        "\n",
        "get_surface = plot_error_surfaces(15, 15, X, Y, 30)"
      ],
      "execution_count": null
    },
    {
      "cell_type": "markdown",
      "metadata": {
        "id": "769a577f-2cd6-4583-b877-8e396f16a1c2"
      },
      "source": [
        "<!--Empty Space for separating topics-->\n"
      ]
    },
    {
      "cell_type": "markdown",
      "metadata": {
        "id": "c2c30aa2-1498-45a6-8d83-ef31f0013a7e"
      },
      "source": [
        "<h2 id=\"Train\">Train the Model</h2>\n"
      ]
    },
    {
      "cell_type": "markdown",
      "metadata": {
        "id": "2bd0752d-5237-441d-a2ce-9842244d650e"
      },
      "source": [
        "Create model parameters <code>w</code>, <code>b</code> by setting the argument <code>requires_grad</code> to True because we must learn it using the data.\n"
      ]
    },
    {
      "cell_type": "code",
      "metadata": {
        "id": "2feab81e-c320-46f7-9fd2-18345b210ed6"
      },
      "outputs": [],
      "source": [
        "# Define the parameters w, b for y = wx + b\n",
        "\n",
        "w = torch.tensor(-15.0, requires_grad = True)\n",
        "b = torch.tensor(-10.0, requires_grad = True)"
      ],
      "execution_count": null
    },
    {
      "cell_type": "markdown",
      "metadata": {
        "id": "a8092b53-6823-4f10-8c12-df6dca4a5cdc"
      },
      "source": [
        "Set the learning rate to 0.1 and create an empty list <code>LOSS</code> for storing the loss for each iteration.\n"
      ]
    },
    {
      "cell_type": "code",
      "metadata": {
        "id": "4b2a6b36-7cd1-4c13-b4f2-6c7546ab6b32"
      },
      "outputs": [],
      "source": [
        "# Define learning rate and create an empty list for containing the loss for each iteration.\n",
        "\n",
        "lr = 0.1\n",
        "LOSS = []"
      ],
      "execution_count": null
    },
    {
      "cell_type": "markdown",
      "metadata": {
        "id": "70576644-6d34-4b41-a273-09af58122eca"
      },
      "source": [
        "Define <code>train_model</code> function for train the model.\n"
      ]
    },
    {
      "cell_type": "code",
      "metadata": {
        "id": "e15005b0-b2b4-43cf-bb71-576ea44ad8a8"
      },
      "outputs": [],
      "source": [
        "# The function for training the model\n",
        "\n",
        "def train_model(iter):\n",
        "    \n",
        "    # Loop\n",
        "    for epoch in range(iter):\n",
        "        \n",
        "        # make a prediction\n",
        "        Yhat = forward(X)\n",
        "        \n",
        "        # calculate the loss \n",
        "        loss = criterion(Yhat, Y)\n",
        "\n",
        "        # Section for plotting\n",
        "        get_surface.set_para_loss(w.data.tolist(), b.data.tolist(), loss.tolist())\n",
        "        if epoch % 3 == 0:\n",
        "            get_surface.plot_ps()\n",
        "            \n",
        "        # store the loss in the list LOSS\n",
        "        LOSS.append(loss)\n",
        "        \n",
        "        # backward pass: compute gradient of the loss with respect to all the learnable parameters\n",
        "        loss.backward()\n",
        "        \n",
        "        # update parameters slope and bias\n",
        "        w.data = w.data - lr * w.grad.data\n",
        "        b.data = b.data - lr * b.grad.data\n",
        "        \n",
        "        # zero the gradients before running the backward pass\n",
        "        w.grad.data.zero_()\n",
        "        b.grad.data.zero_()"
      ],
      "execution_count": null
    },
    {
      "cell_type": "markdown",
      "metadata": {
        "id": "d9470733-fd74-41dc-9ef4-2e6a2033835c"
      },
      "source": [
        "Run 15 iterations of gradient descent: <b>bug</b> data space is 1 iteration ahead of parameter space \n"
      ]
    },
    {
      "cell_type": "code",
      "metadata": {
        "id": "419e73be-1f86-4022-93fb-5d3d26b296df"
      },
      "outputs": [],
      "source": [
        "# Train the model with 15 iterations\n",
        "\n",
        "train_model(15)"
      ],
      "execution_count": null
    },
    {
      "cell_type": "markdown",
      "metadata": {
        "id": "bbb74644-f7f0-4718-be3c-0f930dd75761"
      },
      "source": [
        "Plot total loss/cost surface with loss values for different parameters in red:\n"
      ]
    },
    {
      "cell_type": "code",
      "metadata": {
        "id": "63d4ed27-f7b6-4987-acc9-9e2e0a8fc6e9"
      },
      "outputs": [],
      "source": [
        "# Plot out the Loss Result\n",
        "\n",
        "get_surface.final_plot()\n",
        "plt.plot(LOSS)\n",
        "plt.tight_layout()\n",
        "plt.xlabel(\"Epoch/Iterations\")\n",
        "plt.ylabel(\"Cost\")"
      ],
      "execution_count": null
    },
    {
      "cell_type": "markdown",
      "metadata": {
        "id": "e1f36bc4-982e-4fa6-801e-18c4d15feffa"
      },
      "source": [
        "<!--Empty Space for separating topics-->\n"
      ]
    },
    {
      "cell_type": "markdown",
      "metadata": {
        "id": "788361f5-f44c-4e68-83bc-ba0b8adf604d"
      },
      "source": [
        "<h3>Practice</h3>\n"
      ]
    },
    {
      "cell_type": "markdown",
      "metadata": {
        "id": "e1d51019-aeee-4dad-89ea-182898afd669"
      },
      "source": [
        "Experiment using s learning rates 0.2 and width the following parameters. Run 15 iterations.\n"
      ]
    },
    {
      "cell_type": "code",
      "metadata": {
        "id": "18b0578c-59ee-4e33-8629-8e8095daa656"
      },
      "outputs": [],
      "source": [
        "# Practice: train and plot the result with lr = 0.2 and the following parameters\n",
        "\n",
        "w = torch.tensor(-15.0, requires_grad = True)\n",
        "b = torch.tensor(-10.0, requires_grad = True)\n",
        "lr = 0.2\n",
        "LOSS2 = []"
      ],
      "execution_count": null
    },
    {
      "cell_type": "markdown",
      "metadata": {
        "id": "87515660-41fb-43f3-aee9-bea96fc5ae7e"
      },
      "source": [
        "Double-click <b>here</b> for the solution.\n",
        "<!-- \n",
        "def my_train_model(iter):\n",
        "    for epoch in range(iter):\n",
        "        Yhat = forward(X)\n",
        "        loss = criterion(Yhat, Y)\n",
        "        get_surface.set_para_loss(w.data.tolist(), b.data.tolist(), loss.tolist())\n",
        "        if epoch % 3 == 0:\n",
        "            get_surface.plot_ps()\n",
        "        LOSS2.append(loss)\n",
        "        loss.backward()\n",
        "        w.data = w.data - lr * w.grad.data\n",
        "        b.data = b.data - lr * b.grad.data\n",
        "        w.grad.data.zero_()\n",
        "        b.grad.data.zero_()\n",
        "my_train_model(15)\n",
        "-->\n"
      ]
    },
    {
      "cell_type": "markdown",
      "metadata": {
        "id": "38ca0fb4-5753-4219-bdec-4ff6f4f1a795"
      },
      "source": [
        "Plot the <code>LOSS</code> and <code>LOSS2</code>\n"
      ]
    },
    {
      "cell_type": "code",
      "metadata": {
        "id": "d658ba5e-0c8e-437b-835c-b11b8bcffcb2"
      },
      "outputs": [],
      "source": [
        "# Practice: Plot the LOSS and LOSS2 in order to compare the Total Loss\n",
        "\n",
        "# Type your code here"
      ],
      "execution_count": null
    },
    {
      "cell_type": "markdown",
      "metadata": {
        "id": "91e35e6e-a4a8-4d44-90cf-0b1cca3e2989"
      },
      "source": [
        "Double-click <b>here</b> for the solution.\n",
        "<!--\n",
        "plt.plot(LOSS, label = \"LOSS\")\n",
        "plt.plot(LOSS2, label = \"LOSS2\")\n",
        "plt.tight_layout()\n",
        "plt.xlabel(\"Epoch/Iterations\")\n",
        "plt.ylabel(\"Cost\")\n",
        "plt.legend()\n",
        "-->\n"
      ]
    },
    {
      "cell_type": "markdown",
      "metadata": {
        "id": "5afdf2e9-6ac9-4a6d-9291-23f1e737f4cd"
      },
      "source": [
        "\n",
        "<a href=\"https://dataplatform.cloud.ibm.com/registration/stepone?utm_medium=Exinfluencer&utm_source=Exinfluencer&utm_content=000026UJ&utm_term=10006555&utm_id=NA-SkillsNetwork-Channel-SkillsNetworkCoursesIBMDeveloperSkillsNetworkDL0110ENSkillsNetwork952-2022-01-01&context=cpdaas&apps=data_science_experience%2Cwatson_machine_learning\"><img src=\"https://cf-courses-data.s3.us.cloud-object-storage.appdomain.cloud/IBMDeveloperSkillsNetwork-DL0110EN-SkillsNetwork/Template/module%201/images/Watson_Studio.png\"></a>\n"
      ]
    },
    {
      "cell_type": "markdown",
      "metadata": {
        "id": "6266c097-1956-4f80-bfd9-ee80895494cf"
      },
      "source": [
        "<!--Empty Space for separating topics-->\n"
      ]
    },
    {
      "cell_type": "markdown",
      "metadata": {
        "id": "a21b3d02-723a-41fe-9c21-6a6f16f79440"
      },
      "source": [
        "<h2>About the Authors:</h2> \n",
        "\n",
        "<a href=\"https://www.linkedin.com/in/joseph-s-50398b136/?utm_medium=Exinfluencer&utm_source=Exinfluencer&utm_content=000026UJ&utm_term=10006555&utm_id=NA-SkillsNetwork-Channel-SkillsNetworkCoursesIBMDeveloperSkillsNetworkDL0110ENSkillsNetwork952-2022-01-01\">Joseph Santarcangelo</a> has a PhD in Electrical Engineering, his research focused on using machine learning, signal processing, and computer vision to determine how videos impact human cognition. Joseph has been working for IBM since he completed his PhD.\n"
      ]
    },
    {
      "cell_type": "markdown",
      "metadata": {
        "id": "3d927ced-84b5-4e17-b2db-798c758d1e0c"
      },
      "source": [
        "Other contributors: <a href=\"https://www.linkedin.com/in/michelleccarey/?utm_medium=Exinfluencer&utm_source=Exinfluencer&utm_content=000026UJ&utm_term=10006555&utm_id=NA-SkillsNetwork-Channel-SkillsNetworkCoursesIBMDeveloperSkillsNetworkDL0110ENSkillsNetwork952-2022-01-01\">Michelle Carey</a>, <a href=\"www.linkedin.com/in/jiahui-mavis-zhou-a4537814a\">Mavis Zhou</a> \n"
      ]
    },
    {
      "cell_type": "markdown",
      "metadata": {
        "id": "1168f53a-e338-4f06-bfdc-d73c87ffa522"
      },
      "source": [
        "\n",
        "## Change Log\n",
        "\n",
        "|  Date (YYYY-MM-DD) |  Version | Changed By  |  Change Description |\n",
        "|---|---|---|---|\n",
        "| 2020-09-21  | 2.0  | Shubham  |  Migrated Lab to Markdown and added to course repo in GitLab |\n",
        "\n"
      ]
    },
    {
      "cell_type": "markdown",
      "metadata": {
        "id": "6a2c1f27-5bdd-4cdb-b964-b9641a111ff5"
      },
      "source": [
        "<hr>\n"
      ]
    },
    {
      "cell_type": "markdown",
      "metadata": {
        "id": "f5353ad7-969e-49e0-bd5d-1bbb492ca172"
      },
      "source": [
        "\n",
        "\n",
        "\n",
        "## <h3 align=\"center\"> © IBM Corporation 2020. All rights reserved. <h3/>\n"
      ]
    }
  ],
  "metadata": {
    "kernelspec": {
      "display_name": "Python",
      "language": "python",
      "name": "conda-env-python-py"
    },
    "language_info": {
      "name": ""
    },
    "colab": {
      "provenance": [],
      "include_colab_link": true
    }
  },
  "nbformat": 4,
  "nbformat_minor": 0
}