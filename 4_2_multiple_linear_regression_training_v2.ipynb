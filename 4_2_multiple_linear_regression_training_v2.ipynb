{
  "cells": [
    {
      "cell_type": "markdown",
      "metadata": {
        "id": "view-in-github",
        "colab_type": "text"
      },
      "source": [
        "<a href=\"https://colab.research.google.com/github/jaeohshin/pytorch/blob/main/4_2_multiple_linear_regression_training_v2.ipynb\" target=\"_parent\"><img src=\"https://colab.research.google.com/assets/colab-badge.svg\" alt=\"Open In Colab\"/></a>"
      ]
    },
    {
      "cell_type": "markdown",
      "metadata": {
        "id": "19090820-92bc-456e-ba5b-bb54df5e831e"
      },
      "source": [
        "<p style=\"text-align:center\">\n",
        "    <a href=\"https://skills.network/?utm_medium=Exinfluencer&utm_source=Exinfluencer&utm_content=000026UJ&utm_term=10006555&utm_id=NA-SkillsNetwork-Channel-SkillsNetworkCoursesIBMDeveloperSkillsNetworkDL0110ENSkillsNetwork952-2022-01-01\" target=\"_blank\">\n",
        "    <img src=\"https://cf-courses-data.s3.us.cloud-object-storage.appdomain.cloud/assets/logos/SN_web_lightmode.png\" width=\"200\" alt=\"Skills Network Logo\"  />\n",
        "    </a>\n",
        "</p>\n"
      ]
    },
    {
      "cell_type": "markdown",
      "metadata": {
        "id": "16853b7b-faa1-44f9-bc70-013631fd8404"
      },
      "source": [
        "<h1>Linear Regression Multiple Outputs</h1> \n"
      ]
    },
    {
      "cell_type": "markdown",
      "metadata": {
        "id": "0b8e17b1-f1dc-44e9-b5dc-e12b0397fb55"
      },
      "source": [
        "<h2>Objective</h2><ul><li> How to create a complicated models using pytorch build in functions.</li></ul> \n"
      ]
    },
    {
      "cell_type": "markdown",
      "metadata": {
        "id": "e82ba9bd-d58c-4a35-9999-20b0d2b24722"
      },
      "source": [
        "<h2>Table of Contents</h2>\n",
        "<p>In this lab, you will create a model the PyTroch way. This will help you more complicated models.</p>\n",
        "\n",
        "<ul>\n",
        "    <li><a href=\"#Makeup_Data\">Make Some Data</a></li>\n",
        "    <li><a href=\"#Model_Cost\">Create the Model and Cost Function the PyTorch way</a></li>\n",
        "    <li><a href=\"#BGD\">Train the Model: Batch Gradient Descent</a></li>\n",
        "</ul>\n",
        "<p>Estimated Time Needed: <strong>20 min</strong></p>\n",
        "\n",
        "<hr>\n"
      ]
    },
    {
      "cell_type": "markdown",
      "metadata": {
        "id": "c8bff00b-0e7c-46c7-9f4a-8ffe84eea231"
      },
      "source": [
        "<h2>Preparation</h2>\n"
      ]
    },
    {
      "cell_type": "markdown",
      "metadata": {
        "id": "4419f0b9-ab5d-4ee6-9eeb-1eb268ed38a5"
      },
      "source": [
        "We'll need the following libraries:\n"
      ]
    },
    {
      "cell_type": "code",
      "metadata": {
        "id": "fc5c395d-9fc6-4b71-8b99-da1a9eeffe96"
      },
      "outputs": [],
      "source": [
        "# Import the libraries we need for this lab\n",
        "\n",
        "from torch import nn, optim\n",
        "import torch\n",
        "import numpy as np\n",
        "import matplotlib.pyplot as plt\n",
        "\n",
        "from mpl_toolkits.mplot3d import Axes3D\n",
        "from torch.utils.data import Dataset, DataLoader\n",
        "\n"
      ],
      "execution_count": 1
    },
    {
      "cell_type": "markdown",
      "metadata": {
        "id": "720fc8b0-8b17-4a78-a019-e3ba4af4ed88"
      },
      "source": [
        "Set the random seed:\n"
      ]
    },
    {
      "cell_type": "code",
      "metadata": {
        "colab": {
          "base_uri": "https://localhost:8080/"
        },
        "id": "1e60a0ca-1fdb-49d4-840e-4b3a33457844",
        "outputId": "ee154da1-e0bf-45de-c14f-f8380a6deca3"
      },
      "outputs": [
        {
          "output_type": "execute_result",
          "data": {
            "text/plain": [
              "<torch._C.Generator at 0x7f690c177c50>"
            ]
          },
          "metadata": {},
          "execution_count": 2
        }
      ],
      "source": [
        "# Set the random seed to 1. \n",
        "\n",
        "torch.manual_seed(1)\n",
        "#torch.manual_seed(1)"
      ],
      "execution_count": 2
    },
    {
      "cell_type": "markdown",
      "metadata": {
        "id": "67e21f52-464c-4526-aedb-168bbb70f5bd"
      },
      "source": [
        "Use this function for plotting: \n"
      ]
    },
    {
      "cell_type": "code",
      "metadata": {
        "id": "39ea922d-977c-4625-87c9-74a1105d5b90"
      },
      "outputs": [],
      "source": [
        "# The function for plotting 2D\n",
        "\n",
        "def Plot_2D_Plane(model, dataset, n=0):\n",
        "    w1 = model.state_dict()['linear.weight'].numpy()[0][0]\n",
        "    w2 = model.state_dict()['linear.weight'].numpy()[0][1]\n",
        "    b = model.state_dict()['linear.bias'].numpy()\n",
        "\n",
        "    # Data\n",
        "    x1 = data_set.x[:, 0].view(-1, 1).numpy()\n",
        "    x2 = data_set.x[:, 1].view(-1, 1).numpy()\n",
        "    y = data_set.y.numpy()\n",
        "\n",
        "    # Make plane\n",
        "    X, Y = np.meshgrid(np.arange(x1.min(), x1.max(), 0.05), np.arange(x2.min(), x2.max(), 0.05))\n",
        "    yhat = w1 * X + w2 * Y + b\n",
        "\n",
        "    # Plotting\n",
        "    fig = plt.figure()\n",
        "    ax = fig.gca(projection='3d')\n",
        "\n",
        "    ax.plot(x1[:, 0], x2[:, 0], y[:, 0],'ro', label='y') # Scatter plot\n",
        "    \n",
        "    ax.plot_surface(X, Y, yhat) # Plane plot\n",
        "    \n",
        "    ax.set_xlabel('x1 ')\n",
        "    ax.set_ylabel('x2 ')\n",
        "    ax.set_zlabel('y')\n",
        "    plt.title('estimated plane iteration:' + str(n))\n",
        "    ax.legend()\n",
        "\n",
        "    plt.show()"
      ],
      "execution_count": 3
    },
    {
      "cell_type": "markdown",
      "metadata": {
        "id": "2415a253-eb8c-4894-a2c1-df50caeb0f72"
      },
      "source": [
        "<!--Empty Space for separating topics-->\n"
      ]
    },
    {
      "cell_type": "markdown",
      "metadata": {
        "id": "0b94fc26-8053-4787-9ba3-2eb125e722f7"
      },
      "source": [
        "<h2 id=\" #Makeup_Data\" > Make Some Data </h2>\n"
      ]
    },
    {
      "cell_type": "markdown",
      "metadata": {
        "id": "5466bed1-605d-4693-a481-4aed410ad69c"
      },
      "source": [
        "Create a dataset class with two-dimensional features:\n"
      ]
    },
    {
      "cell_type": "code",
      "metadata": {
        "id": "ecea840c-7836-4894-a955-b05434d067b5"
      },
      "outputs": [],
      "source": [
        "# Create a 2D dataset\n",
        "\n",
        "class Data2D(Dataset):\n",
        "\n",
        "      # Constructor\n",
        "      def __init__(self):\n",
        "          self.x = torch.zeros(20, 2)\n",
        "          self.x[:, 0] = torch.arange(-1, 1, 0.1)\n",
        "          self.x[:, 1] = torch.arange(-1, 1, 0.1)\n",
        "          self.w = torch.tensor([[1.0], [1.0]])\n",
        "          self.b = 1\n",
        "          self.f = torch.mm(self.x, self.w) + self.b\n",
        "          self.y = self.f + 0.1* torch.randn(self.x.shape[0], 1)\n",
        "          self.len = self.x.shape[0]\n",
        "\n",
        "\n",
        "      # Getter\n",
        "      def __getitem__(self, index):\n",
        "          return self.x[index], self.y[index]\n",
        "      \n",
        "      \n",
        "      # Get Length\n",
        "      def __len__(self):\n",
        "        return self.len\n",
        "\n",
        "\n",
        "\n",
        "\n"
      ],
      "execution_count": 11
    },
    {
      "cell_type": "markdown",
      "metadata": {
        "id": "013598ce-c5b4-4460-a954-89ec3db69ba3"
      },
      "source": [
        "Create a dataset object:\n"
      ]
    },
    {
      "cell_type": "code",
      "metadata": {
        "id": "725da211-b34f-4f19-8105-f1b64147146b"
      },
      "outputs": [],
      "source": [
        "# Create the dataset object\n",
        "\n",
        "data_set = Data2D()"
      ],
      "execution_count": 12
    },
    {
      "cell_type": "markdown",
      "metadata": {
        "id": "16740197-4fa8-456f-8209-fc405d5c8b92"
      },
      "source": [
        "<h2 id=\"Model_Cost\">Create the Model, Optimizer, and Total Loss Function (Cost)</h2>\n"
      ]
    },
    {
      "cell_type": "markdown",
      "metadata": {
        "id": "90200572-8831-4b7b-ba5c-c7ae9a06e929"
      },
      "source": [
        "Create a customized linear regression module: \n"
      ]
    },
    {
      "cell_type": "code",
      "metadata": {
        "id": "908dba15-71da-4377-a8d4-b76bcd673719"
      },
      "outputs": [],
      "source": [
        "# Create a customized linear\n",
        "class linear_regression(nn.Module):\n",
        "\n",
        "      # Constructor\n",
        "      def __init__(self, input_size, output_size):\n",
        "        super(linear_regression, self).__init__()\n",
        "        self.linear = nn.Linear(input_size, output_size)\n",
        "\n",
        "      #Prediction\n",
        "      def forward(self, x):\n",
        "          yhat = self.linear(x)\n",
        "          return yhat\n"
      ],
      "execution_count": 13
    },
    {
      "cell_type": "markdown",
      "metadata": {
        "id": "92f77cfb-4b89-4cdc-b854-3a7f93f3c7ca"
      },
      "source": [
        "Create a model. Use two features: make the input size 2 and the output size 1: \n"
      ]
    },
    {
      "cell_type": "code",
      "metadata": {
        "colab": {
          "base_uri": "https://localhost:8080/"
        },
        "id": "06624a6a-c4f9-4f38-b5d5-30bc56b58693",
        "outputId": "87183650-0c3a-40dd-beb8-1d43a2881848"
      },
      "outputs": [
        {
          "output_type": "stream",
          "name": "stdout",
          "text": [
            "The parameters:  [Parameter containing:\n",
            "tensor([[ 0.6209, -0.1178]], requires_grad=True), Parameter containing:\n",
            "tensor([0.3026], requires_grad=True)]\n"
          ]
        }
      ],
      "source": [
        "# Create the linear regression model and print the parameters\n",
        "\n",
        "model = linear_regression(2,1)\n",
        "print(\"The parameters: \", list(model.parameters()))"
      ],
      "execution_count": 14
    },
    {
      "cell_type": "markdown",
      "metadata": {
        "id": "ffd731ad-8fe2-4a77-b4f0-1876159b88da"
      },
      "source": [
        "Create an optimizer  object. Set the learning rate to 0.1. <b>Don't forget to enter the model parameters in the constructor.</b>\n"
      ]
    },
    {
      "cell_type": "markdown",
      "metadata": {
        "id": "7f616da7-dbb1-4f67-9bea-0402dbc098a6"
      },
      "source": [
        "<img src=\"https://s3-api.us-geo.objectstorage.softlayer.net/cf-courses-data/CognitiveClass/DL0110EN/notebook_images%20/chapter2/2.6.2paramater_hate.png\" width=\"100\" alt=\"How the optimizer works\">\n"
      ]
    },
    {
      "cell_type": "code",
      "metadata": {
        "id": "c0179814-94b2-4c9d-b076-ff4e15ed8972"
      },
      "outputs": [],
      "source": [
        "# Create the optimizer\n",
        "\n",
        "optimizer = optim.SGD(model.parameters(), lr=0.1)"
      ],
      "execution_count": 15
    },
    {
      "cell_type": "markdown",
      "metadata": {
        "id": "b38f206c-169b-482d-b185-b32a2aea7376"
      },
      "source": [
        "Create the criterion function that calculates the total loss or cost:\n"
      ]
    },
    {
      "cell_type": "code",
      "metadata": {
        "id": "a10d2ca3-666f-41b3-b2da-e41575b4a233"
      },
      "outputs": [],
      "source": [
        "# Create the cost function\n",
        "\n",
        "criterion = nn.MSELoss()"
      ],
      "execution_count": 16
    },
    {
      "cell_type": "markdown",
      "metadata": {
        "id": "d9da45c2-be64-4205-9638-4ca52c3e6d4b"
      },
      "source": [
        "Create a data loader object. Set the batch_size equal to 2: \n"
      ]
    },
    {
      "cell_type": "code",
      "metadata": {
        "id": "29a6f001-20d2-401a-86be-1e372a475cc1"
      },
      "outputs": [],
      "source": [
        "# Create the data loader\n",
        "\n",
        "train_loader = DataLoader(dataset=data_set, batch_size=2)"
      ],
      "execution_count": 17
    },
    {
      "cell_type": "markdown",
      "metadata": {
        "id": "8469b977-ec99-4b3a-a26a-60948c022e94"
      },
      "source": [
        "<!--Empty Space for separating topics-->\n"
      ]
    },
    {
      "cell_type": "markdown",
      "metadata": {
        "id": "bb0af7ab-26f6-4afc-8345-500713a70ed1"
      },
      "source": [
        "<h2 id=\"BGD\">Train the Model via Mini-Batch Gradient Descent</h2>\n"
      ]
    },
    {
      "cell_type": "markdown",
      "metadata": {
        "id": "8b7b0235-1c6a-4b03-869f-ed6ab538282c"
      },
      "source": [
        "Run 100 epochs of Mini-Batch Gradient Descent and store the total loss or cost for every iteration. Remember that this is an approximation of the true total loss or cost:\n"
      ]
    },
    {
      "cell_type": "code",
      "metadata": {
        "colab": {
          "base_uri": "https://localhost:8080/",
          "height": 391
        },
        "id": "4ab60bcb-e22b-441f-8d8e-9627ce574120",
        "outputId": "b02a81b9-8568-47a0-bc31-679115559c97"
      },
      "outputs": [
        {
          "output_type": "stream",
          "name": "stdout",
          "text": [
            "Before Training: \n"
          ]
        },
        {
          "output_type": "error",
          "ename": "TypeError",
          "evalue": "ignored",
          "traceback": [
            "\u001b[0;31m---------------------------------------------------------------------------\u001b[0m",
            "\u001b[0;31mTypeError\u001b[0m                                 Traceback (most recent call last)",
            "\u001b[0;32m<ipython-input-18-22eca19ecca8>\u001b[0m in \u001b[0;36m<module>\u001b[0;34m\u001b[0m\n\u001b[1;32m      3\u001b[0m \u001b[0mLOSS\u001b[0m \u001b[0;34m=\u001b[0m \u001b[0;34m[\u001b[0m\u001b[0;34m]\u001b[0m\u001b[0;34m\u001b[0m\u001b[0;34m\u001b[0m\u001b[0m\n\u001b[1;32m      4\u001b[0m \u001b[0mprint\u001b[0m\u001b[0;34m(\u001b[0m\u001b[0;34m\"Before Training: \"\u001b[0m\u001b[0;34m)\u001b[0m\u001b[0;34m\u001b[0m\u001b[0;34m\u001b[0m\u001b[0m\n\u001b[0;32m----> 5\u001b[0;31m \u001b[0mPlot_2D_Plane\u001b[0m\u001b[0;34m(\u001b[0m\u001b[0mmodel\u001b[0m\u001b[0;34m,\u001b[0m \u001b[0mdata_set\u001b[0m\u001b[0;34m)\u001b[0m\u001b[0;34m\u001b[0m\u001b[0;34m\u001b[0m\u001b[0m\n\u001b[0m\u001b[1;32m      6\u001b[0m \u001b[0mepochs\u001b[0m \u001b[0;34m=\u001b[0m \u001b[0;36m100\u001b[0m\u001b[0;34m\u001b[0m\u001b[0;34m\u001b[0m\u001b[0m\n\u001b[1;32m      7\u001b[0m \u001b[0;34m\u001b[0m\u001b[0m\n",
            "\u001b[0;32m<ipython-input-3-69a7bcfd5913>\u001b[0m in \u001b[0;36mPlot_2D_Plane\u001b[0;34m(model, dataset, n)\u001b[0m\n\u001b[1;32m     17\u001b[0m     \u001b[0;31m# Plotting\u001b[0m\u001b[0;34m\u001b[0m\u001b[0;34m\u001b[0m\u001b[0m\n\u001b[1;32m     18\u001b[0m     \u001b[0mfig\u001b[0m \u001b[0;34m=\u001b[0m \u001b[0mplt\u001b[0m\u001b[0;34m.\u001b[0m\u001b[0mfigure\u001b[0m\u001b[0;34m(\u001b[0m\u001b[0;34m)\u001b[0m\u001b[0;34m\u001b[0m\u001b[0;34m\u001b[0m\u001b[0m\n\u001b[0;32m---> 19\u001b[0;31m     \u001b[0max\u001b[0m \u001b[0;34m=\u001b[0m \u001b[0mfig\u001b[0m\u001b[0;34m.\u001b[0m\u001b[0mgca\u001b[0m\u001b[0;34m(\u001b[0m\u001b[0mprojection\u001b[0m\u001b[0;34m=\u001b[0m\u001b[0;34m'3d'\u001b[0m\u001b[0;34m)\u001b[0m\u001b[0;34m\u001b[0m\u001b[0;34m\u001b[0m\u001b[0m\n\u001b[0m\u001b[1;32m     20\u001b[0m \u001b[0;34m\u001b[0m\u001b[0m\n\u001b[1;32m     21\u001b[0m     \u001b[0max\u001b[0m\u001b[0;34m.\u001b[0m\u001b[0mplot\u001b[0m\u001b[0;34m(\u001b[0m\u001b[0mx1\u001b[0m\u001b[0;34m[\u001b[0m\u001b[0;34m:\u001b[0m\u001b[0;34m,\u001b[0m \u001b[0;36m0\u001b[0m\u001b[0;34m]\u001b[0m\u001b[0;34m,\u001b[0m \u001b[0mx2\u001b[0m\u001b[0;34m[\u001b[0m\u001b[0;34m:\u001b[0m\u001b[0;34m,\u001b[0m \u001b[0;36m0\u001b[0m\u001b[0;34m]\u001b[0m\u001b[0;34m,\u001b[0m \u001b[0my\u001b[0m\u001b[0;34m[\u001b[0m\u001b[0;34m:\u001b[0m\u001b[0;34m,\u001b[0m \u001b[0;36m0\u001b[0m\u001b[0;34m]\u001b[0m\u001b[0;34m,\u001b[0m\u001b[0;34m'ro'\u001b[0m\u001b[0;34m,\u001b[0m \u001b[0mlabel\u001b[0m\u001b[0;34m=\u001b[0m\u001b[0;34m'y'\u001b[0m\u001b[0;34m)\u001b[0m \u001b[0;31m# Scatter plot\u001b[0m\u001b[0;34m\u001b[0m\u001b[0;34m\u001b[0m\u001b[0m\n",
            "\u001b[0;31mTypeError\u001b[0m: gca() got an unexpected keyword argument 'projection'"
          ]
        },
        {
          "output_type": "display_data",
          "data": {
            "text/plain": [
              "<Figure size 432x288 with 0 Axes>"
            ]
          },
          "metadata": {}
        }
      ],
      "source": [
        "# Train the model\n",
        "\n",
        "LOSS = []\n",
        "print(\"Before Training: \")\n",
        "Plot_2D_Plane(model, data_set)   \n",
        "epochs = 100\n",
        "   \n",
        "def train_model(epochs):    \n",
        "    for epoch in range(epochs):\n",
        "        for x,y in train_loader:\n",
        "            yhat = model(x)\n",
        "            loss = criterion(yhat, y)\n",
        "            LOSS.append(loss.item())\n",
        "            optimizer.zero_grad()\n",
        "            loss.backward()\n",
        "            optimizer.step()     \n",
        "train_model(epochs)\n",
        "print(\"After Training: \")\n",
        "Plot_2D_Plane(model, data_set, epochs)  "
      ],
      "execution_count": 18
    },
    {
      "cell_type": "code",
      "metadata": {
        "colab": {
          "base_uri": "https://localhost:8080/",
          "height": 296
        },
        "id": "7e01f40c-f76e-4a28-8fc3-571a637490f2",
        "outputId": "7ba9be15-2ca8-41b4-bc60-64d397ceb50c"
      },
      "outputs": [
        {
          "output_type": "execute_result",
          "data": {
            "text/plain": [
              "Text(0, 0.5, 'Cost/total loss ')"
            ]
          },
          "metadata": {},
          "execution_count": 19
        },
        {
          "output_type": "display_data",
          "data": {
            "text/plain": [
              "<Figure size 432x288 with 1 Axes>"
            ],
            "image/png": "[encoded data removed]"
          },
          "metadata": {
            "needs_background": "light"
          }
        }
      ],
      "source": [
        "# Plot out the Loss and iteration diagram\n",
        "\n",
        "plt.plot(LOSS)\n",
        "plt.xlabel(\"Iterations \")\n",
        "plt.ylabel(\"Cost/total loss \")"
      ],
      "execution_count": 19
    },
    {
      "cell_type": "markdown",
      "metadata": {
        "id": "88187945-cf55-4612-8a68-1629f70d012e"
      },
      "source": [
        "<h3>Practice</h3>\n"
      ]
    },
    {
      "cell_type": "markdown",
      "metadata": {
        "id": "35d23eb1-79de-4940-a9cd-56381e1f9dda"
      },
      "source": [
        "Create a new <code>model1</code>. Train the model with a batch size 30 and learning rate 0.1, store the loss or total cost in a list <code>LOSS1</code>, and plot the results.\n"
      ]
    },
    {
      "cell_type": "code",
      "metadata": {
        "id": "dce2a749-4827-4c1f-98ec-98b4ec33dc65"
      },
      "outputs": [],
      "source": [
        "# Practice create model1. Train the model with batch size 30 and learning rate 0.1, store the loss in a list <code>LOSS1</code>. Plot the results.\n",
        "\n",
        "data_set = Data2D()\n",
        "\n",
        "\n",
        "train_loader = DataLoader(dataset=data_set, batch_size=30)\n",
        "model1= linear_regression(2, 1)\n",
        "optimizer = optim.SGD(model.parameters(), lr=0.1)\n",
        "LOSS1=[]\n",
        "\n",
        "epochs = 100\n",
        "   \n",
        "def train_model(epochs):    \n",
        "    for epoch in range(epochs):\n",
        "        for x,y in train_loader:\n",
        "            yhat = model(x)\n",
        "            loss = criterion(yhat, y)\n",
        "            LOSS1.append(loss.item())\n",
        "            optimizer.zero_grad()\n",
        "            loss.backward()\n",
        "            optimizer.step()     \n",
        "train_model(epochs)\n",
        "print(\"After Training: \")\n",
        "Plot_2D_Plane(model, data_set, epochs)  \n"
      ],
      "execution_count": null
    },
    {
      "cell_type": "markdown",
      "metadata": {
        "id": "81a40370-ecaf-4e6d-b200-286a29e38b7a"
      },
      "source": [
        "Double-click <b>here</b> for the solution.\n",
        "\n",
        "<!-- Your answer is below:\n",
        "train_loader = DataLoader(dataset = data_set, batch_size = 30)\n",
        "model1 = linear_regression(2, 1)\n",
        "optimizer = optim.SGD(model1.parameters(), lr = 0.1)\n",
        "LOSS1 = []\n",
        "epochs = 100\n",
        "def train_model(epochs):    \n",
        "    for epoch in range(epochs):\n",
        "        for x,y in train_loader:\n",
        "            yhat = model1(x)\n",
        "            loss = criterion(yhat,y)\n",
        "            LOSS1.append(loss.item())\n",
        "            optimizer.zero_grad()\n",
        "            loss.backward()\n",
        "            optimizer.step()     \n",
        "train_model(epochs)\n",
        "Plot_2D_Plane(model1 , data_set)  \n",
        "plt.plot(LOSS1)\n",
        "plt.xlabel(\"iterations \")\n",
        "plt.ylabel(\"Cost/total loss \")\n",
        "-->\n"
      ]
    },
    {
      "cell_type": "markdown",
      "metadata": {
        "id": "57e65454-4780-4015-86d0-b762fcd7d4d0"
      },
      "source": [
        "Use the following validation data to calculate the total loss or cost for both models:\n"
      ]
    },
    {
      "cell_type": "code",
      "metadata": {
        "id": "fa492a3f-bf04-41d9-89f7-2f7df200a9f4"
      },
      "outputs": [],
      "source": [
        "torch.manual_seed(2)\n",
        "\n",
        "validation_data = Data2D()\n",
        "Y = validation_data.y\n",
        "X = validation_data.x"
      ],
      "execution_count": null
    },
    {
      "cell_type": "markdown",
      "metadata": {
        "id": "a96bbf13-6cde-413e-9f01-94a033e86d1d"
      },
      "source": [
        "Double-click <b>here</b> for the solution.\n",
        "<!-- Your answer is below:\n",
        "print(\"total loss or cost for model: \",criterion(model(X),Y))\n",
        "print(\"total loss or cost for model: \",criterion(model1(X),Y))\n",
        "-->\n"
      ]
    },
    {
      "cell_type": "markdown",
      "metadata": {
        "id": "87c2fdf0-3053-428b-be00-f5221574c4f5"
      },
      "source": [
        "\n",
        "\n",
        "<a href=\"https://dataplatform.cloud.ibm.com/registration/stepone?utm_medium=Exinfluencer&utm_source=Exinfluencer&utm_content=000026UJ&utm_term=10006555&utm_id=NA-SkillsNetwork-Channel-SkillsNetworkCoursesIBMDeveloperSkillsNetworkDL0110ENSkillsNetwork952-2022-01-01&context=cpdaas&apps=data_science_experience%2Cwatson_machine_learning\"><img src=\"https://cf-courses-data.s3.us.cloud-object-storage.appdomain.cloud/IBMDeveloperSkillsNetwork-DL0110EN-SkillsNetwork/Template/module%201/images/Watson_Studio.png\"></a>\n"
      ]
    },
    {
      "cell_type": "markdown",
      "metadata": {
        "id": "7e589f6f-2959-45df-8b9c-3bfaf80ccc1a"
      },
      "source": [
        "<!--Empty Space for separating topics-->\n"
      ]
    },
    {
      "cell_type": "markdown",
      "metadata": {
        "id": "61761b7a-2ca3-4cef-a939-5dfcebd51d97"
      },
      "source": [
        "<h2>About the Authors:</h2> \n",
        "\n",
        "<a href=\"https://www.linkedin.com/in/joseph-s-50398b136/?utm_medium=Exinfluencer&utm_source=Exinfluencer&utm_content=000026UJ&utm_term=10006555&utm_id=NA-SkillsNetwork-Channel-SkillsNetworkCoursesIBMDeveloperSkillsNetworkDL0110ENSkillsNetwork952-2022-01-01\">Joseph Santarcangelo</a> has a PhD in Electrical Engineering, his research focused on using machine learning, signal processing, and computer vision to determine how videos impact human cognition. Joseph has been working for IBM since he completed his PhD. \n"
      ]
    },
    {
      "cell_type": "markdown",
      "metadata": {
        "id": "51c3481c-8894-4faf-aa3d-5a9b0904d66b"
      },
      "source": [
        "Other contributors: <a href=\"https://www.linkedin.com/in/michelleccarey/?utm_medium=Exinfluencer&utm_source=Exinfluencer&utm_content=000026UJ&utm_term=10006555&utm_id=NA-SkillsNetwork-Channel-SkillsNetworkCoursesIBMDeveloperSkillsNetworkDL0110ENSkillsNetwork952-2022-01-01\">Michelle Carey</a>, <a href=\"www.linkedin.com/in/jiahui-mavis-zhou-a4537814a\">Mavis Zhou</a>\n"
      ]
    },
    {
      "cell_type": "markdown",
      "metadata": {
        "id": "d531b6b3-c14e-4b6a-8b18-3194ef6c70f5"
      },
      "source": [
        "\n",
        "## Change Log\n",
        "\n",
        "|  Date (YYYY-MM-DD) |  Version | Changed By  |  Change Description |\n",
        "|---|---|---|---|\n",
        "| 2020-09-23  | 2.0  | Shubham  |  Migrated Lab to Markdown and added to course repo in GitLab |\n",
        "\n"
      ]
    },
    {
      "cell_type": "markdown",
      "metadata": {
        "id": "300f85c8-f4d6-407e-95d2-4fcff5c50add"
      },
      "source": [
        "<hr>\n"
      ]
    },
    {
      "cell_type": "markdown",
      "metadata": {
        "id": "0adda0fd-10ee-4636-9d54-b0e3b44e0931"
      },
      "source": [
        "\n",
        "## <h3 align=\"center\"> © IBM Corporation 2020. All rights reserved. <h3/>\n"
      ]
    }
  ],
  "metadata": {
    "kernelspec": {
      "display_name": "Python",
      "language": "python",
      "name": "conda-env-python-py"
    },
    "language_info": {
      "name": ""
    },
    "colab": {
      "provenance": [],
      "include_colab_link": true
    }
  },
  "nbformat": 4,
  "nbformat_minor": 0
}