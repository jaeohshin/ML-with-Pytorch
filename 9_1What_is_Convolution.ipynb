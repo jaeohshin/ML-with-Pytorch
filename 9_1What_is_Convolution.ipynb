{
  "cells": [
    {
      "cell_type": "markdown",
      "metadata": {
        "id": "view-in-github",
        "colab_type": "text"
      },
      "source": [
        "<a href=\"https://colab.research.google.com/github/jaeohshin/pytorch/blob/main/9_1What_is_Convolution.ipynb\" target=\"_parent\"><img src=\"https://colab.research.google.com/assets/colab-badge.svg\" alt=\"Open In Colab\"/></a>"
      ]
    },
    {
      "cell_type": "markdown",
      "metadata": {
        "id": "FIDiR_akjEnk"
      },
      "source": [
        "<p style=\"text-align:center\">\n",
        "    <a href=\"https://skills.network/?utm_medium=Exinfluencer&utm_source=Exinfluencer&utm_content=000026UJ&utm_term=10006555&utm_id=NA-SkillsNetwork-Channel-SkillsNetworkCoursesIBMDeveloperSkillsNetworkDL0110ENSkillsNetwork952-2022-01-01\" target=\"_blank\">\n",
        "    <img src=\"https://cf-courses-data.s3.us.cloud-object-storage.appdomain.cloud/assets/logos/SN_web_lightmode.png\" width=\"200\" alt=\"Skills Network Logo\"  />\n",
        "    </a>\n",
        "</p>\n"
      ]
    },
    {
      "cell_type": "markdown",
      "metadata": {
        "id": "L1uTdCkajEno"
      },
      "source": [
        "\n",
        "<h3>Objective for this Notebook<h3>    \n",
        "<h5> 1. Learn about Convolution.</h5>\n",
        "<h5> 2. Leran Determining  the Size of Output. </h5>\n",
        "<h5> 3. Learn Stride, Zero Padding</h5>   \n",
        "\n"
      ]
    },
    {
      "cell_type": "markdown",
      "metadata": {
        "id": "YExiveQCjEno"
      },
      "source": [
        "\n",
        "# Table of Contents\n",
        "In this lab, you will study convolution and review how the different operations change the relationship between input and output.\n",
        "\n",
        "<div class=\"alert alert-block alert-info\" style=\"margin-top: 20px\">\n",
        "<li><a href=\"#ref0\">What is Convolution  </a></li>\n",
        "\n",
        "<li><a href=\"#ref1\">Determining  the Size of Output</a></li>\n",
        "<li><a href=\"#ref2\">Stride</a></li>\n",
        "<li><a href=\"#ref3\">Zero Padding </a></li>\n",
        "<li><a href=\"#ref4\">Practice Questions </a></li>\n",
        "\n",
        "<br>\n",
        "<p></p>\n",
        "Estimated Time Needed: <strong>25 min</strong>\n",
        "</div>\n",
        "\n",
        "<hr>\n"
      ]
    },
    {
      "cell_type": "markdown",
      "metadata": {
        "id": "RSt43_MIjEnp"
      },
      "source": [
        "Import the following libraries: \n"
      ]
    },
    {
      "cell_type": "code",
      "execution_count": null,
      "metadata": {
        "id": "q9kp6D5qjEnq"
      },
      "outputs": [],
      "source": [
        "import torch \n",
        "import torch.nn as nn\n",
        "import matplotlib.pyplot as plt\n",
        "import numpy as np\n",
        "from scipy import ndimage, misc"
      ]
    },
    {
      "cell_type": "markdown",
      "metadata": {
        "id": "4sLJU-7yjEnq"
      },
      "source": [
        "<a id=\"ref0\"></a>\n",
        "<h2 align=center>What is Convolution?</h2>\n"
      ]
    },
    {
      "cell_type": "markdown",
      "metadata": {
        "id": "px49_FHIjEnq"
      },
      "source": [
        "Convolution is a linear operation similar to a linear equation, dot product, or matrix multiplication. Convolution has several advantages for analyzing images. As discussed in the video, convolution preserves the relationship between elements, and it requires fewer parameters than other methods.  \n"
      ]
    },
    {
      "cell_type": "markdown",
      "metadata": {
        "id": "_uqOWoXJjEnr"
      },
      "source": [
        "You can see the relationship between the different methods that you learned:\n",
        "\n",
        "$$linear \\ equation :y=wx+b$$\n",
        "$$linear\\ equation\\ with\\ multiple \\ variables \\ where \\ \\mathbf{x} \\ is \\ a \\ vector \\ \\mathbf{y}=\\mathbf{wx}+b$$\n",
        "$$ \\ matrix\\ multiplication \\ where \\ \\mathbf{X} \\ in \\ a \\ matrix \\ \\mathbf{y}=\\mathbf{wX}+\\mathbf{b} $$\n",
        "$$\\ convolution \\ where \\ \\mathbf{X} \\ and \\ \\mathbf{Y} \\ is \\ a \\ tensor \\  \\mathbf{Y}=\\mathbf{w}*\\mathbf{X}+\\mathbf{b}$$\n"
      ]
    },
    {
      "cell_type": "markdown",
      "metadata": {
        "id": "yZWJZNaHjEnr"
      },
      "source": [
        "In convolution, the parameter <b>w</b> is called a kernel. You can perform convolution on images where you let the variable image denote the variable X and w denote the parameter.\n"
      ]
    },
    {
      "cell_type": "markdown",
      "metadata": {
        "id": "8IFfjtFDjEnr"
      },
      "source": [
        "<img src=\"https://s3-api.us-geo.objectstorage.softlayer.net/cf-courses-data/CognitiveClass/DL0110EN/notebook_images%20/chapter%206/6.1.1xw.png\" width=\"500,\" align=\"center\">\n"
      ]
    },
    {
      "cell_type": "markdown",
      "metadata": {
        "id": "q5mVCypejEns"
      },
      "source": [
        "Create a two-dimensional convolution object by using the constructor Conv2d, the parameter <code>in_channels</code> and <code>out_channels</code> will be used for this section, and the parameter kernel_size will be three.\n"
      ]
    },
    {
      "cell_type": "code",
      "execution_count": null,
      "metadata": {
        "id": "g28MrRsyjEns"
      },
      "outputs": [],
      "source": [
        "conv = nn.Conv2d(in_channels=1, out_channels=1,kernel_size=3)\n",
        "conv"
      ]
    },
    {
      "cell_type": "markdown",
      "metadata": {
        "id": "Eub6OwirjEns"
      },
      "source": [
        "Because the parameters in <code>nn.Conv2d</code> are randomly initialized and learned through training, give them some values.\n"
      ]
    },
    {
      "cell_type": "code",
      "execution_count": null,
      "metadata": {
        "id": "XATBxLi4jEns"
      },
      "outputs": [],
      "source": [
        "conv.state_dict()['weight'][0][0]=torch.tensor([[1.0,0,-1.0],[2.0,0,-2.0],[1.0,0.0,-1.0]])\n",
        "conv.state_dict()['bias'][0]=0.0\n",
        "conv.state_dict()"
      ]
    },
    {
      "cell_type": "markdown",
      "metadata": {
        "id": "ZwqZQJN2jEnt"
      },
      "source": [
        "Create a dummy tensor to represent an image. The shape of the image is (1,1,5,5) where:\n",
        "\n",
        "(number of inputs, number of channels, number of rows, number of columns ) \n",
        "\n",
        "Set the third column to 1:\n"
      ]
    },
    {
      "cell_type": "code",
      "execution_count": null,
      "metadata": {
        "id": "RuSulNvTjEnt"
      },
      "outputs": [],
      "source": [
        "image=torch.zeros(1,1,5,5)\n",
        "image[0,0,:,2]=1\n",
        "image"
      ]
    },
    {
      "cell_type": "markdown",
      "metadata": {
        "id": "qI5MUaCsjEnt"
      },
      "source": [
        "Call the object <code>conv</code> on the tensor <code>image</code> as an input to perform the convolution and assign the result to the tensor <code>z</code>. \n"
      ]
    },
    {
      "cell_type": "code",
      "execution_count": null,
      "metadata": {
        "id": "xrVqy_nbjEnt"
      },
      "outputs": [],
      "source": [
        "z=conv(image)\n",
        "z"
      ]
    },
    {
      "cell_type": "markdown",
      "metadata": {
        "id": "Y-1FczUfjEnt"
      },
      "source": [
        "The following animation illustrates the process, the kernel performs at the element-level multiplication on every element in the image in the corresponding region. The values are then added together. The kernel is then shifted and the process is repeated. \n"
      ]
    },
    {
      "cell_type": "markdown",
      "metadata": {
        "id": "oVsQtdfojEnu"
      },
      "source": [
        "<img src=\"https://s3-api.us-geo.objectstorage.softlayer.net/cf-courses-data/CognitiveClass/DL0110EN/notebook_images%20/chapter%206/6.1.1convltuon.gif\" width=\"500,\" align=\"center\">\n"
      ]
    },
    {
      "cell_type": "markdown",
      "metadata": {
        "id": "zX8tJqgBjEnu"
      },
      "source": [
        "\n",
        "<a id=\"ref1\"></a>\n",
        "<h2 align=center>Determining  the Size of the Output</h2>\n"
      ]
    },
    {
      "cell_type": "markdown",
      "metadata": {
        "id": "ISSSj-RJjEnu"
      },
      "source": [
        "The size of the output is an important parameter. In this lab, you will assume square images. For rectangular images, the same formula can be used in for each dimension independently.  \n",
        "\n",
        "Let M be the size of the input and K be the size of the kernel. The size of the output is given by the following formula:\n"
      ]
    },
    {
      "cell_type": "markdown",
      "metadata": {
        "id": "f5-8v55IjEnu"
      },
      "source": [
        "$$M_{new}=M-K+1$$\n"
      ]
    },
    {
      "cell_type": "markdown",
      "metadata": {
        "id": "w8oPdr5QjEnv"
      },
      "source": [
        "Create a kernel of size 2:\n"
      ]
    },
    {
      "cell_type": "code",
      "execution_count": null,
      "metadata": {
        "id": "4qvarwHrjEnv"
      },
      "outputs": [],
      "source": [
        "K=2\n",
        "conv1 = nn.Conv2d(in_channels=1, out_channels=1,kernel_size=K)\n",
        "conv1.state_dict()['weight'][0][0]=torch.tensor([[1.0,1.0],[1.0,1.0]])\n",
        "conv1.state_dict()['bias'][0]=0.0\n",
        "conv1.state_dict()\n",
        "conv1"
      ]
    },
    {
      "cell_type": "markdown",
      "metadata": {
        "id": "Q7VwqBytjEnv"
      },
      "source": [
        "Create an image of size 2:\n"
      ]
    },
    {
      "cell_type": "code",
      "execution_count": null,
      "metadata": {
        "id": "8_WMOh7PjEnv"
      },
      "outputs": [],
      "source": [
        "M=4\n",
        "image1=torch.ones(1,1,M,M)"
      ]
    },
    {
      "cell_type": "markdown",
      "metadata": {
        "id": "wyOH246pjEnv"
      },
      "source": [
        "<img src=\"https://s3-api.us-geo.objectstorage.softlayer.net/cf-courses-data/CognitiveClass/DL0110EN/notebook_images%20/chapter%206/6.1.1kernal2.png\" width=\"500,\" align=\"center\">\n"
      ]
    },
    {
      "cell_type": "markdown",
      "metadata": {
        "id": "oQ2P9xMOjEnw"
      },
      "source": [
        "The following equation provides the output:\n"
      ]
    },
    {
      "cell_type": "markdown",
      "metadata": {
        "id": "mQIb6v6DjEnw"
      },
      "source": [
        "$$M_{new}=M-K+1$$\n",
        "$$M_{new}=4-2+1$$\n",
        "$$M_{new}=3$$\n"
      ]
    },
    {
      "cell_type": "markdown",
      "metadata": {
        "id": "d9cZk3TyjEnw"
      },
      "source": [
        "The following animation illustrates the process: The first iteration of the kernel overlay of the images produces one output. As the kernel is of size K, there are M-K  elements for the kernel to move in the horizontal direction. The same logic applies to the vertical direction.  \n"
      ]
    },
    {
      "cell_type": "markdown",
      "metadata": {
        "id": "gs1hXJvJjEnw"
      },
      "source": [
        "<img src=\"https://s3-api.us-geo.objectstorage.softlayer.net/cf-courses-data/CognitiveClass/DL0110EN/notebook_images%20/chapter%206/6.1.1outsize.gif\" width=\"500,\" align=\"center\">\n"
      ]
    },
    {
      "cell_type": "markdown",
      "metadata": {
        "id": "XE_DG594jEnw"
      },
      "source": [
        "Perform the convolution and verify the size is correct:\n"
      ]
    },
    {
      "cell_type": "code",
      "execution_count": null,
      "metadata": {
        "id": "8NY-DehyjEnw"
      },
      "outputs": [],
      "source": [
        "z1=conv1(image1)\n",
        "print(\"z1:\",z1)\n",
        "print(\"shape:\",z1.shape[2:4])"
      ]
    },
    {
      "cell_type": "markdown",
      "metadata": {
        "id": "gS7TR81ujEnx"
      },
      "source": [
        "<a id=\"ref2\"></a>\n",
        "<h2 align=center>Stride parameter</h2>\n"
      ]
    },
    {
      "cell_type": "markdown",
      "metadata": {
        "id": "YdnTfdCYjEnx"
      },
      "source": [
        "The parameter stride changes the number of shifts the kernel moves per iteration. As a result, the output size also changes and is given by the following formula:\n"
      ]
    },
    {
      "cell_type": "markdown",
      "metadata": {
        "id": "Z_Y1GtOijEnx"
      },
      "source": [
        "$$M_{new}=\\dfrac{M-K}{stride}+1$$\n"
      ]
    },
    {
      "cell_type": "markdown",
      "metadata": {
        "id": "y9k-MlE8jEnx"
      },
      "source": [
        "Create a convolution object with a stride of 2:\n"
      ]
    },
    {
      "cell_type": "code",
      "execution_count": null,
      "metadata": {
        "id": "EqmXtv-BjEnx"
      },
      "outputs": [],
      "source": [
        "conv3 = nn.Conv2d(in_channels=1, out_channels=1,kernel_size=2,stride=2)\n",
        "\n",
        "conv3.state_dict()['weight'][0][0]=torch.tensor([[1.0,1.0],[1.0,1.0]])\n",
        "conv3.state_dict()['bias'][0]=0.0\n",
        "conv3.state_dict()"
      ]
    },
    {
      "cell_type": "markdown",
      "metadata": {
        "id": "S7FvCfrVjEny"
      },
      "source": [
        "For an image with a size of 4, calculate the output size:\n"
      ]
    },
    {
      "cell_type": "markdown",
      "metadata": {
        "id": "WvJVHep4jEny"
      },
      "source": [
        "$$M_{new}=\\dfrac{M-K}{stride}+1$$\n",
        "$$M_{new}=\\dfrac{4-2}{2}+1$$\n",
        "$$M_{new}=2$$\n"
      ]
    },
    {
      "cell_type": "markdown",
      "metadata": {
        "id": "HJujWVfjjEny"
      },
      "source": [
        "The following animation illustrates the process: The first iteration of the kernel overlay of the images produces one output. Because the kernel is of size K, there are M-K=2 elements. The stride is 2 because it will move 2 elements at a time. As a result, you divide M-K by the stride value 2:\n"
      ]
    },
    {
      "cell_type": "markdown",
      "metadata": {
        "id": "Kaar1MdvjEny"
      },
      "source": [
        "<img src=\"https://s3-api.us-geo.objectstorage.softlayer.net/cf-courses-data/CognitiveClass/DL0110EN/notebook_images%20/chapter%206/6.1.1stride2.gif\" width=\"500,\" align=\"center\">\n"
      ]
    },
    {
      "cell_type": "markdown",
      "metadata": {
        "id": "siz3QorQjEny"
      },
      "source": [
        "Perform the convolution and verify the size is correct: \n"
      ]
    },
    {
      "cell_type": "code",
      "execution_count": null,
      "metadata": {
        "id": "mrkqI9vgjEny"
      },
      "outputs": [],
      "source": [
        "z3=conv3(image1)\n",
        "\n",
        "print(\"z3:\",z3)\n",
        "print(\"shape:\",z3.shape[2:4])"
      ]
    },
    {
      "cell_type": "markdown",
      "metadata": {
        "id": "NISzvoqojEnz"
      },
      "source": [
        "<a id='ref3'></a>\n",
        "<h2 align=center>Zero Padding </h2>\n"
      ]
    },
    {
      "cell_type": "markdown",
      "metadata": {
        "id": "Zse33P6fjEnz"
      },
      "source": [
        "As you apply successive convolutions, the image will shrink. You can apply zero padding to keep the image at a reasonable size, which also holds information at the borders.\n"
      ]
    },
    {
      "cell_type": "markdown",
      "metadata": {
        "id": "98YSuyvOjEnz"
      },
      "source": [
        "In addition, you might not get integer values for the size of the kernel. Consider the following image:\n"
      ]
    },
    {
      "cell_type": "code",
      "execution_count": null,
      "metadata": {
        "id": "4mKIHMj4jEnz"
      },
      "outputs": [],
      "source": [
        "image1"
      ]
    },
    {
      "cell_type": "markdown",
      "metadata": {
        "id": "HfME53gGjEnz"
      },
      "source": [
        "Try performing convolutions with the <code>kernel_size=2</code> and a <code>stride=3</code>. Use these values:\n",
        "\n",
        "$$M_{new}=\\dfrac{M-K}{stride}+1$$\n",
        "$$M_{new}=\\dfrac{4-2}{3}+1$$\n",
        "$$M_{new}=1.666$$\n"
      ]
    },
    {
      "cell_type": "code",
      "execution_count": null,
      "metadata": {
        "id": "fP7I_jk6jEn0"
      },
      "outputs": [],
      "source": [
        "conv4 = nn.Conv2d(in_channels=1, out_channels=1,kernel_size=2,stride=3)\n",
        "conv4.state_dict()['weight'][0][0]=torch.tensor([[1.0,1.0],[1.0,1.0]])\n",
        "conv4.state_dict()['bias'][0]=0.0\n",
        "conv4.state_dict()\n",
        "z4=conv4(image1)\n",
        "print(\"z4:\",z4)\n",
        "print(\"z4:\",z4.shape[2:4])"
      ]
    },
    {
      "cell_type": "markdown",
      "metadata": {
        "id": "4mXW_HU-jEn0"
      },
      "source": [
        "You can add rows and columns of zeros around the image. This is called padding. In the constructor <code>Conv2d</code>, you specify the number of rows or columns of zeros that you want to add with the parameter padding. \n",
        "\n",
        "For a square image, you merely pad an extra column of zeros to the first column and the last column. Repeat the process for the rows. As a result, for a square image, the width and height is the original size plus 2 x the number of padding elements specified. You can then determine the size of the output after subsequent operations accordingly as shown in the following equation where you determine the size of an image after padding and then applying a convolutions kernel of size K.\n"
      ]
    },
    {
      "cell_type": "markdown",
      "metadata": {
        "id": "JcGT9VTjjEn0"
      },
      "source": [
        "$$M'=M+2 \\times padding$$\n",
        "$$M_{new}=M'-K+1$$\n"
      ]
    },
    {
      "cell_type": "markdown",
      "metadata": {
        "id": "2JW_J0NJjEn0"
      },
      "source": [
        "Consider the following example:\n"
      ]
    },
    {
      "cell_type": "code",
      "execution_count": null,
      "metadata": {
        "id": "pn3hpEYgjEn0"
      },
      "outputs": [],
      "source": [
        "conv5 = nn.Conv2d(in_channels=1, out_channels=1,kernel_size=2,stride=3,padding=1)\n",
        "\n",
        "conv5.state_dict()['weight'][0][0]=torch.tensor([[1.0,1.0],[1.0,1.0]])\n",
        "conv5.state_dict()['bias'][0]=0.0\n",
        "conv5.state_dict()\n",
        "z5=conv5(image1)\n",
        "print(\"z5:\",z5)\n",
        "print(\"z5:\",z4.shape[2:4])"
      ]
    },
    {
      "cell_type": "code",
      "execution_count": null,
      "metadata": {
        "id": "JbGBX6RcjEn0"
      },
      "outputs": [],
      "source": []
    },
    {
      "cell_type": "markdown",
      "metadata": {
        "id": "mkLIDLXSjEn1"
      },
      "source": [
        "The process is summarized in the following  animation: \n"
      ]
    },
    {
      "cell_type": "markdown",
      "metadata": {
        "id": "9XVFXRZajEn1"
      },
      "source": [
        "<img src=\"https://s3-api.us-geo.objectstorage.softlayer.net/cf-courses-data/CognitiveClass/DL0110EN/notebook_images%20/chapter%206/6.1.1zeropad.gif\" width=\"500,\" align=\"center\">\n"
      ]
    },
    {
      "cell_type": "markdown",
      "metadata": {
        "id": "BSTala9OjEn1"
      },
      "source": [
        "<a id='ref4'></a>\n",
        "<h2 align=center>Practice Question </h2>\n"
      ]
    },
    {
      "cell_type": "markdown",
      "metadata": {
        "id": "r8HUr5g5jEn1"
      },
      "source": [
        " A kernel of zeros with a kernel size=3  is applied to the following image: \n"
      ]
    },
    {
      "cell_type": "code",
      "execution_count": null,
      "metadata": {
        "id": "GVi2Y410jEn1"
      },
      "outputs": [],
      "source": [
        "Image=torch.randn((1,1,4,4))\n",
        "Image"
      ]
    },
    {
      "cell_type": "markdown",
      "metadata": {
        "id": "qJtKfNdpjEn1"
      },
      "source": [
        "Question: Without using the function, determine what the outputs values are as each element:\n"
      ]
    },
    {
      "cell_type": "markdown",
      "metadata": {
        "id": "8cSaUouFjEn1"
      },
      "source": [
        "Double-click __here__ for the solution.\n",
        "\n",
        "<!-- Your answer is below:\n",
        "As each element of the kernel is zero, and for every  output, the image is multiplied  by the  kernel, the result is always zero \n",
        "\n",
        "-->\n"
      ]
    },
    {
      "cell_type": "markdown",
      "metadata": {
        "id": "SqzXuJIajEn2"
      },
      "source": [
        "Question: Use the following convolution object to perform convolution on the tensor   <code>Image</code>:\n"
      ]
    },
    {
      "cell_type": "code",
      "execution_count": null,
      "metadata": {
        "id": "HlbAzH6TjEn2"
      },
      "outputs": [],
      "source": [
        "conv = nn.Conv2d(in_channels=1, out_channels=1,kernel_size=3)\n",
        "conv.state_dict()['weight'][0][0]=torch.tensor([[0,0,0],[0,0,0],[0,0.0,0]])\n",
        "conv.state_dict()['bias'][0]=0.0"
      ]
    },
    {
      "cell_type": "markdown",
      "metadata": {
        "id": "pH6LGeZMjEn2"
      },
      "source": [
        "Double-click __here__ for the solution.\n",
        "<!-- Your answer is below:\n",
        "conv(Image)\n",
        "-->\n"
      ]
    },
    {
      "cell_type": "markdown",
      "metadata": {
        "id": "HfpbKUNtjEn2"
      },
      "source": [
        "Question: You have an image of size 4. The parameters are as follows  kernel_size=2,stride=2. What is the size of the output?\n"
      ]
    },
    {
      "cell_type": "code",
      "execution_count": null,
      "metadata": {
        "id": "IW22CqwEjEn2"
      },
      "outputs": [],
      "source": []
    },
    {
      "cell_type": "markdown",
      "metadata": {
        "id": "C5O6lLhrjEn2"
      },
      "source": [
        "Double-click __here__ for the solution.\n",
        "\n",
        "<!-- Your answer is below:\n",
        "(M-K)/stride +1\n",
        "(4-2)/2 +1\n",
        "2\n",
        "-->\n"
      ]
    },
    {
      "cell_type": "markdown",
      "metadata": {
        "id": "QiE7EMs7jEn3"
      },
      "source": [
        "\n",
        "<a href=\"https://dataplatform.cloud.ibm.com/registration/stepone?utm_medium=Exinfluencer&utm_source=Exinfluencer&utm_content=000026UJ&utm_term=10006555&utm_id=NA-SkillsNetwork-Channel-SkillsNetworkCoursesIBMDeveloperSkillsNetworkDL0110ENSkillsNetwork952-2022-01-01&context=cpdaas&apps=data_science_experience%2Cwatson_machine_learning\"><img src=\"https://cf-courses-data.s3.us.cloud-object-storage.appdomain.cloud/IBMDeveloperSkillsNetwork-DL0110EN-SkillsNetwork/Template/module%201/images/Watson_Studio.png\"></a>\n"
      ]
    },
    {
      "cell_type": "markdown",
      "metadata": {
        "id": "UUAP_ZUrjEn3"
      },
      "source": [
        "### About the Authors:  \n",
        "[Joseph Santarcangelo](https://www.linkedin.com/in/joseph-s-50398b136/?utm_medium=Exinfluencer&utm_source=Exinfluencer&utm_content=000026UJ&utm_term=10006555&utm_id=NA-SkillsNetwork-Channel-SkillsNetworkCoursesIBMDeveloperSkillsNetworkDL0110ENSkillsNetwork952-2022-01-01) has a PhD in Electrical Engineering. His research focused on using machine learning, signal processing, and computer vision to determine how videos impact human cognition. \n",
        "\n",
        "Other contributors: [Michelle Carey](https://www.linkedin.com/in/michelleccarey/?utm_medium=Exinfluencer&utm_source=Exinfluencer&utm_content=000026UJ&utm_term=10006555&utm_id=NA-SkillsNetwork-Channel-SkillsNetworkCoursesIBMDeveloperSkillsNetworkDL0110ENSkillsNetwork952-2022-01-01), [Mavis Zhou](https://www.linkedin.com/in/jiahui-mavis-zhou-a4537814a/?utm_medium=Exinfluencer&utm_source=Exinfluencer&utm_content=000026UJ&utm_term=10006555&utm_id=NA-SkillsNetwork-Channel-SkillsNetworkCoursesIBMDeveloperSkillsNetworkDL0110ENSkillsNetwork952-2022-01-01) \n"
      ]
    },
    {
      "cell_type": "markdown",
      "metadata": {
        "id": "LyJebvXkjEn3"
      },
      "source": [
        "\n",
        "## Change Log\n",
        "\n",
        "|  Date (YYYY-MM-DD) |  Version | Changed By  |  Change Description |\n",
        "|---|---|---|---|\n",
        "| 2020-09-23  | 2.0  | Srishti  |  Migrated Lab to Markdown and added to course repo in GitLab |\n",
        "\n",
        "\n",
        "\n",
        "<hr>\n",
        "\n",
        "## <h3 align=\"center\"> © IBM Corporation 2020. All rights reserved. <h3/>\n"
      ]
    }
  ],
  "metadata": {
    "kernelspec": {
      "display_name": "Python",
      "language": "python",
      "name": "conda-env-python-py"
    },
    "language_info": {
      "name": ""
    },
    "colab": {
      "provenance": [],
      "include_colab_link": true
    }
  },
  "nbformat": 4,
  "nbformat_minor": 0
}