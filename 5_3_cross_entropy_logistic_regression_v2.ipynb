{
  "cells": [
    {
      "cell_type": "markdown",
      "metadata": {
        "id": "view-in-github",
        "colab_type": "text"
      },
      "source": [
        "<a href=\"https://colab.research.google.com/github/jaeohshin/pytorch/blob/main/5_3_cross_entropy_logistic_regression_v2.ipynb\" target=\"_parent\"><img src=\"https://colab.research.google.com/assets/colab-badge.svg\" alt=\"Open In Colab\"/></a>"
      ]
    },
    {
      "cell_type": "markdown",
      "metadata": {
        "id": "66ac1713-66ec-419d-96bf-e077c79be564"
      },
      "source": [
        "<p style=\"text-align:center\">\n",
        "    <a href=\"https://skills.network/?utm_medium=Exinfluencer&utm_source=Exinfluencer&utm_content=000026UJ&utm_term=10006555&utm_id=NA-SkillsNetwork-Channel-SkillsNetworkCoursesIBMDeveloperSkillsNetworkDL0110ENSkillsNetwork952-2022-01-01\" target=\"_blank\">\n",
        "    <img src=\"https://cf-courses-data.s3.us.cloud-object-storage.appdomain.cloud/assets/logos/SN_web_lightmode.png\" width=\"200\" alt=\"Skills Network Logo\"  />\n",
        "    </a>\n",
        "</p>\n"
      ]
    },
    {
      "cell_type": "markdown",
      "metadata": {
        "id": "13456174-4335-44dc-b417-89525cbd63eb"
      },
      "source": [
        "<h1>Logistic Regression Training Negative Log likelihood (Cross-Entropy)</h1> \n"
      ]
    },
    {
      "cell_type": "markdown",
      "metadata": {
        "id": "d0ae5668-9928-4072-bead-ee62c6f55cda"
      },
      "source": [
        "<h2>Objective</h2><ul><li> How Cross-Entropy using random initialization influence the accuracy of the model.</li></ul> \n"
      ]
    },
    {
      "cell_type": "markdown",
      "metadata": {
        "id": "b579e43c-28ac-41d6-bd6d-8a9b0748fa02"
      },
      "source": [
        "<h2>Table of Contents</h2>\n",
        "<p>In this lab, you will see what happens when you use the Cross-Entropy or total loss function using random initialization for a parameter value.</p>\n",
        "\n",
        "<ul>\n",
        "    <li><a href=\"#Makeup_Data\">Make Some Data</a></li>\n",
        "    <li><a href=\"#Model_Cost\">Create the Model and Cost Function the PyTorch way </a></li>\n",
        "    <li><a href=\"#BGD\">Train the Model: Batch Gradient Descent</a></li>\n",
        "</ul>\n",
        "<p>Estimated Time Needed: <strong>30 min</strong></p>\n",
        "\n",
        "<hr>\n"
      ]
    },
    {
      "cell_type": "markdown",
      "metadata": {
        "id": "e4a465ad-0099-4027-8544-7f1474f65da9"
      },
      "source": [
        "<h2>Preparation</h2>\n"
      ]
    },
    {
      "cell_type": "markdown",
      "metadata": {
        "id": "c10f6f25-4574-4fad-9781-2c977f788c16"
      },
      "source": [
        "We'll need the following libraries:\n"
      ]
    },
    {
      "cell_type": "code",
      "metadata": {
        "id": "40f5b9e2-403d-4c4e-8b0e-4b2996982637"
      },
      "outputs": [],
      "source": [
        "# Import the libraries we need for this lab\n",
        "\n",
        "import numpy as np\n",
        "import matplotlib.pyplot as plt \n",
        "from mpl_toolkits import mplot3d\n",
        "import torch\n",
        "from torch.utils.data import Dataset, DataLoader\n",
        "import torch.nn as nn"
      ],
      "execution_count": 2
    },
    {
      "cell_type": "markdown",
      "metadata": {
        "id": "b79f1e91-e84d-49d1-a183-87e04dc23d00"
      },
      "source": [
        "The class <code>plot_error_surfaces</code> is just to help you visualize the data space and the parameter space during training and has nothing to do with Pytorch. \n"
      ]
    },
    {
      "cell_type": "code",
      "metadata": {
        "id": "d4891894-2519-46db-ae96-c963e3127361"
      },
      "outputs": [],
      "source": [
        "# Create class for plotting and the function for plotting\n",
        "\n",
        "class plot_error_surfaces(object):\n",
        "    \n",
        "    # Construstor\n",
        "    def __init__(self, w_range, b_range, X, Y, n_samples = 30, go = True):\n",
        "        W = np.linspace(-w_range, w_range, n_samples)\n",
        "        B = np.linspace(-b_range, b_range, n_samples)\n",
        "        w, b = np.meshgrid(W, B)    \n",
        "        Z = np.zeros((30, 30))\n",
        "        count1 = 0\n",
        "        self.y = Y.numpy()\n",
        "        self.x = X.numpy()\n",
        "        for w1, b1 in zip(w, b):\n",
        "            count2 = 0\n",
        "            for w2, b2 in zip(w1, b1):\n",
        "                yhat= 1 / (1 + np.exp(-1*(w2*self.x+b2)))\n",
        "                Z[count1,count2]=-1*np.mean(self.y*np.log(yhat+1e-16) +(1-self.y)*np.log(1-yhat+1e-16))\n",
        "                count2 += 1   \n",
        "            count1 += 1\n",
        "        self.Z = Z\n",
        "        self.w = w\n",
        "        self.b = b\n",
        "        self.W = []\n",
        "        self.B = []\n",
        "        self.LOSS = []\n",
        "        self.n = 0\n",
        "        if go == True:\n",
        "            plt.figure()\n",
        "            plt.figure(figsize=(7.5, 5))\n",
        "            plt.axes(projection='3d').plot_surface(self.w, self.b, self.Z, rstride=1, cstride=1, cmap='viridis', edgecolor='none')\n",
        "            plt.title('Loss Surface')\n",
        "            plt.xlabel('w')\n",
        "            plt.ylabel('b')\n",
        "            plt.show()\n",
        "            plt.figure()\n",
        "            plt.title('Loss Surface Contour')\n",
        "            plt.xlabel('w')\n",
        "            plt.ylabel('b')\n",
        "            plt.contour(self.w, self.b, self.Z)\n",
        "            plt.show()\n",
        "            \n",
        "     # Setter\n",
        "    def set_para_loss(self, model, loss):\n",
        "        self.n = self.n + 1\n",
        "        self.W.append(list(model.parameters())[0].item())\n",
        "        self.B.append(list(model.parameters())[1].item())\n",
        "        self.LOSS.append(loss)\n",
        "    \n",
        "    # Plot diagram\n",
        "    def final_plot(self): \n",
        "        ax = plt.axes(projection='3d')\n",
        "        ax.plot_wireframe(self.w, self.b, self.Z)\n",
        "        ax.scatter(self.W, self.B, self.LOSS, c='r', marker='x', s=200, alpha=1)\n",
        "        plt.figure()\n",
        "        plt.contour(self.w, self.b, self.Z)\n",
        "        plt.scatter(self.W, self.B, c='r', marker='x')\n",
        "        plt.xlabel('w')\n",
        "        plt.ylabel('b')\n",
        "        plt.show()\n",
        "        \n",
        "    # Plot diagram\n",
        "    def plot_ps(self):\n",
        "        plt.subplot(121)\n",
        "        plt.ylim\n",
        "        plt.plot(self.x, self.y, 'ro', label=\"training points\")\n",
        "        plt.plot(self.x, self.W[-1] * self.x + self.B[-1], label=\"estimated line\")\n",
        "        plt.plot(self.x, 1 / (1 + np.exp(-1 * (self.W[-1] * self.x + self.B[-1]))), label='sigmoid')\n",
        "        plt.xlabel('x')\n",
        "        plt.ylabel('y')\n",
        "        plt.ylim((-0.1, 2))\n",
        "        plt.title('Data Space Iteration: ' + str(self.n))\n",
        "        plt.show()\n",
        "        plt.subplot(122)\n",
        "        plt.contour(self.w, self.b, self.Z)\n",
        "        plt.scatter(self.W, self.B, c='r', marker='x')\n",
        "        plt.title('Loss Surface Contour Iteration' + str(self.n))\n",
        "        plt.xlabel('w')\n",
        "        plt.ylabel('b')\n",
        "        \n",
        "# Plot the diagram\n",
        "\n",
        "def PlotStuff(X, Y, model, epoch, leg=True):\n",
        "    plt.plot(X.numpy(), model(X).detach().numpy(), label=('epoch ' + str(epoch)))\n",
        "    plt.plot(X.numpy(), Y.numpy(), 'r')\n",
        "    if leg == True:\n",
        "        plt.legend()\n",
        "    else:\n",
        "        pass"
      ],
      "execution_count": 3
    },
    {
      "cell_type": "markdown",
      "metadata": {
        "id": "06888a18-4a07-4307-ab1a-507cdfb3d234"
      },
      "source": [
        "Set the random seed:\n"
      ]
    },
    {
      "cell_type": "code",
      "metadata": {
        "colab": {
          "base_uri": "https://localhost:8080/"
        },
        "id": "9ff8e261-3999-425e-8c82-d4cd6e8f8082",
        "outputId": "3633af12-c8e5-46da-f2ab-f80bf7582d21"
      },
      "outputs": [
        {
          "output_type": "execute_result",
          "data": {
            "text/plain": [
              "<torch._C.Generator at 0x7f22846f5bd0>"
            ]
          },
          "metadata": {},
          "execution_count": 4
        }
      ],
      "source": [
        "# Set random seed\n",
        "\n",
        "torch.manual_seed(0)"
      ],
      "execution_count": 4
    },
    {
      "cell_type": "markdown",
      "metadata": {
        "id": "7a95adec-1b44-4063-97ad-51e8399051f2"
      },
      "source": [
        "<!--Empty Space for separating topics-->\n"
      ]
    },
    {
      "cell_type": "markdown",
      "metadata": {
        "id": "7fb420c1-0a45-4e35-b788-6f15d9fff4b8"
      },
      "source": [
        "<h2 id=\"Makeup_Data\">Get Some Data</h2>\n"
      ]
    },
    {
      "cell_type": "code",
      "metadata": {
        "id": "ae9ffdff-7325-470d-aec0-4eac59d2dbc1"
      },
      "outputs": [],
      "source": [
        "# Create the data class\n",
        "\n",
        "class Data(Dataset):\n",
        "    \n",
        "    # Constructor\n",
        "    def __init__(self):\n",
        "        self.x = torch.arange(-1, 1, 0.1).view(-1, 1)\n",
        "        self.y = torch.zeros(self.x.shape[0], 1)\n",
        "        self.y[self.x[:, 0] > 0.2] = 1\n",
        "        self.len = self.x.shape[0]\n",
        "    \n",
        "    # Getter\n",
        "    def __getitem__(self, index):      \n",
        "        return self.x[index], self.y[index]\n",
        "    \n",
        "    # Get length\n",
        "    def __len__(self):\n",
        "        return self.len"
      ],
      "execution_count": 5
    },
    {
      "cell_type": "markdown",
      "metadata": {
        "id": "a8652d49-e287-429d-92d9-26e468c705a0"
      },
      "source": [
        "Make <code>Data</code> object\n"
      ]
    },
    {
      "cell_type": "code",
      "metadata": {
        "id": "d5ca4aed-27db-4bb5-934c-250af78248d9"
      },
      "outputs": [],
      "source": [
        "# Create Data object\n",
        "\n",
        "data_set = Data()"
      ],
      "execution_count": 6
    },
    {
      "cell_type": "markdown",
      "metadata": {
        "id": "65402a48-e9e5-4e01-8db8-f83b001674bd"
      },
      "source": [
        "<!--Empty Space for separating topics-->\n"
      ]
    },
    {
      "cell_type": "markdown",
      "metadata": {
        "id": "ea15206b-1d50-4874-bf69-c9b0dd7bd3dc"
      },
      "source": [
        "<h2 id=\"Model_Cost\">Create the Model and Total Loss Function (Cost)</h2>\n"
      ]
    },
    {
      "cell_type": "markdown",
      "metadata": {
        "id": "63f0a6d9-5c9d-4ded-83eb-9b0796546b7d"
      },
      "source": [
        "Create a custom module for logistic regression:\n"
      ]
    },
    {
      "cell_type": "code",
      "metadata": {
        "id": "9ffbf48c-2a54-4af3-a654-4873cbc4d649"
      },
      "outputs": [],
      "source": [
        "# Create logistic_regression class\n",
        "\n",
        "class logistic_regression(nn.Module):\n",
        "    \n",
        "    # Constructor\n",
        "    def __init__(self, n_inputs):\n",
        "        super(logistic_regression, self).__init__()\n",
        "        self.linear = nn.Linear(n_inputs, 1)\n",
        "        \n",
        "    # Prediction\n",
        "    def forward(self, x):\n",
        "        yhat = torch.sigmoid(self.linear(x))\n",
        "        return yhat"
      ],
      "execution_count": null
    },
    {
      "cell_type": "markdown",
      "metadata": {
        "id": "f4068d01-e918-4678-a0d3-12d716511d2e"
      },
      "source": [
        "Create a logistic regression object or model: \n"
      ]
    },
    {
      "cell_type": "code",
      "metadata": {
        "id": "2af832e6-1cac-4a32-a079-914ad7eb37f9"
      },
      "outputs": [],
      "source": [
        "# Create the logistic_regression result\n",
        "\n",
        "model = logistic_regression(1)"
      ],
      "execution_count": null
    },
    {
      "cell_type": "markdown",
      "metadata": {
        "id": "07bf6913-a4fc-4b9d-8dcc-eb6c89c11c7d"
      },
      "source": [
        "Replace the random initialized variable values. Theses random initialized variable values did convergence for the RMS Loss but will converge for the Cross-Entropy Loss.\n"
      ]
    },
    {
      "cell_type": "code",
      "metadata": {
        "id": "073e1c36-6aa5-4c55-b82e-756c7c09ba82"
      },
      "outputs": [],
      "source": [
        "# Set the weight and bias\n",
        "\n",
        "model.state_dict() ['linear.weight'].data[0] = torch.tensor([[-5]])\n",
        "model.state_dict() ['linear.bias'].data[0] = torch.tensor([[-10]])\n",
        "print(\"The parameters: \", model.state_dict())"
      ],
      "execution_count": null
    },
    {
      "cell_type": "markdown",
      "metadata": {
        "id": "f8d27ae0-fff1-4fb0-9718-ecb94a7808ae"
      },
      "source": [
        "Create a <code> plot_error_surfaces</code> object to visualize the data space and the parameter space during training:\n"
      ]
    },
    {
      "cell_type": "code",
      "metadata": {
        "id": "5ee80c59-480f-41a0-8686-98c078648cba"
      },
      "outputs": [],
      "source": [
        "# Create the plot_error_surfaces object\n",
        "\n",
        "get_surface = plot_error_surfaces(15, 13, data_set[:][0], data_set[:][1], 30)"
      ],
      "execution_count": null
    },
    {
      "cell_type": "markdown",
      "metadata": {
        "id": "83bf3723-fd90-4446-ba1a-9bb6fd3128dc"
      },
      "source": [
        "Define the cost or criterion function: \n"
      ]
    },
    {
      "cell_type": "code",
      "metadata": {
        "id": "b2910746-82e0-44ae-80f5-1b5cdf9f047b"
      },
      "outputs": [],
      "source": [
        "# Create dataloader, criterion function and optimizer\n",
        "\n",
        "def criterion(yhat,y):\n",
        "    out = -1 * torch.mean(y * torch.log(yhat) + (1 - y) * torch.log(1 - yhat))\n",
        "    return out\n",
        "\n",
        "# Build in criterion\n",
        "# criterion = nn.BCELoss()\n",
        "\n",
        "trainloader = DataLoader(dataset = data_set, batch_size = 3)\n",
        "learning_rate = 2\n",
        "optimizer = torch.optim.SGD(model.parameters(), lr = learning_rate)"
      ],
      "execution_count": null
    },
    {
      "cell_type": "markdown",
      "metadata": {
        "id": "f63e3315-e0d6-46d5-8c22-a586a1ea4f3b"
      },
      "source": [
        "<!--Empty Space for separating topics-->\n"
      ]
    },
    {
      "cell_type": "markdown",
      "metadata": {
        "id": "87b1e4b6-4598-478b-8aca-9f88cc52c0e7"
      },
      "source": [
        "<h2 id=\"BGD\">Train the Model via Batch Gradient Descent</h2>\n"
      ]
    },
    {
      "cell_type": "markdown",
      "metadata": {
        "id": "19a74ecd-4272-4259-9eda-4aac45ab2b7f"
      },
      "source": [
        "Train the model\n"
      ]
    },
    {
      "cell_type": "code",
      "metadata": {
        "id": "19237e94-5a99-4e24-8393-f26f7bdf908e"
      },
      "outputs": [],
      "source": [
        "# Train the Model\n",
        "\n",
        "def train_model(epochs):\n",
        "    for epoch in range(epochs):\n",
        "        for x, y in trainloader:\n",
        "            yhat = model(x)\n",
        "            loss = criterion(yhat, y)\n",
        "            optimizer.zero_grad()\n",
        "            loss.backward()\n",
        "            optimizer.step()\n",
        "            get_surface.set_para_loss(model, loss.tolist())\n",
        "        if epoch % 20 == 0:\n",
        "            get_surface.plot_ps()\n",
        "            \n",
        "train_model(100)"
      ],
      "execution_count": null
    },
    {
      "cell_type": "markdown",
      "metadata": {
        "id": "a4cec9c6-1c87-4070-8c5c-9687766b519b"
      },
      "source": [
        "Get the actual class of each sample and calculate the accuracy on the test data:\n"
      ]
    },
    {
      "cell_type": "code",
      "metadata": {
        "id": "4495f0c4-f254-4d85-a1ed-8f0a200a77e2"
      },
      "outputs": [],
      "source": [
        "# Make the Prediction\n",
        "\n",
        "yhat = model(data_set.x)\n",
        "label = yhat > 0.5\n",
        "print(\"The accuracy: \", torch.mean((label == data_set.y.type(torch.ByteTensor)).type(torch.float)))"
      ],
      "execution_count": null
    },
    {
      "cell_type": "markdown",
      "metadata": {
        "id": "eb6a185d-c459-47aa-902d-fc1eb2bd6ace"
      },
      "source": [
        "The accuracy is perfect.\n"
      ]
    },
    {
      "cell_type": "markdown",
      "metadata": {
        "id": "1d43bfb0-ea10-4c54-b3e5-163ac40ee1c0"
      },
      "source": [
        "\n",
        "<a href=\"https://dataplatform.cloud.ibm.com/registration/stepone?utm_medium=Exinfluencer&utm_source=Exinfluencer&utm_content=000026UJ&utm_term=10006555&utm_id=NA-SkillsNetwork-Channel-SkillsNetworkCoursesIBMDeveloperSkillsNetworkDL0110ENSkillsNetwork952-2022-01-01&context=cpdaas&apps=data_science_experience%2Cwatson_machine_learning\"><img src=\"https://cf-courses-data.s3.us.cloud-object-storage.appdomain.cloud/IBMDeveloperSkillsNetwork-DL0110EN-SkillsNetwork/Template/module%201/images/Watson_Studio.png\"></a>\n"
      ]
    },
    {
      "cell_type": "markdown",
      "metadata": {
        "id": "0a1d9e6e-0fe5-4a5a-84d1-2c84b7443d19"
      },
      "source": [
        "\n",
        "<!--Empty Space for separating topics-->\n"
      ]
    },
    {
      "cell_type": "markdown",
      "metadata": {
        "id": "538aadca-ce5a-43b3-9384-05763bd28e1c"
      },
      "source": [
        "<h2>About the Authors:</h2> \n",
        "\n",
        "<a href=\"https://www.linkedin.com/in/joseph-s-50398b136/?utm_medium=Exinfluencer&utm_source=Exinfluencer&utm_content=000026UJ&utm_term=10006555&utm_id=NA-SkillsNetwork-Channel-SkillsNetworkCoursesIBMDeveloperSkillsNetworkDL0110ENSkillsNetwork952-2022-01-01\">Joseph Santarcangelo</a> has a PhD in Electrical Engineering, his research focused on using machine learning, signal processing, and computer vision to determine how videos impact human cognition. Joseph has been working for IBM since he completed his PhD. \n"
      ]
    },
    {
      "cell_type": "markdown",
      "metadata": {
        "id": "a6fca5f4-ac69-46ae-9487-a8a0646c6159"
      },
      "source": [
        "Other contributors: <a href=\"https://www.linkedin.com/in/michelleccarey/?utm_medium=Exinfluencer&utm_source=Exinfluencer&utm_content=000026UJ&utm_term=10006555&utm_id=NA-SkillsNetwork-Channel-SkillsNetworkCoursesIBMDeveloperSkillsNetworkDL0110ENSkillsNetwork952-2022-01-01\">Michelle Carey</a>, <a href=\"www.linkedin.com/in/jiahui-mavis-zhou-a4537814a\">Mavis Zhou</a>\n"
      ]
    },
    {
      "cell_type": "markdown",
      "metadata": {
        "id": "ae704ce9-f37f-4eaa-836f-a10a8cd10de8"
      },
      "source": [
        "\n",
        "## Change Log\n",
        "\n",
        "|  Date (YYYY-MM-DD) |  Version | Changed By  |  Change Description |\n",
        "|---|---|---|---|\n",
        "| 2020-09-23  | 2.0  | Shubham  |  Migrated Lab to Markdown and added to course repo in GitLab |\n",
        "\n"
      ]
    },
    {
      "cell_type": "markdown",
      "metadata": {
        "id": "89ac7284-51ed-4071-86a8-afe6f89cb874"
      },
      "source": [
        "<hr>\n"
      ]
    },
    {
      "cell_type": "markdown",
      "metadata": {
        "id": "fdfcb77c-0966-40cb-a943-6c215f75ec36"
      },
      "source": [
        "## <h3 align=\"center\"> © IBM Corporation 2020. All rights reserved. <h3/>\n"
      ]
    }
  ],
  "metadata": {
    "kernelspec": {
      "display_name": "Python",
      "language": "python",
      "name": "conda-env-python-py"
    },
    "language_info": {
      "name": ""
    },
    "colab": {
      "provenance": [],
      "include_colab_link": true
    }
  },
  "nbformat": 4,
  "nbformat_minor": 0
}